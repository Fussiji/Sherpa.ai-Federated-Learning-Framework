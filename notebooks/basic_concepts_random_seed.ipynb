{
 "cells": [
  {
   "cell_type": "markdown",
   "metadata": {},
   "source": [
    "# Federated learning: Simple experiment with seed\n",
    "\n",
    "In this notebook we provide a simple example of how to make an experiment of a federated environment with the help of this framework. We are going to use a popular dataset to start the experimentation in a federated environment. The framework provides some functions to load the [Emnist](https://www.nist.gov/itl/products-and-services/emnist-dataset) Digits dataset.\n",
    "\n",
    "This notebook is a copy of [Basic Concept](./basic_concepts.ipynb) notebook. The difference is that here we set a seed using [Reproducibility](../shfl/private/reproducibility.py) Singleton Class in order to ensure de reproducibility of the experiment. If you execute this experiment many times, you should obtain the same results."
   ]
  },
  {
   "cell_type": "code",
   "execution_count": 1,
   "metadata": {},
   "outputs": [
    {
     "name": "stderr",
     "output_type": "stream",
     "text": [
      "Using TensorFlow backend.\n"
     ]
    },
    {
     "data": {
      "text/plain": [
       "<shfl.private.reproducibility.Reproducibility at 0x7f47a869e990>"
      ]
     },
     "execution_count": 1,
     "metadata": {},
     "output_type": "execute_result"
    }
   ],
   "source": [
    "from shfl.private.reproducibility import Reproducibility\n",
    "\n",
    "# Server\n",
    "Reproducibility(1234)\n",
    "\n",
    "# In case of client\n",
    "# Reproducibility.getInstance().set_seed(ID)"
   ]
  },
  {
   "cell_type": "code",
   "execution_count": 2,
   "metadata": {
    "pycharm": {
     "is_executing": false
    }
   },
   "outputs": [],
   "source": [
    "import matplotlib.pyplot as plt\n",
    "import shfl\n",
    "\n",
    "database = shfl.data_base.Emnist()\n",
    "train_data, train_labels, val_data, val_labels, test_data, test_labels = database.load_data()"
   ]
  },
  {
   "cell_type": "markdown",
   "metadata": {},
   "source": [
    "Let's inspect some properties of the loaded data."
   ]
  },
  {
   "cell_type": "code",
   "execution_count": 3,
   "metadata": {
    "pycharm": {
     "is_executing": false
    }
   },
   "outputs": [
    {
     "name": "stdout",
     "output_type": "stream",
     "text": [
      "200000\n",
      "40000\n",
      "40000\n",
      "<class 'numpy.ndarray'>\n"
     ]
    },
    {
     "data": {
      "text/plain": [
       "(28, 28)"
      ]
     },
     "execution_count": 3,
     "metadata": {},
     "output_type": "execute_result"
    }
   ],
   "source": [
    "print(len(train_data))\n",
    "print(len(val_data))\n",
    "print(len(test_data))\n",
    "print(type(train_data[0]))\n",
    "train_data[0].shape"
   ]
  },
  {
   "cell_type": "markdown",
   "metadata": {},
   "source": [
    "So, as we have seen, our dataset is composed by a set of matrixes of 28 by 28. Before starting with the federated scenario, we can take a look to a sample in the training data."
   ]
  },
  {
   "cell_type": "code",
   "execution_count": 4,
   "metadata": {
    "pycharm": {
     "is_executing": false
    }
   },
   "outputs": [
    {
     "data": {
      "text/plain": [
       "<matplotlib.image.AxesImage at 0x7f4755dc0bd0>"
      ]
     },
     "execution_count": 4,
     "metadata": {},
     "output_type": "execute_result"
    },
    {
     "data": {
      "image/png": "[encoded data removed]",
      "text/plain": [
       "<Figure size 432x288 with 1 Axes>"
      ]
     },
     "metadata": {
      "needs_background": "light"
     },
     "output_type": "display_data"
    }
   ],
   "source": [
    "plt.imshow(train_data[0])"
   ]
  },
  {
   "cell_type": "markdown",
   "metadata": {},
   "source": [
    "We are going to simulate a federated learning scenario with a set of client nodes containing private data, and a central server that will be responsible to coordinate the different clients. But, first of all, we have to simulate the data contained in every client. In order to do that, we are going to use the previous dataset loaded. The assumption in this example will be the data is distributed as a set of independent and identically distributed random variables, having every node more o less the same amount of data. There are a set of different posibilities in order to distribute the data. The distribution of the data is one of the factors that could impact more to a federated algorithm. Therefore, the framework contains the implementation of some of the most common distributions that allow you to experiment different situations easily. In [Federated Sampling](./federated_sampling.ipynb) you can dig into the options that the framework provides at the moment."
   ]
  },
  {
   "cell_type": "code",
   "execution_count": 5,
   "metadata": {
    "pycharm": {
     "is_executing": false
    }
   },
   "outputs": [],
   "source": [
    "iid_distribution = shfl.data_distribution.IidDataDistribution(database)\n",
    "federated_data, test_data, test_labels = iid_distribution.get_federated_data(num_nodes=20, percent=10)"
   ]
  },
  {
   "cell_type": "markdown",
   "metadata": {},
   "source": [
    "That's it! We have created federated data from the Emnist dataset using 20 nodes and 10 percent of the available data. This data is distributed to a set of data nodes in the form of private data. Let's learn a little moer about the federated data."
   ]
  },
  {
   "cell_type": "code",
   "execution_count": 6,
   "metadata": {
    "pycharm": {
     "is_executing": false
    }
   },
   "outputs": [
    {
     "name": "stdout",
     "output_type": "stream",
     "text": [
      "<class 'shfl.private.federated_operation.FederatedData'>\n",
      "20\n",
      "Node private data, you can see the data for debug purposes but the data remains in the node\n",
      "<class 'dict'>\n",
      "{'139944360039568': <shfl.private.data.LabeledData object at 0x7f4755d72950>}\n"
     ]
    }
   ],
   "source": [
    "print(type(federated_data))\n",
    "print(federated_data.num_nodes())\n",
    "federated_data[0].private_data"
   ]
  },
  {
   "cell_type": "markdown",
   "metadata": {},
   "source": [
    "As we can see, private data in a node is not accesible directly but the framework provides mechanisms to use this data in a machine learning model. A federated learning algorithm is defined by a machine learning model locally deployed in each node that learns from the respective node’s private data and an aggregating mechanism to aggregate the different model parameters uploaded by the client nodes to a central node. In this example we will use a deep learning model using keras to build it. The framework provides classes to allow using Tensorflow (see [Basic Concepts Tensorflow](./basic_concepts_tensorflow.ipynb)) and Keras model into a federated learning scenario, your job is only to create a function acting as model builder. Moreover, the framework provides classes to allow using pretrained Tensorflow and Keras models (see [Basic Concepts Pretrained Models](./basic_concepts_pretrained.ipynb)). In this example build a Keras learning model.  "
   ]
  },
  {
   "cell_type": "code",
   "execution_count": 7,
   "metadata": {
    "pycharm": {
     "is_executing": false
    }
   },
   "outputs": [],
   "source": [
    "import keras\n",
    "\n",
    "def model_builder():\n",
    "    model = keras.models.Sequential()\n",
    "    model.add(keras.layers.Conv2D(32, kernel_size=(3, 3), padding='same', activation='relu', strides=1, input_shape=(28, 28, 1)))\n",
    "    model.add(keras.layers.MaxPooling2D(pool_size=2, strides=2, padding='valid'))\n",
    "    model.add(keras.layers.Dropout(0.4))\n",
    "    model.add(keras.layers.Conv2D(32, kernel_size=(3, 3), padding='same', activation='relu', strides=1))\n",
    "    model.add(keras.layers.MaxPooling2D(pool_size=2, strides=2, padding='valid'))\n",
    "    model.add(keras.layers.Dropout(0.3))\n",
    "    model.add(keras.layers.Flatten())\n",
    "    model.add(keras.layers.Dense(128, activation='relu'))\n",
    "    model.add(keras.layers.Dropout(0.1))\n",
    "    model.add(keras.layers.Dense(64, activation='relu'))\n",
    "    model.add(keras.layers.Dense(10, activation='softmax'))\n",
    "\n",
    "    model.compile(optimizer=\"rmsprop\", loss=\"categorical_crossentropy\", metrics=[\"accuracy\"])\n",
    "    \n",
    "    return shfl.model.DeepLearningModel(model)"
   ]
  },
  {
   "cell_type": "markdown",
   "metadata": {},
   "source": [
    "Now, the only piece missing is the aggregation operator. Nevertheless, the framework provides some aggregation operators that we can use. In the following piece of code we define the federated aggregation mechanism. Moreover, we define de federated goverment based on the keras learning model, the federated data and the aggregation mechanism."
   ]
  },
  {
   "cell_type": "code",
   "execution_count": 8,
   "metadata": {
    "pycharm": {
     "is_executing": false
    }
   },
   "outputs": [],
   "source": [
    "aggregator = shfl.federated_aggregator.AvgFedAggregator()\n",
    "federated_government = shfl.learning_approach.FederatedGovernment(model_builder, federated_data, aggregator)"
   ]
  },
  {
   "cell_type": "markdown",
   "metadata": {},
   "source": [
    "If you want to see all the aggregation operators you can follow the following notebook [Federated Aggregation Operators](./aggregation_operators.ipynb). Before running the algorithm, we want to apply a transformation to the data. The good practise to do that is to define a federated operation that will ensure that the transformation is applied to the federated data in all the client nodes. We want to reshape the data, so we define the following FederatedTransformation."
   ]
  },
  {
   "cell_type": "code",
   "execution_count": 9,
   "metadata": {
    "pycharm": {
     "is_executing": false
    }
   },
   "outputs": [],
   "source": [
    "import numpy as np\n",
    "\n",
    "class Reshape(shfl.private.FederatedTransformation):\n",
    "    \n",
    "    def apply(self, labeled_data):\n",
    "        labeled_data.data = np.reshape(labeled_data.data, (labeled_data.data.shape[0], labeled_data.data.shape[1], labeled_data.data.shape[2],1))\n",
    "        \n",
    "shfl.private.federated_operation.apply_federated_transformation(federated_data, Reshape())"
   ]
  },
  {
   "cell_type": "markdown",
   "metadata": {},
   "source": [
    "In addition, we want to normalize the data. We define a federated transformation using mean and standard deviation (std) parameters. We use mean and std estimated from the training set in this example. Although the ideal parameters would be an aggregation of the mean and std of each client's training datasets, we use the mean and std of the global dataset as a simple approximation."
   ]
  },
  {
   "cell_type": "code",
   "execution_count": 10,
   "metadata": {
    "pycharm": {
     "is_executing": false,
     "name": "#%%\n"
    }
   },
   "outputs": [],
   "source": [
    "import numpy as np\n",
    "\n",
    "class Normalize(shfl.private.FederatedTransformation):\n",
    "    \n",
    "    def __init__(self, mean, std):\n",
    "        self.__mean = mean\n",
    "        self.__std = std\n",
    "    \n",
    "    def apply(self, labeled_data):\n",
    "        labeled_data.data = (labeled_data.data - self.__mean)/self.__std\n",
    "        \n",
    "        \n",
    "mean = np.mean(train_data.data)\n",
    "std = np.std(train_data.data)\n",
    "shfl.private.federated_operation.apply_federated_transformation(federated_data, Normalize(mean, std))"
   ]
  },
  {
   "cell_type": "markdown",
   "metadata": {},
   "source": [
    "We are now ready to execute our federated learning algorithm."
   ]
  },
  {
   "cell_type": "code",
   "execution_count": 11,
   "metadata": {
    "pycharm": {
     "is_executing": true
    }
   },
   "outputs": [
    {
     "name": "stdout",
     "output_type": "stream",
     "text": [
      "Accuracy round 0\n",
      "Test performance client <shfl.private.federated_operation.FederatedDataNode object at 0x7f4755d27590>: [25.62013853740692, 0.7350999712944031]\n",
      "Test performance client <shfl.private.federated_operation.FederatedDataNode object at 0x7f4755d72a90>: [25.226747469520568, 0.6887249946594238]\n",
      "Test performance client <shfl.private.federated_operation.FederatedDataNode object at 0x7f4755d72210>: [32.713278083992, 0.6582249999046326]\n",
      "Test performance client <shfl.private.federated_operation.FederatedDataNode object at 0x7f4755d7bb50>: [29.18368230304718, 0.6477500200271606]\n",
      "Test performance client <shfl.private.federated_operation.FederatedDataNode object at 0x7f4755d7b9d0>: [44.05608992080688, 0.5671749711036682]\n",
      "Test performance client <shfl.private.federated_operation.FederatedDataNode object at 0x7f4755d337d0>: [48.94080881652832, 0.5511500239372253]\n",
      "Test performance client <shfl.private.federated_operation.FederatedDataNode object at 0x7f4755d33c10>: [22.350650508308412, 0.7308250069618225]\n",
      "Test performance client <shfl.private.federated_operation.FederatedDataNode object at 0x7f4755d33ad0>: [31.303428937149047, 0.7164499759674072]\n",
      "Test performance client <shfl.private.federated_operation.FederatedDataNode object at 0x7f4755d33310>: [42.22267470397949, 0.5771250128746033]\n",
      "Test performance client <shfl.private.federated_operation.FederatedDataNode object at 0x7f4755d33290>: [30.212152597522735, 0.7129499912261963]\n",
      "Test performance client <shfl.private.federated_operation.FederatedDataNode object at 0x7f4755da84d0>: [38.14655318069458, 0.5478000044822693]\n",
      "Test performance client <shfl.private.federated_operation.FederatedDataNode object at 0x7f4755da8d50>: [16.154900278955697, 0.7884500026702881]\n",
      "Test performance client <shfl.private.federated_operation.FederatedDataNode object at 0x7f4755da87d0>: [39.859651373291015, 0.6069750189781189]\n",
      "Test performance client <shfl.private.federated_operation.FederatedDataNode object at 0x7f4755da8e90>: [24.889485311508178, 0.680899977684021]\n",
      "Test performance client <shfl.private.federated_operation.FederatedDataNode object at 0x7f4755da8190>: [40.41592174797058, 0.5382999777793884]\n",
      "Test performance client <shfl.private.federated_operation.FederatedDataNode object at 0x7f4755d88f50>: [39.622767949676515, 0.5788750052452087]\n",
      "Test performance client <shfl.private.federated_operation.FederatedDataNode object at 0x7f4755d88ad0>: [35.62404588432312, 0.6202750205993652]\n",
      "Test performance client <shfl.private.federated_operation.FederatedDataNode object at 0x7f4755d886d0>: [71.21013895111084, 0.5013999938964844]\n",
      "Test performance client <shfl.private.federated_operation.FederatedDataNode object at 0x7f4755d88750>: [21.896610128593444, 0.6818000078201294]\n",
      "Test performance client <shfl.private.federated_operation.FederatedDataNode object at 0x7f4755d3bc90>: [22.217284706115723, 0.6611250042915344]\n",
      "Global model test performance : [15.36967563829422, 0.7032750248908997]\n",
      "\n",
      "\n",
      "\n",
      "Accuracy round 1\n",
      "Test performance client <shfl.private.federated_operation.FederatedDataNode object at 0x7f4755d27590>: [22.57038633425969, 0.8043000102043152]\n",
      "Test performance client <shfl.private.federated_operation.FederatedDataNode object at 0x7f4755d72a90>: [25.03555957501239, 0.7944499850273132]\n",
      "Test performance client <shfl.private.federated_operation.FederatedDataNode object at 0x7f4755d72210>: [54.064802117919925, 0.6299499869346619]\n",
      "Test performance client <shfl.private.federated_operation.FederatedDataNode object at 0x7f4755d7bb50>: [20.493336685171816, 0.8178499937057495]\n",
      "Test performance client <shfl.private.federated_operation.FederatedDataNode object at 0x7f4755d7b9d0>: [26.768989010810852, 0.7771499752998352]\n",
      "Test performance client <shfl.private.federated_operation.FederatedDataNode object at 0x7f4755d337d0>: [54.13466706428528, 0.6431000232696533]\n",
      "Test performance client <shfl.private.federated_operation.FederatedDataNode object at 0x7f4755d33c10>: [19.325545258874957, 0.8308500051498413]\n",
      "Test performance client <shfl.private.federated_operation.FederatedDataNode object at 0x7f4755d33ad0>: [36.16078737103939, 0.7274749875068665]\n",
      "Test performance client <shfl.private.federated_operation.FederatedDataNode object at 0x7f4755d33310>: [44.062831625747684, 0.6707000136375427]\n",
      "Test performance client <shfl.private.federated_operation.FederatedDataNode object at 0x7f4755d33290>: [29.055459377104043, 0.8072749972343445]\n",
      "Test performance client <shfl.private.federated_operation.FederatedDataNode object at 0x7f4755da84d0>: [46.046983434295655, 0.6577749848365784]\n",
      "Test performance client <shfl.private.federated_operation.FederatedDataNode object at 0x7f4755da8d50>: [18.216809128363597, 0.8241750001907349]\n",
      "Test performance client <shfl.private.federated_operation.FederatedDataNode object at 0x7f4755da87d0>: [27.33535780037141, 0.7669749855995178]\n",
      "Test performance client <shfl.private.federated_operation.FederatedDataNode object at 0x7f4755da8e90>: [21.635921526765824, 0.7963250279426575]\n",
      "Test performance client <shfl.private.federated_operation.FederatedDataNode object at 0x7f4755da8190>: [42.222631978988645, 0.710349977016449]\n",
      "Test performance client <shfl.private.federated_operation.FederatedDataNode object at 0x7f4755d88f50>: [42.06835495605469, 0.6732500195503235]\n",
      "Test performance client <shfl.private.federated_operation.FederatedDataNode object at 0x7f4755d88ad0>: [30.429496724891663, 0.7648500204086304]\n",
      "Test performance client <shfl.private.federated_operation.FederatedDataNode object at 0x7f4755d886d0>: [30.968487402907012, 0.758650004863739]\n",
      "Test performance client <shfl.private.federated_operation.FederatedDataNode object at 0x7f4755d88750>: [31.799955951929093, 0.7297750115394592]\n",
      "Test performance client <shfl.private.federated_operation.FederatedDataNode object at 0x7f4755d3bc90>: [20.680894467398524, 0.8075249791145325]\n",
      "Global model test performance : [19.1267914265353, 0.8231250047683716]\n",
      "\n",
      "\n",
      "\n",
      "Accuracy round 2\n",
      "Test performance client <shfl.private.federated_operation.FederatedDataNode object at 0x7f4755d27590>: [31.403544988681467, 0.7547749876976013]\n",
      "Test performance client <shfl.private.federated_operation.FederatedDataNode object at 0x7f4755d72a90>: [34.44457347755432, 0.7809500098228455]\n",
      "Test performance client <shfl.private.federated_operation.FederatedDataNode object at 0x7f4755d72210>: [64.8848894317627, 0.663474977016449]\n",
      "Test performance client <shfl.private.federated_operation.FederatedDataNode object at 0x7f4755d7bb50>: [27.534673787689208, 0.777649998664856]\n",
      "Test performance client <shfl.private.federated_operation.FederatedDataNode object at 0x7f4755d7b9d0>: [39.36269362602234, 0.7063500285148621]\n",
      "Test performance client <shfl.private.federated_operation.FederatedDataNode object at 0x7f4755d337d0>: [32.853411004447935, 0.7417500019073486]\n",
      "Test performance client <shfl.private.federated_operation.FederatedDataNode object at 0x7f4755d33c10>: [14.236799463170858, 0.8715000152587891]\n",
      "Test performance client <shfl.private.federated_operation.FederatedDataNode object at 0x7f4755d33ad0>: [54.3943368844986, 0.7251499891281128]\n",
      "Test performance client <shfl.private.federated_operation.FederatedDataNode object at 0x7f4755d33310>: [36.75179007320404, 0.7245500087738037]\n",
      "Test performance client <shfl.private.federated_operation.FederatedDataNode object at 0x7f4755d33290>: [53.11693313713074, 0.6800249814987183]\n",
      "Test performance client <shfl.private.federated_operation.FederatedDataNode object at 0x7f4755da84d0>: [21.20466908411209, 0.812624990940094]\n",
      "Test performance client <shfl.private.federated_operation.FederatedDataNode object at 0x7f4755da8d50>: [20.443143460734394, 0.8184499740600586]\n",
      "Test performance client <shfl.private.federated_operation.FederatedDataNode object at 0x7f4755da87d0>: [35.09431717414856, 0.7352250218391418]\n",
      "Test performance client <shfl.private.federated_operation.FederatedDataNode object at 0x7f4755da8e90>: [38.07684884252548, 0.7545999884605408]\n",
      "Test performance client <shfl.private.federated_operation.FederatedDataNode object at 0x7f4755da8190>: [40.853992615509036, 0.7601749897003174]\n",
      "Test performance client <shfl.private.federated_operation.FederatedDataNode object at 0x7f4755d88f50>: [40.70000788412094, 0.7332500219345093]\n"
     ]
    },
    {
     "name": "stdout",
     "output_type": "stream",
     "text": [
      "Test performance client <shfl.private.federated_operation.FederatedDataNode object at 0x7f4755d88ad0>: [42.98323505706787, 0.7193250060081482]\n",
      "Test performance client <shfl.private.federated_operation.FederatedDataNode object at 0x7f4755d886d0>: [53.08043603744507, 0.6759499907493591]\n",
      "Test performance client <shfl.private.federated_operation.FederatedDataNode object at 0x7f4755d88750>: [28.76791482043266, 0.7645249962806702]\n",
      "Test performance client <shfl.private.federated_operation.FederatedDataNode object at 0x7f4755d3bc90>: [27.481977243623138, 0.779325008392334]\n",
      "Global model test performance : [27.214288069947774, 0.795324981212616]\n",
      "\n",
      "\n",
      "\n"
     ]
    }
   ],
   "source": [
    "test_data = np.reshape(test_data, (test_data.shape[0], test_data.shape[1], test_data.shape[2],1))\n",
    "federated_government.run_rounds(3, test_data, test_labels)"
   ]
  }
 ],
 "metadata": {
  "kernelspec": {
   "display_name": "Python (keras)",
   "language": "python",
   "name": "keras"
  },
  "language_info": {
   "codemirror_mode": {
    "name": "ipython",
    "version": 3
   },
   "file_extension": ".py",
   "mimetype": "text/x-python",
   "name": "python",
   "nbconvert_exporter": "python",
   "pygments_lexer": "ipython3",
   "version": "3.7.6"
  },
  "pycharm": {
   "stem_cell": {
    "cell_type": "raw",
    "metadata": {
     "collapsed": false
    },
    "source": []
   }
  }
 },
 "nbformat": 4,
 "nbformat_minor": 2
}
