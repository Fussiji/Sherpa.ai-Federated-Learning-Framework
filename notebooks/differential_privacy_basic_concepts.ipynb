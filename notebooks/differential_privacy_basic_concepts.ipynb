{
 "cells": [
  {
   "cell_type": "markdown",
   "metadata": {},
   "source": [
    "# Differential privacy basic concepts\n",
    "\n",
    "There is a common situation is sociology where a researcher wants to develop a study about certain property on a population. The point is that this property is very sensitive and must remain private because could be embarrassing or illegal. However the researcher is able to get insights about the population without compromising their privacy. There is a simple mechanism in which every person follows a randomization algorithm that provides \"plausible deniability\". Suppose the following algorithm described by [Dwork].\n",
    "\n",
    "1.- Flip a coin.\n",
    "\n",
    "2.- If tails, then respond truthfully.\n",
    "\n",
    "3.- If heads, then flip a second coin and respond \"Yes\" if heads and \"No\" if tails.\n",
    "\n",
    "Even if the user answers \"Yes\", he could argue that this was due to the randomization algorithm and that this is not the true answer.\n",
    "\n",
    "Imagine now that the researcher wants to use the previous algorithm to estimate the average number of people that have broken a particular law. The interesting point here is that we are able to obtain a very good approximation of the value preserving the privacy of every individual. Let's see a concrete example to get more familiar with the situation.\n",
    "\n",
    "First of all we are going to generate a binary random vector with a concrete mean given by $p$."
   ]
  },
  {
   "cell_type": "code",
   "execution_count": 1,
   "metadata": {},
   "outputs": [
    {
     "name": "stderr",
     "output_type": "stream",
     "text": [
      "Using TensorFlow backend.\n"
     ]
    },
    {
     "data": {
      "text/plain": [
       "0.2022"
      ]
     },
     "execution_count": 1,
     "metadata": {},
     "output_type": "execute_result"
    }
   ],
   "source": [
    "import numpy as np\n",
    "import matplotlib.pyplot as plt\n",
    "import shfl\n",
    "\n",
    "p = 0.2\n",
    "data_size = 10000\n",
    "array = np.random.binomial(1,p,size=data_size)\n",
    "np.mean(array)"
   ]
  },
  {
   "cell_type": "markdown",
   "metadata": {},
   "source": [
    "Let's suppose that every number represents whether the person has broken the law or not. Now we are going to generate federated data from this array. Every node is going to have a number, simulating information in their mobile device for example."
   ]
  },
  {
   "cell_type": "code",
   "execution_count": 2,
   "metadata": {},
   "outputs": [],
   "source": [
    "federated_array = shfl.core.federated_operation.federate_array(\"broken_law_data\", array, data_size)"
   ]
  },
  {
   "cell_type": "markdown",
   "metadata": {},
   "source": [
    "Now, we want that every node executes the previously defined algorithm and returns the result."
   ]
  },
  {
   "cell_type": "code",
   "execution_count": 3,
   "metadata": {},
   "outputs": [],
   "source": [
    "from shfl.core import DataAccessDefinition\n",
    "from shfl.core import RandomizeBinaryProperty\n",
    "\n",
    "# Define allowed access to data. \n",
    "data_access_definition = DataAccessDefinition(dp_mechanism=RandomizeBinaryProperty())\n",
    "federated_array.configure_data_access(data_access_definition)\n",
    "\n",
    "# Query data\n",
    "result = federated_array.query()"
   ]
  },
  {
   "cell_type": "markdown",
   "metadata": {},
   "source": [
    "Let's compare the mean from original vector and the returned vector."
   ]
  },
  {
   "cell_type": "code",
   "execution_count": 4,
   "metadata": {},
   "outputs": [
    {
     "name": "stdout",
     "output_type": "stream",
     "text": [
      "Generated binary vector with mean: 0.2022\n",
      "Differencial query mean result: 0.347\n"
     ]
    }
   ],
   "source": [
    "print(\"Generated binary vector with mean: \" + str(np.mean(array)))\n",
    "print(\"Differential query mean result: \" + str(np.mean(result)))"
   ]
  },
  {
   "cell_type": "markdown",
   "metadata": {},
   "source": [
    "What happened? Obviously, applying the randomization algorithm we have modified the true mean of the vector. We need to remove the influence of this to get the correct result. Fortunately, we can reverse the process to get a good estimation.\n",
    "\n",
    "We are introducing noise half of the time with mean 0.5. So the expected value will be:\n",
    "\n",
    "mean = real mean * 0.5 + random mean * 0.5"
   ]
  },
  {
   "cell_type": "code",
   "execution_count": 5,
   "metadata": {},
   "outputs": [
    {
     "data": {
      "text/plain": [
       "0.35109999999999997"
      ]
     },
     "execution_count": 5,
     "metadata": {},
     "output_type": "execute_result"
    }
   ],
   "source": [
    "np.mean(array) * 0.5 + 0.5*0.5"
   ]
  },
  {
   "cell_type": "markdown",
   "metadata": {},
   "source": [
    "Pretty close. Isn't it? To get the real mean value we only need to use the following expression:\n",
    "\n",
    "real mean = (mean - random mean * 0.5)/0.5"
   ]
  },
  {
   "cell_type": "code",
   "execution_count": 6,
   "metadata": {},
   "outputs": [
    {
     "data": {
      "text/plain": [
       "0.19399999999999995"
      ]
     },
     "execution_count": 6,
     "metadata": {},
     "output_type": "execute_result"
    }
   ],
   "source": [
    "(np.mean(result) - 0.5*0.5)/0.5"
   ]
  },
  {
   "cell_type": "markdown",
   "metadata": {},
   "source": [
    "Right! We have obtained a number very similar to the truth. However, of course, introducing randomness is not free and we have introduced an error. In the next sections we are going to formalize this and study the effect of the population size, and the privacy in the algorithm."
   ]
  },
  {
   "cell_type": "markdown",
   "metadata": {},
   "source": [
    "## Differential Privacy definition\n",
    "We introduce the notion of differential privacy [Dwork].\n",
    "\n",
    "Let $\\mathcal X$ be the set of possible rows in a database so that we can represent a particular database by a histogram $x\\in\\mathbb N^{|\\mathcal X|}$. A randomized algorithm is a collection of conditional probabilities $P(z| x)$ for all $x$ and $z\\in \\mathcal Z$, where $\\mathcal Z$ is the response space.\n",
    "\n",
    "Differential privacy is a property of some randomized algorithms. in particular, a randomized algorithm is $\\epsilon$-differentially private if, for all $z\\in \\mathcal Z$,\n",
    "\n",
    "$$\n",
    "\\frac{P(z|x)}{P(z|y)}\\le e^\\epsilon\n",
    "$$\n",
    " \n",
    "for all databases $x, y \\in\\mathbb N^{|\\mathcal X|}$ such that $||x-y||_1=1$. In words, this definition means that for any pair of similar databases, the probability of getting the same result after randomization is similar."
   ]
  },
  {
   "cell_type": "markdown",
   "metadata": {},
   "source": [
    "## Digging into the Randomized Response\n",
    "Let's get back to sociological studies.\n",
    "\n",
    "Suppose a group of $N$ people take part in a study that wants to estimate the proportion of the population that commits fraud when paying their taxes. Since this is a crime, the participants might be worried about the consequences of telling the truth, so they are told to follow the algorithm described previously.\n",
    "\n",
    "This procedure is, in fact, an $\\epsilon$-differentially private randomized mechanism. In particular, we have that\n",
    "\n",
    "$$\n",
    "P(\\text{respond yes} | \\text{actual yes}) = \\frac{3}{4}\\qquad \\qquad P(\\text{respond no} | \\text{actual yes}) = \\frac{1}{4}\\\\\n",
    "P(\\text{respond yes} | \\text{actual no}) = \\frac{1}{4}\\qquad \\qquad P(\\text{respond no} | \\text{actual no}) = \\frac{3}{4}\\,,\n",
    "$$\n",
    "\n",
    "and a direct computation shows that $\\epsilon = \\log(3)$.\n",
    "\n",
    "The probability of responding \"Yes\" is given by\n",
    "\n",
    "$$\n",
    "P(\\text{respond yes}) = \\frac{1}{4} + \\frac{p}{2}\n",
    "$$\n",
    "\n",
    "where $p = P(\\text{actual yes})$ is the quantity that wants to be estimated. Using that $P(\\text{respond yes})$ is estimated to be $r_P = \\frac{\\#{\\text{(respond yes)}}}{N}$, we have an estimate for the proportion of the population that commits fraud, namely\n",
    "\n",
    "$$\n",
    "\\hat p = 2r_P - \\frac{1}{2}\\,.\n",
    "$$"
   ]
  },
  {
   "cell_type": "markdown",
   "metadata": {},
   "source": [
    "### Trade-off between accuracy and privacy\n",
    "\n",
    "Now, we are going to create a set of useful functions to execute some experiments and try to understand better the behavior of the previous expressions. The framework provides an implementation of this algorithm using two parameters, the probabilities of getting \"heads\" in each of the two coins. For simplicity, we are going to consider the case in which the first coin is biased but the second one remains fair.\n",
    "\n",
    "More explicitly, we consider the conditional probabilities given by\n",
    "\n",
    "$$\n",
    "P(\\text{respond yes} | \\text{actual yes}) = f \\\\\n",
    "P(\\text{respond yes} | \\text{actual no}) = 1-f \\,.\n",
    "$$\n",
    "\n",
    "with $f\\in [1/2,1]$. This corresponds to taking the first coin with $p({\\rm heads}) = 2(1-f)$ and the second coin to be unbiased. In this case we have that the amount of privacy depends on the bias of the first coin,\n",
    "\n",
    "$$\n",
    "\\epsilon = \\log \\frac{f}{1-f}\\,.\n",
    "$$\n",
    "\n",
    "For $f=1/2$, we have that $\\epsilon = 0$ and the algorithm is maximally private. On the other hand, for $f = 1$, $\\epsilon$ tends to infinity, so the algorithm is not private at all.\n",
    "\n",
    "The relation between the number of positive responses and $p$ is given by\n",
    "\n",
    "$$\n",
    "\\hat p = \\frac{r_P + f - 1}{2f-1}\\,.\n",
    "$$\n",
    "\n",
    "In order to properly see the trade-off between utility and privacy, we may look at the uncertainty of the estimate, which is given by\n",
    "\n",
    "$$\n",
    "\\Delta p = \\frac{2}{2f-1}\\sqrt{\\frac{r_P(1-r_P)}{N}}\\,.\n",
    "$$\n",
    "\n",
    "This expression shows that, as the privacy increases ($f$ approaches $1/2$), the uncertainty of the estimate increases. On the other hand, for $f=1$, the uncertainty of the estimate is purely due to the finite size of the sample. In general, we see that the price we pay for being private is in accuracy of the estimate (for a fixed sample size). (The expression for the uncertainty is computed using the normal approximation to the error of a binomial distribution.)"
   ]
  },
  {
   "cell_type": "code",
   "execution_count": 7,
   "metadata": {},
   "outputs": [],
   "source": [
    "def get_prob_from_epsilon(epsilon):\n",
    "    f = np.exp(epsilon) / (1 + np.exp(epsilon))\n",
    "    return 2*(1-f)"
   ]
  },
  {
   "cell_type": "markdown",
   "metadata": {},
   "source": [
    "We also define the uncertainty function."
   ]
  },
  {
   "cell_type": "code",
   "execution_count": 8,
   "metadata": {},
   "outputs": [],
   "source": [
    "def uncertainty(dp_mean, n, epsilon):\n",
    "    f = np.exp(epsilon) / (1 + np.exp(epsilon))\n",
    "    estimation_uncertainty = 2/(2*f-1) * np.sqrt(dp_mean*(1-dp_mean) / n)\n",
    "    return estimation_uncertainty"
   ]
  },
  {
   "cell_type": "markdown",
   "metadata": {},
   "source": [
    "Finally, we define a function to execute the experiments $n_{runs}$ times so that we can study the average behavior."
   ]
  },
  {
   "cell_type": "code",
   "execution_count": 9,
   "metadata": {},
   "outputs": [],
   "source": [
    "def experiment(epsilon, p, size):\n",
    "    array = np.random.binomial(1,p,size=size)\n",
    "    federated_array = shfl.core.federated_operation.federate_array(\"fraudulent_data\", array, size)\n",
    "    \n",
    "    prob = get_prob_from_epsilon(epsilon)\n",
    "    # Define allowed access to data. \n",
    "    data_access_definition = DataAccessDefinition(dp_mechanism=RandomizeBinaryProperty(prob_head_first=prob))\n",
    "    federated_array.configure_data_access(data_access_definition)\n",
    "    # Query data\n",
    "    result = federated_array.query()\n",
    "    \n",
    "    estimated_mean = (np.mean(result) - prob * 0.5)/(1-prob)\n",
    "    estimation_uncertainty = uncertainty(np.mean(result), size, epsilon)\n",
    "    return estimated_mean, estimation_uncertainty\n",
    "\n",
    "def run_n_experiments(epsilon, p, size, n_runs):\n",
    "    uncertainties = 0\n",
    "    p_est = 0\n",
    "    for i in range(n_runs):\n",
    "        estimated_mean, uncertainty = experiment(epsilon,p,size)\n",
    "        p_est = p_est + estimated_mean\n",
    "        uncertainties = uncertainties + uncertainty\n",
    "    p_est = p_est / n_runs\n",
    "    uncertainties = uncertainties / n_runs    \n",
    "    return p_est, uncertainties"
   ]
  },
  {
   "cell_type": "markdown",
   "metadata": {},
   "source": [
    "Now, we are going to execute the experiment and save the results."
   ]
  },
  {
   "cell_type": "code",
   "execution_count": 10,
   "metadata": {},
   "outputs": [],
   "source": [
    "epsilon_range = np.arange(0.001, 10, 0.1)\n",
    "n_range = [100, 500, 2000]\n",
    "p_est = np.zeros((len(n_range), len(epsilon_range)))\n",
    "uncertainties = np.zeros((len(n_range), len(epsilon_range)))\n",
    "for i_n in range(len(n_range)):\n",
    "    for i_e in range(len(epsilon_range)):\n",
    "        p_est_i, uncertainty_i = run_n_experiments(epsilon_range[i_e], p, n_range[i_n], 10)\n",
    "        p_est[i_n, i_e] = p_est_i\n",
    "        uncertainties[i_n, i_e] = uncertainty_i"
   ]
  },
  {
   "cell_type": "markdown",
   "metadata": {},
   "source": [
    "We can visualize the results."
   ]
  },
  {
   "cell_type": "code",
   "execution_count": 11,
   "metadata": {},
   "outputs": [
    {
     "data": {
      "image/png": "[encoded data removed]",
      "text/plain": [
       "<Figure size 1152x432 with 2 Axes>"
      ]
     },
     "metadata": {},
     "output_type": "display_data"
    }
   ],
   "source": [
    "plt.style.use('fivethirtyeight')\n",
    "fig, ax = plt.subplots(nrows=1, ncols=2, figsize=(16,6))\n",
    "for i_n in range(len(n_range)):\n",
    "    ax[0].plot(epsilon_range, p_est[i_n], label = \"N = \" + str(n_range[i_n]))   \n",
    "ax[0].set_xlabel('$\\epsilon$')\n",
    "ax[0].set_ylabel('$\\hat p$')\n",
    "ax[0].set_xlim([0.2, 10])\n",
    "ax[0].set_ylim([0, 1])\n",
    "        \n",
    "for i_n in range(len(n_range)):\n",
    "    ax[1].plot(epsilon_range, uncertainties[i_n], label = \"N = \" + str(n_range[i_n]))\n",
    "ax[1].set_xlabel('$\\epsilon$')\n",
    "ax[1].set_ylabel('$\\Delta p$')\n",
    "ax[1].set_yscale('log')\n",
    "plt.legend(title = \"\", loc=\"upper right\")\n",
    "plt.show()"
   ]
  }
 ],
 "metadata": {
  "kernelspec": {
   "display_name": "Python 3",
   "language": "python",
   "name": "python3"
  },
  "language_info": {
   "codemirror_mode": {
    "name": "ipython",
    "version": 3
   },
   "file_extension": ".py",
   "mimetype": "text/x-python",
   "name": "python",
   "nbconvert_exporter": "python",
   "pygments_lexer": "ipython3",
   "version": "3.5.3"
  }
 },
 "nbformat": 4,
 "nbformat_minor": 2
}
