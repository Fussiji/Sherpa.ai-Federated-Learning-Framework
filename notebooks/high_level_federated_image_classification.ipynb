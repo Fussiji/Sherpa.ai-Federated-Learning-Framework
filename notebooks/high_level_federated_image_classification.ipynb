{
 "cells": [
  {
   "cell_type": "markdown",
   "metadata": {},
   "source": [
    "# Federated learning: High level image classification\n",
    "\n",
    "In this notebook we show the high-level functionality of the framework. It implements some predefined FL scenarios to make it as easy as possible to use. Clearly, in this predefined simulation there are some parameters prefixed (e.g. the aggregation operator or the learning model). If you prefer to set up your own simulation scenario, please see [Basic Concepts Notebook](./basic_concepts.ipynb) where you will find more detailed information.\n",
    "\n",
    "Specifically, we present the image classifier as follows:\n",
    "\n",
    "<tt> FederatedImagesClassifier(data_base_name, iid=\"True\", num_nodes=20, percent=100) </tt>\n",
    "\n",
    "where *data_base_name* may be one of the following identifiers:\n",
    "\n",
    "- EMNIST: for the [Emnist](https://www.nist.gov/itl/products-and-services/emnist-dataset) Digits dataset. \n",
    "- FASHION_EMNIST: for the [Fashion EMNIST](https://github.com/zalandoresearch/fashion-mnist) database.\n",
    "\n",
    "The rest of the function params correspond to some changable params:\n",
    "\n",
    "- *iid*: you can change between I.I.D (by default *iid=\"True\"*) or non-I.I.D (*iid=\"False\"*) data distributions. In both scenarios, data splitting between clients will be equitable (non weighted) and without replacement (for more information see [Federated Sampling](./federated_sampling.ipynb)).\n",
    "- *num_nodes*: you can choose the number of clients for the simulation by changing the *num_nodes* parameter (by default 20).\n",
    "- *percent*: you decide the percentage of the database that you want to split across the clients by changing the *percent* parameter (by default 100, *percent* $\\in $).\n",
    "\n",
    "\n",
    "Furthermore, you have the posibility of changing the number of rounds of learning that you want to train changing the *n* param (by default 5) of the function call: \n",
    "\n",
    "<tt> run_rounds(n=5) </tt>\n",
    "\n",
    "As FL model, we use a CNN-based neural network architecture based on two CNN layers. Finally, as aggregation operator we use FedAvg (see [Federated Aggregation Operators](./basic_concepts_aggregation_operators.ipynb))\n",
    "\n",
    "For more information about how to change some parameters or implementation details visit [federated_images_classifier.py](../shfl/learning_approach/federated_images_classifier.py)."
   ]
  },
  {
   "cell_type": "code",
   "execution_count": null,
   "metadata": {
    "pycharm": {
     "is_executing": false
    }
   },
   "outputs": [],
   "source": [
    "import shfl\n",
    "\n",
    "classifier = shfl.learning_approach.FederatedImagesClassifier('EMNIST')\n",
    "classifier.run_rounds()"
   ]
  }
 ],
 "metadata": {
  "kernelspec": {
   "display_name": "Python 3",
   "language": "python",
   "name": "python3"
  },
  "language_info": {
   "codemirror_mode": {
    "name": "ipython",
    "version": 3
   },
   "file_extension": ".py",
   "mimetype": "text/x-python",
   "name": "python",
   "nbconvert_exporter": "python",
   "pygments_lexer": "ipython3",
   "version": "3.7.4"
  },
  "pycharm": {
   "stem_cell": {
    "cell_type": "raw",
    "metadata": {
     "collapsed": false
    },
    "source": []
   }
  }
 },
 "nbformat": 4,
 "nbformat_minor": 4
}
