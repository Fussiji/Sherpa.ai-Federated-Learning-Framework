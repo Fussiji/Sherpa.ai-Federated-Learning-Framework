{
 "cells": [
  {
   "cell_type": "markdown",
   "metadata": {},
   "source": [
    "# Federated learning: High level image classification\n",
    "\n",
    "In this notebook we show the high-level functionality of the framework. It implements some predefined FL scenarios to make it as easy as possible to use. Clearly, in this predefined simulation there are some parameters prefixed (e.g. the aggregation mechanism or the number of clients). If you prefer to set up your own simulation scenario, please see [Basic Concepts Notebook](./basic_concepts.ipynb) where you will find more detailed information.\n",
    "\n",
    "Specifically, we present an image classifier in a federated setting with the following default parameters:\n",
    "\n",
    "- Data distribution: IID although you can change it in the function call (for more information see [Federated Sampling](./federated_sampling.ipynb)).\n",
    "- Number of clients: 20.\n",
    "- Percent of the data used: 100\\%.\n",
    "- Federated aggregation Operator: FedAvg (for more information check [Federated Aggregation Operators](./basic_concepts_aggregation_operators.ipynb)).\n",
    "- We use a CNN-based learning model with two CNN layers.\n",
    "- We run 5 rounds of learning although you can change it in the run_rounds() function call.\n",
    "\n",
    "We provide two different databases for image classification identified by the keys:\n",
    "\n",
    "- EMNIST: for the [Emnist](https://www.nist.gov/itl/products-and-services/emnist-dataset) Digits dataset. \n",
    "- FASHION_EMNIST: for the [Fashion EMNIST](https://github.com/zalandoresearch/fashion-mnist) database.\n",
    "\n",
    "For more information about how to change some parameters or implementation details visit [federated_attack.py](../shfl/learning_approach/federated_images_classifier.py)."
   ]
  },
  {
   "cell_type": "code",
   "execution_count": null,
   "metadata": {
    "pycharm": {
     "is_executing": false
    }
   },
   "outputs": [],
   "source": [
    "import shfl\n",
    "\n",
    "classifier = shfl.learning_approach.FederatedImagesClassifier('EMNIST')\n",
    "classifier.run_rounds()"
   ]
  }
 ],
 "metadata": {
  "kernelspec": {
   "display_name": "Python 3",
   "language": "python",
   "name": "python3"
  },
  "language_info": {
   "codemirror_mode": {
    "name": "ipython",
    "version": 3
   },
   "file_extension": ".py",
   "mimetype": "text/x-python",
   "name": "python",
   "nbconvert_exporter": "python",
   "pygments_lexer": "ipython3",
   "version": "3.7.4"
  },
  "pycharm": {
   "stem_cell": {
    "cell_type": "raw",
    "metadata": {
     "collapsed": false
    },
    "source": []
   }
  }
 },
 "nbformat": 4,
 "nbformat_minor": 4
}
