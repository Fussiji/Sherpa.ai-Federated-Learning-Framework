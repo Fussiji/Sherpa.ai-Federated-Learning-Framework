{
 "cells": [
  {
   "cell_type": "code",
   "execution_count": 1,
   "metadata": {},
   "outputs": [
    {
     "name": "stdout",
     "output_type": "stream",
     "text": [
      "240000\n",
      "40000\n",
      "<class 'numpy.ndarray'>\n"
     ]
    },
    {
     "data": {
      "text/plain": [
       "(28, 28)"
      ]
     },
     "execution_count": 2,

     "metadata": {},
     "output_type": "execute_result"
    }
   ],
   "source": [
    "from shfl.data_base.emnist import Emnist\n",
    "\n",
    "database = Emnist()\n",
    "train_data, train_labels, test_data, test_labels = database.load_data()\n",
    "print(len(train_data))\n",
    "print(len(test_data))\n",
    "print(type(train_data[0]))\n",
    "train_data[0].shape"
   ]
  },
  {
   "cell_type": "code",
   "execution_count": 3,
   "metadata": {},
   "outputs": [
    {
     "data": {
      "text/plain": [

       "<matplotlib.image.AxesImage at 0x14f401e10>"
      ]
     },
     "execution_count": 3,
     "metadata": {},
     "output_type": "execute_result"
    }
   ],
   "source": [
    "import matplotlib.pyplot as plt\n",
    "\n",
    "plt.imshow(train_data[0])"
   ]
  },
  {
   "cell_type": "code",
   "execution_count": 3,
   "metadata": {},
   "outputs": [],
   "source": [
    "import shfl\n",
    "import numpy as np\n",
    "\n",
    "class NumberOfInstances(shfl.private.FederatedTransformation):\n",
    "        \n",
    "    def apply(self, labeled_data):\n",
    "        print(len(labeled_data.label))\n",
    "        \n",
    "        \n",
    "class UniqueLabels(shfl.private.FederatedTransformation):\n",
    "        \n",
    "    def apply(self, labeled_data):\n",
    "        classes = [label.argmax(-1) for label in labeled_data.label]\n",
    "        print(np.unique(classes))\n",
    "        "
   ]
  },
  {
   "cell_type": "markdown",
   "metadata": {},
   "source": [
    "# I.I.D. Federated Sampling\n",
    "\n",
    "In the IID scenario, each node has independent and identically distributed access to all observations in the dataset.\n",
    "\n",
    "The only available choices are:\n",
    "1. Percentage of the dataset used.\n",
    "2. Number of instances per node.\n",
    "3. Sampling with or without replacement.\n",
    "\n",
    "\n",
    "## Percentage of the dataset used in a i.i.d scenario\n",
    "\n",
    "The *percent* parameter indicates the percentage of the total number of observation in the datased splitted across the different clients. Since the subset is chosen randomly, it statistically becomes representative and follows the same distribution that the whole dataset. Obviously, it **can not be** neither greated than 100 or lesser than 0.\n",
    "\n",
    "\n",
    "## Number of instances per node in a i.i.d scenario\n",
    "\n",
    "The *weight* parameter indicates the deterministic distribution of the number of samples per node, as a ratio over the total number of observations in the dataset used for the simulation. For instance, *weights = [0.2, 0.3, 0.5]* means that the first node will be assigned a 20% of the total number of observations in the dataset used, the second node a 30% and the third node a 50%. \n",
    "\n",
    "Note that the *weight* parameter must not necessarily sum up to one, because of the option of *sampling*. We specify this fact below.\n",
    "\n",
    "\n",
    "## Sampling with or without replacement\n",
    "\n",
    "The *sampling* parameter, which can have one of the following two values *'with_replacement'* or *'without_replacement'*, indicates if an observation assigned to a particular node is removed from the dataset pool and thereof, it will be assigned only once (*weight = 'without_replacement'*); or will be back to the dataset pool and thereof, it could be selected for a new asignation (*weight = 'with_replacement'*).\n",
    "\n",
    "## Combinations of the *weights* and *sampling* parameters\n",
    "\n",
    "### *sampling = 'without_replacement'* \n",
    "\n",
    "When *sampling = 'without_replacement'* the total number of samples assigned to the nodes **can not be** greater than the number of available observations in the dataset. This imposes the constraint on the *weights* parameter than the sum of the *weights* values should be equal to or lesser than one. If they are not, the weights will be normalised to sum 1.  The possible cases are:\n",
    "\n",
    "1. If the sum of the *weights* values is lesser than one when *sampling = 'without_replacement'* then, the resulting distribution of observations to the nodes (the union of the nodes sets of samples) is a subset of the raw dataset of the whole percentage used.\n",
    "\n"
   ]
  },
  {
   "cell_type": "code",
   "execution_count": 4,
   "metadata": {},
   "outputs": [
    {
     "name": "stdout",
     "output_type": "stream",
     "text": [
      "<class 'shfl.private.federated_operation.FederatedData'>\n",
      "3\n",
      "Number of instances per client:\n",
      "12000\n",
      "24000\n",
      "36000\n"
     ]
    }
   ],
   "source": [
    "from shfl.data_distribution.data_distribution_iid import IidDataDistribution\n",
    "\n",
    "iid_distribution = IidDataDistribution(database)\n",
    "federated_data, test_data, test_label = iid_distribution.get_federated_data(num_nodes=3, percent = 50,\n",
    "                                                                            weights=[0.1,0.2,0.3])\n",
    "\n",
    "print(type(federated_data))\n",
    "print(federated_data.num_nodes())\n",
    "print(\"Number of instances per client:\")\n",
    "shfl.private.federated_operation.apply_federated_transformation(federated_data, NumberOfInstances())"
   ]
  },
  {
   "cell_type": "markdown",
   "metadata": {},
   "source": [
    "2. If the sum of the *weights* values is equal to one when *sampling = 'without_replacement'* then, the resulting distribution of observations to the nodes (the union of the nodes sets of samples) is exactly the raw dataset, that is, the distributed samples conform a partition of the original dataset."
   ]
  },
  {
   "cell_type": "code",
   "execution_count": 5,
   "metadata": {},
   "outputs": [
    {
     "name": "stdout",
     "output_type": "stream",
     "text": [
      "<class 'shfl.private.federated_operation.FederatedData'>\n",
      "3\n",
      "Number of instances per client:\n",
      "36000\n",
      "36000\n",
      "48000\n"
     ]
    }
   ],
   "source": [
    "iid_distribution = IidDataDistribution(database)\n",
    "federated_data, test_data, test_label = iid_distribution.get_federated_data(num_nodes=3, percent = 50,\n",
    "                                                                            weights=[0.3,0.3,0.4])\n",
    "\n",
    "print(type(federated_data))\n",
    "print(federated_data.num_nodes())\n",
    "print(\"Number of instances per client:\")\n",
    "shfl.private.federated_operation.apply_federated_transformation(federated_data, NumberOfInstances())"
   ]
  },
  {
   "cell_type": "markdown",
   "metadata": {},
   "source": [
    "3. If the sum of the *weights* values is greater or lesser than one when *sampling = 'without_replacement'* then, the *weights* values will be normalised to sum up to one. For instance, giving *sampling = 'without_replacement'* and *weights = [0.2, 0.3, 0.7]* the sum of the *weights* values is 1.2 > 1, and thereof, the effective *weights* values will result of the normalization: *weights = [0.2/1.2, 0.3/1.2, 0.7/1.2]*."
   ]
  },
  {
   "cell_type": "code",
   "execution_count": 6,
   "metadata": {},
   "outputs": [
    {
     "name": "stdout",
     "output_type": "stream",
     "text": [
      "<class 'shfl.private.federated_operation.FederatedData'>\n",
      "3\n",
      "Number of instances per client:\n",
      "20000\n",
      "30000\n",
      "70000\n"
     ]
    }
   ],
   "source": [
    "iid_distribution = IidDataDistribution(database)\n",
    "federated_data, test_data, test_label = iid_distribution.get_federated_data(num_nodes=3, percent = 50,\n",
    "                                                                            weights=[0.2,0.3,0.7])\n",
    "\n",
    "print(type(federated_data))\n",
    "print(federated_data.num_nodes())\n",
    "print(\"Number of instances per client:\")\n",
    "shfl.private.federated_operation.apply_federated_transformation(federated_data, NumberOfInstances())"
   ]
  },
  {
   "cell_type": "markdown",
   "metadata": {},
   "source": [
    "### *sampling = 'with_replacement'* \n",
    "\n",
    "When *sampling = 'with_replacement'* the total number of samples assigned to the nodes **can be** greater or lesser than the number of available observations in the dataset. This removes any constraint on the *weights* parameter values. The resulting distribution of samples across the nodes are subsets of the original dataset that could share observations and also, each node could have none, one or more than one samples of a given observation."
   ]
  },
  {
   "cell_type": "code",
   "execution_count": 7,
   "metadata": {},
   "outputs": [
    {
     "name": "stdout",
     "output_type": "stream",
     "text": [
      "<class 'shfl.private.federated_operation.FederatedData'>\n",
      "3\n",
      "Number of instances per client:\n",
      "60000\n",
      "36000\n",
      "84000\n"
     ]
    }
   ],
   "source": [
    "iid_distribution = IidDataDistribution(database)\n",
    "federated_data, test_data, test_label = iid_distribution.get_federated_data(num_nodes=3, percent = 50,\n",
    "                                                                            weights=[0.5,0.3,0.7], \n",
    "                                                                            sampling = \"with_replacement\")\n",
    "\n",
    "print(type(federated_data))\n",
    "print(federated_data.num_nodes())\n",
    "print(\"Number of instances per client:\")\n",
    "shfl.private.federated_operation.apply_federated_transformation(federated_data, NumberOfInstances())"
   ]
  },
  {
   "cell_type": "markdown",
   "metadata": {},
   "source": [
    "# Non-I.I.D. Federated Sampling\n",
    "\n",
    "In contrast to the I.I.D. scenario, where the concept was quite clear, the data can be non-I.I.D. for several reasons \\:\n",
    "\n",
    "1. **Non-identical client distributions**: this is the case when data distributions from several clients do not follow the same probability distribution. The difference in probability distributions can be due to several factors:\n",
    "   \n",
    "   1.1. *Feature distribution skew*: when data features of several clients follow different probability distribution. This case is typical of personal data, such as handwritten digits.\n",
    "   \n",
    "   1.2. *Label distribution skew*: when label distribution vary across different clients. This kind of skew is typical of area-dependent data (species existing in a certain place).\n",
    "   \n",
    "   1.3. *Concept shift*: when the data features with the same label differs accross different clients (same features, different label), i.e. due to cultural differences or when label from data with the same features differs accross different clients (same label, different features), i.e. due to personal preferences. \n",
    "   \n",
    "   1.4. *Unbalancedness*: it is common that the amount of data varies significantly between clients.\n",
    "   \n",
    "2. **Non-independent client distributions**: when the distribution of data from some clients depend in some way on the distribution of data from another. For example, cross-device FL experiments are performed at night local time which causes a geographic bias in the data.\n",
    "\n",
    "3. **Non-identical and non-independent distributions**:  in real FL scenarios, data may be non-IID for several reasons simultaneously due to the particular nature of the data source.\n",
    "\n",
    "\n",
    "As we have introduced, the reasons why a dataset may be non-IID are manifold. For the moment, the framework implements *label distribution skew*. For each client, we randomly choose the number of labels it knows and which ones they are. We show the labels known by each client.\n",
    "\n",
    "In this case, the options available are the same and have the same meaning as in the I.I.D. sampling. According to the *sampling* parameter, when *sampling = 'whithout_replacement'*, due to non-I.I.D restrcitions (clients with reduced number of known labels), it is possible that some clients receive less data than specified by the weights parameter due to the lack of more data from a certain label. This fact is possible too when *sampling = 'whith_replacement'* but is more unlikely due to we can reuse data of some label. It will only happen if the amount of data assigned for some client is bigger than the total amount of data of these labels.\n",
    "\n",
    "We show the difference of amount of data of each client with and without replacement sampling option:"
   ]
  },
  {
   "cell_type": "code",
   "execution_count": 10,
   "metadata": {},
   "outputs": [
    {
     "name": "stdout",
     "output_type": "stream",
     "text": [
      "<class 'shfl.private.federated_operation.FederatedData'>\n",
      "3\n",
      "Number of instances per client:\n",
      "48000\n",
      "57600\n",
      "26880\n"
     ]
    }
   ],
   "source": [
    "from shfl.data_distribution.data_distribution_non_iid import NonIidDataDistribution\n",
    "\n",
    "non_iid_distribution = NonIidDataDistribution(database)\n",
    "federated_data, test_data, test_label = non_iid_distribution.get_federated_data(num_nodes=3, percent = 100,\n",
    "                                                                            weights=[0.2,0.3,0.2])\n",
    "\n",
    "print(type(federated_data))\n",
    "print(federated_data.num_nodes())\n",
    "print(\"Number of instances per client:\")\n",
    "shfl.private.federated_operation.apply_federated_transformation(federated_data, NumberOfInstances())"
   ]
  },
  {
   "cell_type": "code",
   "execution_count": 11,
   "metadata": {},
   "outputs": [
    {
     "name": "stdout",
     "output_type": "stream",
     "text": [
      "<class 'shfl.private.federated_operation.FederatedData'>\n",
      "3\n",
      "Number of instances per client:\n",
      "48000\n",
      "72000\n",
      "48000\n"
     ]
    }
   ],
   "source": [
    "from shfl.data_distribution.data_distribution_non_iid import NonIidDataDistribution\n",
    "\n",
    "non_iid_distribution = NonIidDataDistribution(database)\n",
    "federated_data, test_data, test_label = non_iid_distribution.get_federated_data(num_nodes=3, percent = 100,\n",
    "                                                                            weights=[0.2,0.3,0.2], \n",
    "                                                                                sampling=\"with_replacement\")\n",
    "\n",
    "print(type(federated_data))\n",
    "print(federated_data.num_nodes())\n",
    "print(\"Number of instances per client:\")\n",
    "shfl.private.federated_operation.apply_federated_transformation(federated_data, NumberOfInstances())"
   ]
  },
  {
   "cell_type": "markdown",
   "metadata": {},
   "source": [
    "Let's see the labels that know each clients in order to show the label distribution skew."
   ]
  },
  {
   "cell_type": "code",
   "execution_count": 9,
   "metadata": {},
   "outputs": [
    {
     "name": "stdout",
     "output_type": "stream",
     "text": [
      "Known labels per client:\n",
      "[0 2 4 5 6 8 9]\n",
      "[0 1 2 3 4 5 6 7 8 9]\n",
      "[0 1 2 3 4 5 6 7 8 9]\n"
     ]
    }
   ],
   "source": [
    "print(\"Known labels per client:\")\n",
    "shfl.private.federated_operation.apply_federated_transformation(federated_data, UniqueLabels())"
   ]
  }
 ],
 "metadata": {
  "kernelspec": {
   "display_name": "Python 3",
   "language": "python",
   "name": "python3"
  },
  "language_info": {
   "codemirror_mode": {
    "name": "ipython",
    "version": 3
   },
   "file_extension": ".py",
   "mimetype": "text/x-python",
   "name": "python",
   "nbconvert_exporter": "python",
   "pygments_lexer": "ipython3",
   "version": "3.7.4"
  }
 },
 "nbformat": 4,
 "nbformat_minor": 4
}
