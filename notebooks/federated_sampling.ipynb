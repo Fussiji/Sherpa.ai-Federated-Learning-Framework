{
 "cells": [
  {
   "cell_type": "code",
   "execution_count": null,
   "metadata": {},
   "outputs": [],
   "source": [
    "from shfl.data_base.emnist import Emnist\n",
    "\n",
    "database = Emnist()\n",
    "train_data, train_labels, val_data, val_labels, test_data, test_labels = database.load_data()\n",
    "print(len(train_data))\n",
    "print(len(val_data))\n",
    "print(len(test_data))\n",
    "print(type(train_data[0]))\n",
    "train_data[0].shape"
   ]
  },
  {
   "cell_type": "code",
   "execution_count": null,
   "metadata": {},
   "outputs": [],
   "source": [
    "import matplotlib.pyplot as plt\n",
    "\n",
    "plt.imshow(train_data[0])"
   ]
  },
  {
   "cell_type": "code",
   "execution_count": null,
   "metadata": {},
   "outputs": [],
   "source": [
    "import shfl\n",
    "import numpy as np\n",
    "\n",
    "class NumberOfInstances(shfl.private.FederatedTransformation):\n",
    "        \n",
    "    def apply(self, labeled_data):\n",
    "        print(len(labeled_data.label))\n",
    "        \n",
    "        \n",
    "class UniqueLabels(shfl.private.FederatedTransformation):\n",
    "        \n",
    "    def apply(self, labeled_data):\n",
    "        classes = [label.argmax(-1) for label in labeled_data.label]\n",
    "        print(np.unique(classes))\n",
    "        "
   ]
  },
  {
   "cell_type": "markdown",
   "metadata": {},
   "source": [
    "# I.I.D. Federated Sampling\n",
    "\n",
    "In the IID scenario, each node has independent and identically distributed access to all observations in the dataset.\n",
    "\n",
    "The only available choices are:\n",
    "1. Percentage of the dataset used.\n",
    "2. Number of instances per node.\n",
    "3. Sampling with or without replacement.\n",
    "\n",
    "\n",
    "## Percentage of the dataset used in a i.i.d scenario\n",
    "\n",
    "The *percent* parameter indicates the percentage of the total number of observation in the datased splitted across the different clients. Since the subset is chosen randomly, it statistically becomes representative and follows the same distribution that the whole dataset. Obviously, it **can not be** neither greated than 100 or lesser than 0.\n",
    "\n",
    "\n",
    "## Number of instances per node in a i.i.d scenario\n",
    "\n",
    "The *weight* parameter indicates the deterministic distribution of the number of samples per node, as a ratio over the total number of observations in the dataset used for the simulation. For instance, *weights = [0.2, 0.3, 0.5]* means that the first node will be assigned a 20% of the total number of observations in the dataset used, the second node a 30% and the third node a 50%. \n",
    "\n",
    "Note that the *weight* parameter must not necessarily sum up to one, because of the option of *sampling*. We specify this fact below.\n",
    "\n",
    "\n",
    "## Sampling with or without replacement\n",
    "\n",
    "The *sampling* parameter, which can have one of the following two values *'with_replacement'* or *'without_replacement'*, indicates if an observation assigned to a particular node is removed from the dataset pool and thereof, it will be assigned only once (*weight = 'without_replacement'*); or will be back to the dataset pool and thereof, it could be selected for a new asignation (*weight = 'with_replacement'*).\n",
    "\n",
    "## Combinations of the *weights* and *sampling* parameters\n",
    "\n",
    "### *sampling = 'without_replacement'* \n",
    "\n",
    "When *sampling = 'without_replacement'* the total number of samples assigned to the nodes **can not be** greater than the number of available observations in the dataset. This imposes the constraint on the *weights* parameter than the sum of the *weights* values should be equal to one. If they are not, the weights will be normalised to sum 1.  The possible cases are:\n",
    "\n",
    "1. If the sum of the *weights* values is equal to one when *sampling = 'without_replacement'* then, the resulting distribution of observations to the nodes (the union of the nodes sets of samples) is eaxactly the raw dataset, that is, the distributed samples conform a partition of the original dataset."
   ]
  },
  {
   "cell_type": "code",
   "execution_count": null,
   "metadata": {},
   "outputs": [],
   "source": [
    "from shfl.data_distribution.data_distribution_iid import IidDataDistribution\n",
    "\n",
    "iid_distribution = IidDataDistribution(database)\n",
    "federated_data, test_data, test_label = iid_distribution.get_federated_data(num_nodes=3, percent = 50,\n",
    "                                                                            weights=[0.3,0.3,0.4])\n",
    "\n",
    "print(type(federated_data))\n",
    "print(federated_data.num_nodes())\n",
    "print(\"Number of instances per client:\")\n",
    "shfl.private.federated_operation.apply_federated_transformation(federated_data, NumberOfInstances())"
   ]
  },
  {
   "cell_type": "markdown",
   "metadata": {},
   "source": [
    "2. If the sum of the *weights* values is greater or lesser than one when *sampling = 'without_replacement'* then, the *weights* values will be normalised to sum up to one. For instance, giving *sampling = 'without_replacement'* and *weights = [0.2, 0.3, 0.7]* the sum of the *weights* values is 1.2 > 1, and thereof, the effective *weights* values will result of the normalization: *weights = [0.2/1.2, 0.3/1.2, 0.7/1.2]*."
   ]
  },
  {
   "cell_type": "code",
   "execution_count": null,
   "metadata": {},
   "outputs": [],
   "source": [
    "iid_distribution = IidDataDistribution(database)\n",
    "federated_data, test_data, test_label = iid_distribution.get_federated_data(num_nodes=3, percent = 50,\n",
    "                                                                            weights=[0.2,0.3,0.7])\n",
    "\n",
    "print(type(federated_data))\n",
    "print(federated_data.num_nodes())\n",
    "print(\"Number of instances per client:\")\n",
    "shfl.private.federated_operation.apply_federated_transformation(federated_data, NumberOfInstances())"
   ]
  },
  {
   "cell_type": "markdown",
   "metadata": {},
   "source": [
    "### *sampling = 'with_replacement'* \n",
    "\n",
    "When *sampling = 'with_replacement'* the total number of samples assigned to the nodes **can be** greater or lesser than the number of available observations in the dataset. This removes any constraint on the *weights* parameter values. The resulting distribution of samples across the nodes are subsets of the original dataset that could share observations and also, each node could have none, one or more than one samples of a given observation."
   ]
  },
  {
   "cell_type": "code",
   "execution_count": null,
   "metadata": {},
   "outputs": [],
   "source": [
    "iid_distribution = IidDataDistribution(database)\n",
    "federated_data, test_data, test_label = iid_distribution.get_federated_data(num_nodes=3, percent = 50,\n",
    "                                                                            weights=[0.2,0.3,0.7], \n",
    "                                                                            sampling = \"with_replacement\")\n",
    "\n",
    "print(type(federated_data))\n",
    "print(federated_data.num_nodes())\n",
    "print(\"Number of instances per client:\")\n",
    "shfl.private.federated_operation.apply_federated_transformation(federated_data, NumberOfInstances())"
   ]
  },
  {
   "cell_type": "markdown",
   "metadata": {},
   "source": [
    "# Non-I.I.D. Federated Sampling\n",
    "\n",
    "In the non-IID scenario, each node has not independent or identically distributed access to all observations in the dataset. \n",
    "\n",
    "The only available choices are:\n",
    "1. Percentage of the dataset used.\n",
    "2. Number of instances per node.\n",
    "\n",
    "The *percentage* and *weights* have the same functionality as in the I.I.D federated sampling. \n",
    "\n",
    "According to the *sampling* parameter, in this case it will always be *sampling = 'with_replacement'* because otherwise, due to non-I.I.D restrictions (clients with reduced number of known labels), there is no way to ensure that there will be enough data to distribute among the clients. Hence, *weights* parameter should always sum up to 1. Otherwise, it will be normalised to sum up 1."
   ]
  },
  {
   "cell_type": "code",
   "execution_count": null,
   "metadata": {},
   "outputs": [],
   "source": [
    "from shfl.data_distribution.data_distribution_non_iid import NonIidDataDistribution\n",
    "\n",
    "non_iid_distribution = NonIidDataDistribution(database)\n",
    "federated_data, test_data, test_label = non_iid_distribution.get_federated_data(num_nodes=3, percent = 50,\n",
    "                                                                            weights=[0.2,0.3,0.7])\n",
    "\n",
    "print(type(federated_data))\n",
    "print(federated_data.num_nodes())\n",
    "print(\"Number of instances per client:\")\n",
    "shfl.private.federated_operation.apply_federated_transformation(federated_data, NumberOfInstances())"
   ]
  },
  {
   "cell_type": "markdown",
   "metadata": {},
   "source": [
    "The particularity of this type of federated sampling is the distribution of labels among clients. For each client, we randomly choose the number of labels it knows and which ones they are. We show the labels known by each client."
   ]
  },
  {
   "cell_type": "code",
   "execution_count": null,
   "metadata": {},
   "outputs": [],
   "source": [
    "print(\"Known labels per client:\")\n",
    "shfl.private.federated_operation.apply_federated_transformation(federated_data, UniqueLabels())"
   ]
  }
 ],
 "metadata": {
  "kernelspec": {
   "display_name": "Python 3",
   "language": "python",
   "name": "python3"
  },
  "language_info": {
   "codemirror_mode": {
    "name": "ipython",
    "version": 3
   },
   "file_extension": ".py",
   "mimetype": "text/x-python",
   "name": "python",
   "nbconvert_exporter": "python",
   "pygments_lexer": "ipython3",
   "version": "3.7.4"
  }
 },
 "nbformat": 4,
 "nbformat_minor": 4
}
