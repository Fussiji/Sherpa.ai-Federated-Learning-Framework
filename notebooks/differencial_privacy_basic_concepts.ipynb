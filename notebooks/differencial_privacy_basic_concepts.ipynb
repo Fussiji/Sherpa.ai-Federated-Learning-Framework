{
 "cells": [
  {
   "cell_type": "code",
   "execution_count": 1,
   "metadata": {},
   "outputs": [
    {
     "name": "stderr",
     "output_type": "stream",
     "text": [
      "Using TensorFlow backend.\n"
     ]
    }
   ],
   "source": [
    "import numpy as np\n",
    "import shfl\n",
    "\n",
    "def get_binary_vector_with_mean(mean, size):\n",
    "    array_ones = np.ones((int(mean * size)))\n",
    "    array_zeros = np.zeros((size - (int(mean * size))))\n",
    "    array = np.concatenate((array_ones, array_zeros), axis = 0)\n",
    "    np.random.shuffle(array)\n",
    "    return array"
   ]
  },
  {
   "cell_type": "code",
   "execution_count": 2,
   "metadata": {},
   "outputs": [
    {
     "name": "stdout",
     "output_type": "stream",
     "text": [
      "10000\n",
      "0.6\n"
     ]
    },
    {
     "data": {
      "text/plain": [
       "(10000,)"
      ]
     },
     "execution_count": 2,
     "metadata": {},
     "output_type": "execute_result"
    }
   ],
   "source": [
    "array = get_binary_vector_with_mean(0.6, 10000)\n",
    "print(len(array))\n",
    "print(np.mean(array))\n",
    "array.shape"
   ]
  },
  {
   "cell_type": "code",
   "execution_count": 3,
   "metadata": {},
   "outputs": [],
   "source": [
    "from shfl.core.data import UnprotectedAccess\n",
    "from shfl.core.data import DataAccessDefinition\n",
    "from shfl.core.dp_mechanism import RandomizeBinaryProperty\n",
    "\n",
    "def diff_privacy_mean_test(mean, data_size):\n",
    "    noise = 0.2\n",
    "    mean_noise_distribution = 0.2\n",
    "    array = get_binary_vector_with_mean(mean, data_size)\n",
    "    federated_array = shfl.core.federated_operation.federate_array(\"my_federated_array\", array, data_size)\n",
    "    data_access_definition = DataAccessDefinition(dp_mechanism=RandomizeBinaryProperty(noise, mean_noise_distribution))\n",
    "    federated_array.configure_data_access(data_access_definition)\n",
    "    result = federated_array.query()\n",
    "    \n",
    "    noise_removed_result = (np.mean(result) - mean_noise_distribution*(noise))/(1-noise)\n",
    "    \n",
    "    print(\"Generated binary vector with mean: \" + str(np.mean(array)))\n",
    "    print(\"Differencial query mean result: \" + str(np.mean(result)))\n",
    "    print(\"Differencial query mean result: \" + str(mean*(1-noise) + mean_noise_distribution * noise))\n",
    "    print(\"Differencial query removing noise: \" + str(noise_removed_result))\n",
    "    print (\"\\n\")"
   ]
  },
  {
   "cell_type": "code",
   "execution_count": 4,
   "metadata": {},
   "outputs": [
    {
     "name": "stdout",
     "output_type": "stream",
     "text": [
      "Generated binary vector with mean: 0.8\n",
      "Differencial query mean result: 0.6\n",
      "Differencial query mean result: 0.6800000000000002\n",
      "Differencial query removing noise: 0.6999999999999998\n",
      "\n",
      "\n",
      "Generated binary vector with mean: 0.8\n",
      "Differencial query mean result: 0.67\n",
      "Differencial query mean result: 0.6800000000000002\n",
      "Differencial query removing noise: 0.7875\n",
      "\n",
      "\n",
      "Generated binary vector with mean: 0.8\n",
      "Differencial query mean result: 0.688\n",
      "Differencial query mean result: 0.6800000000000002\n",
      "Differencial query removing noise: 0.8099999999999998\n",
      "\n",
      "\n",
      "Generated binary vector with mean: 0.8\n",
      "Differencial query mean result: 0.674\n",
      "Differencial query mean result: 0.6800000000000002\n",
      "Differencial query removing noise: 0.7925\n",
      "\n",
      "\n",
      "Generated binary vector with mean: 0.8\n",
      "Differencial query mean result: 0.67884\n",
      "Differencial query mean result: 0.6800000000000002\n",
      "Differencial query removing noise: 0.7985499999999999\n",
      "\n",
      "\n",
      "Generated binary vector with mean: 0.8\n",
      "Differencial query mean result: 0.680108\n",
      "Differencial query mean result: 0.6800000000000002\n",
      "Differencial query removing noise: 0.8001349999999999\n",
      "\n",
      "\n"
     ]
    }
   ],
   "source": [
    "diff_privacy_mean_test(0.8, 10)\n",
    "diff_privacy_mean_test(0.8, 100)\n",
    "diff_privacy_mean_test(0.8, 1000)\n",
    "diff_privacy_mean_test(0.8, 10000)\n",
    "diff_privacy_mean_test(0.8, 100000)\n",
    "diff_privacy_mean_test(0.8, 1000000)"
   ]
  },
  {
   "cell_type": "code",
   "execution_count": null,
   "metadata": {},
   "outputs": [],
   "source": []
  }
 ],
 "metadata": {
  "kernelspec": {
   "display_name": "Python 3",
   "language": "python",
   "name": "python3"
  },
  "language_info": {
   "codemirror_mode": {
    "name": "ipython",
    "version": 3
   },
   "file_extension": ".py",
   "mimetype": "text/x-python",
   "name": "python",
   "nbconvert_exporter": "python",
   "pygments_lexer": "ipython3",
   "version": "3.7.4"
  }
 },
 "nbformat": 4,
 "nbformat_minor": 2
}
