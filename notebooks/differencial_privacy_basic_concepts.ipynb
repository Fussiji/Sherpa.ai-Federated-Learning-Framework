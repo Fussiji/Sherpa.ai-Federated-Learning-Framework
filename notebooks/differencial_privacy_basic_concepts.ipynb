{
 "cells": [
  {
   "cell_type": "code",
   "execution_count": 1,
   "metadata": {},
   "outputs": [],
   "source": [
    "import numpy as np\n",
    "\n",
    "def get_binary_vector_with_mean(mean, size):\n",
    "    array_ones = np.ones((int(mean * size), 1))\n",
    "    array_zeros = np.zeros((size - (int(mean * size)), 1))\n",
    "    array = np.concatenate((array_ones, array_zeros), axis = 0)\n",
    "    np.random.shuffle(array)\n",
    "    return array"
   ]
  },
  {
   "cell_type": "code",
   "execution_count": 2,
   "metadata": {},
   "outputs": [
    {
     "name": "stdout",
     "output_type": "stream",
     "text": [
      "10000\n",
      "0.6\n"
     ]
    }
   ],
   "source": [
    "from shfl.core import data\n",
    "\n",
    "array = get_binary_vector_with_mean(0.6, 10000)\n",
    "print(len(array))\n",
    "print(np.mean(array))"
   ]
  },
  {
   "cell_type": "code",
   "execution_count": 3,
   "metadata": {},
   "outputs": [],
   "source": [
    "from shfl.core.query import Query\n",
    "\n",
    "class RandomizedQuery(Query):\n",
    "    def get(self, array):\n",
    "        coin_flip = np.random.rand()\n",
    "        if (coin_flip > 0.5):\n",
    "            return array\n",
    "        second_coin_flip = np.random.rand()\n",
    "        if (second_coin_flip > 0.5):\n",
    "            return np.array([[1.0]])\n",
    "        return np.array([[0.0]])"
   ]
  },
  {
   "cell_type": "code",
   "execution_count": 4,
   "metadata": {},
   "outputs": [],
   "source": [
    "import shfl.core.federated_operation\n",
    "\n",
    "def diff_privacy_mean_test(mean, data_size):\n",
    "    array = get_binary_vector_with_mean(mean, data_size)\n",
    "    federated_array = data.federate_array(\"my_federated_array\", array, data_size)\n",
    "    result = shfl.core.federated_operation.query_federated_data(federated_array, RandomizedQuery())\n",
    "    prob_head = 0.5\n",
    "    p1_given_1 = prob_head + (1 - prob_head) * prob_head\n",
    "    p1_given_0 = (1 - prob_head) * prob_head\n",
    "    \n",
    "    noise_removed_result = (np.mean(result) - p1_given_0)/(p1_given_1 - p1_given_0)\n",
    "    \n",
    "    print(\"Generated binary vector with mean: \" + str(np.mean(array)))\n",
    "    print(\"Differencial query mean result: \" + str(np.mean(result)))\n",
    "    print(\"Differencial query removing noise: \" + str(noise_removed_result))\n",
    "    print (\"\\n\")"
   ]
  },
  {
   "cell_type": "code",
   "execution_count": 5,
   "metadata": {},
   "outputs": [
    {
     "name": "stdout",
     "output_type": "stream",
     "text": [
      "Generated binary vector with mean: 0.8\n",
      "Differencial query mean result: 0.5\n",
      "Differencial query removing noise: 0.5\n",
      "\n",
      "\n",
      "Generated binary vector with mean: 0.8\n",
      "Differencial query mean result: 0.53\n",
      "Differencial query removing noise: 0.56\n",
      "\n",
      "\n",
      "Generated binary vector with mean: 0.8\n",
      "Differencial query mean result: 0.651\n",
      "Differencial query removing noise: 0.802\n",
      "\n",
      "\n",
      "Generated binary vector with mean: 0.8\n",
      "Differencial query mean result: 0.6556\n",
      "Differencial query removing noise: 0.8111999999999999\n",
      "\n",
      "\n",
      "Generated binary vector with mean: 0.8\n",
      "Differencial query mean result: 0.65121\n",
      "Differencial query removing noise: 0.8024199999999999\n",
      "\n",
      "\n",
      "Generated binary vector with mean: 0.8\n",
      "Differencial query mean result: 0.649972\n",
      "Differencial query removing noise: 0.799944\n",
      "\n",
      "\n"
     ]
    }
   ],
   "source": [
    "diff_privacy_mean_test(0.8, 10)\n",
    "diff_privacy_mean_test(0.8, 100)\n",
    "diff_privacy_mean_test(0.8, 1000)\n",
    "diff_privacy_mean_test(0.8, 10000)\n",
    "diff_privacy_mean_test(0.8, 100000)\n",
    "diff_privacy_mean_test(0.8, 1000000)"
   ]
  },
  {
   "cell_type": "code",
   "execution_count": null,
   "metadata": {},
   "outputs": [],
   "source": []
  }
 ],
 "metadata": {
  "kernelspec": {
   "display_name": "Python 3",
   "language": "python",
   "name": "python3"
  },
  "language_info": {
   "codemirror_mode": {
    "name": "ipython",
    "version": 3
   },
   "file_extension": ".py",
   "mimetype": "text/x-python",
   "name": "python",
   "nbconvert_exporter": "python",
   "pygments_lexer": "ipython3",
   "version": "3.7.4"
  }
 },
 "nbformat": 4,
 "nbformat_minor": 2
}
