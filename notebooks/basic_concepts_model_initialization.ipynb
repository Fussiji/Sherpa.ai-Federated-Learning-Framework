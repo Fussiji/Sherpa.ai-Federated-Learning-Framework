{
 "cells": [
  {
   "cell_type": "markdown",
   "metadata": {},
   "source": [
    "# Federated learning: Simple experiment\n",
    "\n",
    "In this notebook we provide a simple example of how to make an experiment of a federated environment with the help of this framework. We are going to use a popular dataset to start the experimentation in a federated environment. The framework provides some functions to load the [Emnist](https://www.nist.gov/itl/products-and-services/emnist-dataset) Digits dataset."
   ]
  },
  {
   "cell_type": "code",
   "execution_count": 1,
   "metadata": {},
   "outputs": [
    {
     "name": "stderr",
     "output_type": "stream",
     "text": [
      "Using TensorFlow backend.\n"
     ]
    }
   ],
   "source": [
    "import shfl\n",
    "\n",
    "database = shfl.data_base.Emnist()\n",
    "train_data, train_labels, val_data, val_labels, test_data, test_labels = database.load_data()"
   ]
  },
  {
   "cell_type": "markdown",
   "metadata": {},
   "source": [
    "Let's inspect some properties of the loaded data."
   ]
  },
  {
   "cell_type": "code",
   "execution_count": 2,
   "metadata": {},
   "outputs": [
    {
     "name": "stdout",
     "output_type": "stream",
     "text": [
      "200000\n",
      "40000\n",
      "40000\n",
      "<class 'numpy.ndarray'>\n"
     ]
    },
    {
     "data": {
      "text/plain": [
       "(28, 28)"
      ]
     },
     "execution_count": 2,
     "metadata": {},
     "output_type": "execute_result"
    }
   ],
   "source": [
    "print(len(train_data))\n",
    "print(len(val_data))\n",
    "print(len(test_data))\n",
    "print(type(train_data[0]))\n",
    "train_data[0].shape"
   ]
  },
  {
   "cell_type": "markdown",
   "metadata": {},
   "source": [
    "So, as we have seen, our dataset is composed by a set of matrixes of 28 by 28. Before starting with the federated scenario, we can take a look to a sample in the training data."
   ]
  },
  {
   "cell_type": "code",
   "execution_count": 3,
   "metadata": {},
   "outputs": [
    {
     "data": {
      "text/plain": [
       "<matplotlib.image.AxesImage at 0x7f0d16f92cf8>"
      ]
     },
     "execution_count": 3,
     "metadata": {},
     "output_type": "execute_result"
    },
    {
     "data": {
      "image/png": "[encoded data removed]",
      "text/plain": [
       "<Figure size 432x288 with 1 Axes>"
      ]
     },
     "metadata": {
      "needs_background": "light"
     },
     "output_type": "display_data"
    }
   ],
   "source": [
    "import matplotlib.pyplot as plt\n",
    "\n",
    "plt.imshow(train_data[0])"
   ]
  },
  {
   "cell_type": "markdown",
   "metadata": {},
   "source": [
    "We are going to simulate a federated learning scenario with a set of client nodes containing private data, and a central server that will be responsible to coordinate the different clients. But, first of all, we have to simulate the data contained in every client. In order to do that, we are going to use the previous dataset loaded. The assumption in this example will be the data is distributed as a set of independent and identically distributed random variables, having every node more o less the same amount of data. There are a set of different posibilities in order to distribute the data. The distribution of the data is one of the factor that could impact more to a federated algorithm. Therefore, the framework contains the implementation of some of the most common distribution that allow you experiment different situations easily. In this [link]() you can dig into the options that the framework provides at the moment."
   ]
  },
  {
   "cell_type": "code",
   "execution_count": 4,
   "metadata": {},
   "outputs": [],
   "source": [
    "iid_distribution = shfl.data_distribution.IidDataDistribution(database)\n",
    "federated_data, test_data, test_label = iid_distribution.get_federated_data(num_nodes=20, percent=10)"
   ]
  },
  {
   "cell_type": "markdown",
   "metadata": {},
   "source": [
    "That's it. We have created federated data from the Emnist dataset with 20 nodes and using only 10 percent of the available data. This data is a set of data nodes containing private data. This private data needs a identifier that we have provided in the creation of the federated data, in this case \"emnist\". Let's learn a little about the federated data."
   ]
  },
  {
   "cell_type": "code",
   "execution_count": 5,
   "metadata": {},
   "outputs": [
    {
     "name": "stdout",
     "output_type": "stream",
     "text": [
      "<class 'shfl.private.federated_operation.FederatedData'>\n",
      "20\n",
      "Node private data, you can see the data for debug purposes but the data remains in the node\n",
      "<class 'dict'>\n",
      "{'139694196658864': <shfl.private.data.LabeledData object at 0x7f0d16f815c0>}\n"
     ]
    }
   ],
   "source": [
    "print(type(federated_data))\n",
    "print(federated_data.num_nodes())\n",
    "federated_data[0].private_data"
   ]
  },
  {
   "cell_type": "markdown",
   "metadata": {},
   "source": [
    "As we can see, private data in a node is not accesible directly but the framework provides mechanisms to use this data in a machine learning model. A federated learning algorithm is defined by a local model to learn from data in every node and a way to aggregate the different model parameters in a central node. In this example we will use a deep learning model using keras to build it. The framework provides a class to adapt a Keras model to the framework, your job is only create a function that will act as model builder."
   ]
  },
  {
   "cell_type": "code",
   "execution_count": 6,
   "metadata": {},
   "outputs": [
    {
     "name": "stdout",
     "output_type": "stream",
     "text": [
      "Train on 160000 samples, validate on 40000 samples\n",
      "Epoch 1/3\n",
      "160000/160000 [==============================] - 6s 39us/sample - loss: 0.5451 - accuracy: 0.9118 - val_loss: 0.0487 - val_accuracy: 0.9866\n",
      "Epoch 2/3\n",
      "160000/160000 [==============================] - 5s 29us/sample - loss: 0.0850 - accuracy: 0.9770 - val_loss: 0.0417 - val_accuracy: 0.9886\n",
      "Epoch 3/3\n",
      "160000/160000 [==============================] - 5s 29us/sample - loss: 0.0748 - accuracy: 0.9809 - val_loss: 0.0326 - val_accuracy: 0.9909\n"
     ]
    },
    {
     "data": {
      "text/plain": [
       "<tensorflow.python.keras.callbacks.History at 0x7f0c8c6ceef0>"
      ]
     },
     "execution_count": 6,
     "metadata": {},
     "output_type": "execute_result"
    }
   ],
   "source": [
    "import tensorflow as tf\n",
    "#If you want execute in GPU, you must uncomment this two lines.\n",
    "# physical_devices = tf.config.experimental.list_physical_devices('GPU')\n",
    "# tf.config.experimental.set_memory_growth(physical_devices[0], True)\n",
    "\n",
    "train_data = train_data.reshape(-1,28,28,1)\n",
    "\n",
    "model = tf.keras.models.Sequential()\n",
    "model.add(tf.keras.layers.Conv2D(32, kernel_size=(3, 3), padding='same', activation='relu', strides=1, input_shape=(28, 28, 1)))\n",
    "model.add(tf.keras.layers.MaxPooling2D(pool_size=2, strides=2, padding='valid'))\n",
    "model.add(tf.keras.layers.Dropout(0.4))\n",
    "model.add(tf.keras.layers.Conv2D(32, kernel_size=(3, 3), padding='same', activation='relu', strides=1))\n",
    "model.add(tf.keras.layers.MaxPooling2D(pool_size=2, strides=2, padding='valid'))\n",
    "model.add(tf.keras.layers.Dropout(0.3))\n",
    "model.add(tf.keras.layers.Flatten())\n",
    "model.add(tf.keras.layers.Dense(128, activation='relu'))\n",
    "model.add(tf.keras.layers.Dropout(0.1))\n",
    "model.add(tf.keras.layers.Dense(64, activation='relu'))\n",
    "model.add(tf.keras.layers.Dense(10, activation='softmax'))\n",
    "\n",
    "model.compile(optimizer=\"rmsprop\", loss=\"categorical_crossentropy\", metrics=[\"accuracy\"])\n",
    "\n",
    "model.fit(x=train_data, y=train_labels, batch_size=128, epochs=3, validation_split=0.2, \n",
    "                verbose=1, shuffle=False)"
   ]
  },
  {
   "cell_type": "code",
   "execution_count": 7,
   "metadata": {},
   "outputs": [],
   "source": [
    "def model_builder():\n",
    "    return shfl.model.DeepLearningModel(model=model, initialized=True)"
   ]
  },
  {
   "cell_type": "markdown",
   "metadata": {},
   "source": [
    "Now, we a model to deploy over nodes a set of nodes with data. The only piece missing is the aggregation operator. Nevertheless the framework provides some aggregation operators that we can use inmediatly. In the following piece of code we define the federated algorithm."
   ]
  },
  {
   "cell_type": "code",
   "execution_count": 8,
   "metadata": {},
   "outputs": [],
   "source": [
    "aggregator = shfl.federated_aggregator.AvgFedAggregator()\n",
    "federated_government = shfl.learning_approach.FederatedGovernment(model_builder, federated_data, aggregator)"
   ]
  },
  {
   "cell_type": "markdown",
   "metadata": {},
   "source": [
    "If you want to see all the aggregation operators you can follow the following [link](). Before executing the algorithm we want to make a data transformation. The good practise to do that is to define a federated operation that will be apply over every node. We want to reshape the data, so we define the following FederatedTransformation."
   ]
  },
  {
   "cell_type": "code",
   "execution_count": 9,
   "metadata": {},
   "outputs": [],
   "source": [
    "import numpy as np\n",
    "\n",
    "class Reshape(shfl.private.FederatedTransformation):\n",
    "    \n",
    "    def apply(self, labeled_data):\n",
    "        labeled_data.data = np.reshape(labeled_data.data, (labeled_data.data.shape[0], labeled_data.data.shape[1], labeled_data.data.shape[2],1))\n",
    "\n",
    "class CastFloat(shfl.private.FederatedTransformation):\n",
    "    \n",
    "    def apply(self, labeled_data):\n",
    "        labeled_data.data = labeled_data.data.astype(np.float32)\n",
    "        \n",
    "shfl.private.federated_operation.apply_federated_transformation(federated_data, Reshape())\n",
    "shfl.private.federated_operation.apply_federated_transformation(federated_data, CastFloat())"
   ]
  },
  {
   "cell_type": "markdown",
   "metadata": {},
   "source": [
    "We are now ready to execute our federated learning algorithm."
   ]
  },
  {
   "cell_type": "code",
   "execution_count": 10,
   "metadata": {},
   "outputs": [
    {
     "name": "stdout",
     "output_type": "stream",
     "text": [
      "Accuracy round 0\n",
      "Test performance client <shfl.private.federated_operation.FederatedDataNode object at 0x7f0d16f81fd0>: [0.05925914007446263, 0.983425]\n",
      "Test performance client <shfl.private.federated_operation.FederatedDataNode object at 0x7f0d16f81da0>: [0.05764629718181677, 0.9833]\n",
      "Test performance client <shfl.private.federated_operation.FederatedDataNode object at 0x7f0d16f81f98>: [0.049050014431460294, 0.985375]\n",
      "Test performance client <shfl.private.federated_operation.FederatedDataNode object at 0x7f0d16f79748>: [0.05405120560125506, 0.9852]\n",
      "Test performance client <shfl.private.federated_operation.FederatedDataNode object at 0x7f0d16f79550>: [0.04222764334118692, 0.98855]\n",
      "Test performance client <shfl.private.federated_operation.FederatedDataNode object at 0x7f0d16f79940>: [0.0607809130968526, 0.984525]\n",
      "Test performance client <shfl.private.federated_operation.FederatedDataNode object at 0x7f0d16f79a58>: [0.04336885512971785, 0.98855]\n",
      "Test performance client <shfl.private.federated_operation.FederatedDataNode object at 0x7f0d16f79eb8>: [0.05368539652362233, 0.985375]\n",
      "Test performance client <shfl.private.federated_operation.FederatedDataNode object at 0x7f0d16f79908>: [0.043926232488080856, 0.987425]\n",
      "Test performance client <shfl.private.federated_operation.FederatedDataNode object at 0x7f0d16f656d8>: [0.05705861167805269, 0.983325]\n",
      "Test performance client <shfl.private.federated_operation.FederatedDataNode object at 0x7f0d16f653c8>: [0.06083071055146866, 0.9825]\n",
      "Test performance client <shfl.private.federated_operation.FederatedDataNode object at 0x7f0d16f65be0>: [0.048258344234386456, 0.986525]\n",
      "Test performance client <shfl.private.federated_operation.FederatedDataNode object at 0x7f0d16f65a58>: [0.059161048250983006, 0.98165]\n",
      "Test performance client <shfl.private.federated_operation.FederatedDataNode object at 0x7f0d16f65b38>: [0.052181169045140266, 0.985]\n",
      "Test performance client <shfl.private.federated_operation.FederatedDataNode object at 0x7f0d16f65470>: [0.05863311502275628, 0.986125]\n",
      "Test performance client <shfl.private.federated_operation.FederatedDataNode object at 0x7f0d16f656a0>: [0.05975265619854908, 0.9832]\n",
      "Test performance client <shfl.private.federated_operation.FederatedDataNode object at 0x7f0d16f650f0>: [0.06728389250822366, 0.98075]\n",
      "Test performance client <shfl.private.federated_operation.FederatedDataNode object at 0x7f0d16fc55f8>: [0.04729795515323058, 0.986675]\n",
      "Test performance client <shfl.private.federated_operation.FederatedDataNode object at 0x7f0d16fc56a0>: [0.03988619629911846, 0.98875]\n",
      "Test performance client <shfl.private.federated_operation.FederatedDataNode object at 0x7f0d16fc5d68>: [0.043960825618251695, 0.987175]\n",
      "Global model test performance : [0.031268176638821026, 0.99095]\n",
      "\n",
      "\n",
      "\n",
      "Accuracy round 1\n",
      "Test performance client <shfl.private.federated_operation.FederatedDataNode object at 0x7f0d16f81fd0>: [0.037638657011906614, 0.989475]\n",
      "Test performance client <shfl.private.federated_operation.FederatedDataNode object at 0x7f0d16f81da0>: [0.04484445964922197, 0.9865]\n",
      "Test performance client <shfl.private.federated_operation.FederatedDataNode object at 0x7f0d16f81f98>: [0.04010993981254287, 0.988825]\n",
      "Test performance client <shfl.private.federated_operation.FederatedDataNode object at 0x7f0d16f79748>: [0.04628684908936266, 0.986125]\n",
      "Test performance client <shfl.private.federated_operation.FederatedDataNode object at 0x7f0d16f79550>: [0.048256143239652736, 0.9871]\n",
      "Test performance client <shfl.private.federated_operation.FederatedDataNode object at 0x7f0d16f79940>: [0.04530644366303459, 0.9867]\n",
      "Test performance client <shfl.private.federated_operation.FederatedDataNode object at 0x7f0d16f79a58>: [0.04430628250881564, 0.987325]\n",
      "Test performance client <shfl.private.federated_operation.FederatedDataNode object at 0x7f0d16f79eb8>: [0.06510718763719779, 0.98255]\n",
      "Test performance client <shfl.private.federated_operation.FederatedDataNode object at 0x7f0d16f79908>: [0.041309773578483144, 0.9876]\n",
      "Test performance client <shfl.private.federated_operation.FederatedDataNode object at 0x7f0d16f656d8>: [0.04912093036782462, 0.986925]\n",
      "Test performance client <shfl.private.federated_operation.FederatedDataNode object at 0x7f0d16f653c8>: [0.03927457233063178, 0.9888]\n",
      "Test performance client <shfl.private.federated_operation.FederatedDataNode object at 0x7f0d16f65be0>: [0.05791208391068503, 0.98295]\n",
      "Test performance client <shfl.private.federated_operation.FederatedDataNode object at 0x7f0d16f65a58>: [0.04527572098709643, 0.98755]\n",
      "Test performance client <shfl.private.federated_operation.FederatedDataNode object at 0x7f0d16f65b38>: [0.03940229026884772, 0.98885]\n",
      "Test performance client <shfl.private.federated_operation.FederatedDataNode object at 0x7f0d16f65470>: [0.041078998097172005, 0.98755]\n",
      "Test performance client <shfl.private.federated_operation.FederatedDataNode object at 0x7f0d16f656a0>: [0.04280689270861913, 0.987475]\n",
      "Test performance client <shfl.private.federated_operation.FederatedDataNode object at 0x7f0d16f650f0>: [0.04632459048684687, 0.98745]\n",
      "Test performance client <shfl.private.federated_operation.FederatedDataNode object at 0x7f0d16fc55f8>: [0.043905741879832934, 0.98765]\n",
      "Test performance client <shfl.private.federated_operation.FederatedDataNode object at 0x7f0d16fc56a0>: [0.06631782946595922, 0.982525]\n",
      "Test performance client <shfl.private.federated_operation.FederatedDataNode object at 0x7f0d16fc5d68>: [0.047687300692358985, 0.985975]\n",
      "Global model test performance : [0.031811835410504134, 0.991075]\n",
      "\n",
      "\n",
      "\n"
     ]
    }
   ],
   "source": [
    "test_data = np.reshape(test_data, (test_data.shape[0], test_data.shape[1], test_data.shape[2],1))\n",
    "test_data = test_data.astype(np.float32)\n",
    "federated_government.run_rounds(2, test_data, test_label)"
   ]
  },
  {
   "cell_type": "code",
   "execution_count": null,
   "metadata": {},
   "outputs": [],
   "source": []
  }
 ],
 "metadata": {
  "kernelspec": {
   "display_name": "Python (tf2gpu)",
   "language": "python",
   "name": "tf2gpu"
  },
  "language_info": {
   "codemirror_mode": {
    "name": "ipython",
    "version": 3
   },
   "file_extension": ".py",
   "mimetype": "text/x-python",
   "name": "python",
   "nbconvert_exporter": "python",
   "pygments_lexer": "ipython3",
   "version": "3.7.3"
  }
 },
 "nbformat": 4,
 "nbformat_minor": 2
}
