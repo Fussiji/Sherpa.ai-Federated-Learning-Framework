{
 "cells": [
  {
   "cell_type": "markdown",
   "metadata": {},
   "source": [
    "# Federated learning: regression using the California Housing database\n",
    "\n",
    "In this notebook we are going to show how you can use a federated learning environment to create a regression model. \n",
    "In the notebook on the [Linear regression for a 2D simple case](./federated_models_regression_linear.ipynb) we explained the basic concepts of the framework, so now we will go slightly faster.\n",
    "\n",
    "First of all, we load a dataset (included in the framework) to allow for regression experiments."
   ]
  },
  {
   "cell_type": "code",
   "execution_count": 1,
   "metadata": {},
   "outputs": [
    {
     "name": "stderr",
     "output_type": "stream",
     "text": [
      "Using TensorFlow backend.\n"
     ]
    }
   ],
   "source": [
    "import shfl\n",
    "from shfl.data_base.california_housing import CaliforniaHousing\n",
    "\n",
    "database = CaliforniaHousing()\n",
    "train_data, train_labels, val_data, val_labels, test_data, test_labels = database.load_data()"
   ]
  },
  {
   "cell_type": "markdown",
   "metadata": {},
   "source": [
    "We are going to explore the data"
   ]
  },
  {
   "cell_type": "code",
   "execution_count": 2,
   "metadata": {},
   "outputs": [
    {
     "name": "stdout",
     "output_type": "stream",
     "text": [
      "Shape of train_data: (16512, 8)\n",
      "Shape of train_labels: (16512,)\n",
      "One sample features: [ 3.39060000e+00  1.50000000e+01  4.02361111e+00  1.01111111e+00\n",
      "  2.34000000e+03  3.25000000e+00  3.76700000e+01 -1.22480000e+02]\n",
      "One sample label: 3.037\n"
     ]
    }
   ],
   "source": [
    "print(\"Shape of train_data: \" + str(train_data.shape))\n",
    "print(\"Shape of train_labels: \" + str(train_labels.shape))\n",
    "print(\"One sample features: \" + str(train_data[0]))\n",
    "print(\"One sample label: \" + str(train_labels[0]))"
   ]
  },
  {
   "cell_type": "markdown",
   "metadata": {},
   "source": [
    "Federeted data generation:"
   ]
  },
  {
   "cell_type": "code",
   "execution_count": 3,
   "metadata": {},
   "outputs": [],
   "source": [
    "import shfl\n",
    "\n",
    "iid_distribution = shfl.data_distribution.IidDataDistribution(database)\n",
    "federated_data, test_data, test_label = iid_distribution.get_federated_data(20, percent=10)"
   ]
  },
  {
   "cell_type": "markdown",
   "metadata": {},
   "source": [
    "Model definition:"
   ]
  },
  {
   "cell_type": "code",
   "execution_count": 4,
   "metadata": {},
   "outputs": [],
   "source": [
    "import keras\n",
    "\n",
    "def model_builder():\n",
    "    # create model\n",
    "    model = keras.models.Sequential()\n",
    "    model.add(keras.layers.Dense(8, input_dim=8, kernel_initializer='normal', activation='relu'))\n",
    "    model.add(keras.layers.Dense(1, kernel_initializer='normal'))\n",
    "    \n",
    "    # Compile model\n",
    "    model.compile(loss='mean_squared_error', optimizer='adam', metrics=[\"mae\"])\n",
    "    \n",
    "    return shfl.model.DeepLearningModel(model)"
   ]
  },
  {
   "cell_type": "markdown",
   "metadata": {},
   "source": [
    "Federated environment definition:"
   ]
  },
  {
   "cell_type": "code",
   "execution_count": 5,
   "metadata": {},
   "outputs": [],
   "source": [
    "aggregator = shfl.federated_aggregator.AvgFedAggregator()\n",
    "federated_government = shfl.learning_approach.FederatedGovernment(model_builder, federated_data, aggregator)"
   ]
  },
  {
   "cell_type": "markdown",
   "metadata": {},
   "source": [
    "Reshaping data:"
   ]
  },
  {
   "cell_type": "code",
   "execution_count": 6,
   "metadata": {},
   "outputs": [],
   "source": [
    "import numpy as np\n",
    "\n",
    "class Reshape(shfl.private.FederatedTransformation):\n",
    "    \n",
    "    def apply(self, labeled_data):\n",
    "        labeled_data.label = np.reshape(labeled_data.label, (labeled_data.label.shape[0], 1))\n",
    "        \n",
    "shfl.private.federated_operation.apply_federated_transformation(federated_data, Reshape())"
   ]
  },
  {
   "cell_type": "markdown",
   "metadata": {},
   "source": [
    "Running experiment:"
   ]
  },
  {
   "cell_type": "code",
   "execution_count": 7,
   "metadata": {},
   "outputs": [
    {
     "name": "stdout",
     "output_type": "stream",
     "text": [
      "Accuracy round 0\n",
      "Test performance client <shfl.private.federated_operation.FederatedDataNode object at 0x13d9d6410>: [6.30829996101616, 1.6697971820831299]\n",
      "Test performance client <shfl.private.federated_operation.FederatedDataNode object at 0x13d9d6d50>: [4.9624294051828315, 1.8432769775390625]\n",
      "Test performance client <shfl.private.federated_operation.FederatedDataNode object at 0x13d9d6dd0>: [4.478764112605605, 1.5718355178833008]\n",
      "Test performance client <shfl.private.federated_operation.FederatedDataNode object at 0x13d9d6ad0>: [4.735966440319091, 1.5490785837173462]\n",
      "Test performance client <shfl.private.federated_operation.FederatedDataNode object at 0x13d9d6850>: [4.3795931875243665, 1.5281556844711304]\n",
      "Test performance client <shfl.private.federated_operation.FederatedDataNode object at 0x13d9d6e90>: [4.479200812273247, 1.5332965850830078]\n",
      "Test performance client <shfl.private.federated_operation.FederatedDataNode object at 0x13d9d6f10>: [5.015918417494427, 1.855161190032959]\n",
      "Test performance client <shfl.private.federated_operation.FederatedDataNode object at 0x13d9de090>: [5.174788645071577, 1.8837294578552246]\n",
      "Test performance client <shfl.private.federated_operation.FederatedDataNode object at 0x13d9de1d0>: [4.290614081907642, 1.5385583639144897]\n",
      "Test performance client <shfl.private.federated_operation.FederatedDataNode object at 0x13d9de350>: [6.5674704451893655, 1.700179934501648]\n",
      "Test performance client <shfl.private.federated_operation.FederatedDataNode object at 0x13d9de410>: [4.471469467000444, 1.5266742706298828]\n",
      "Test performance client <shfl.private.federated_operation.FederatedDataNode object at 0x13d9de550>: [4.368231660635897, 1.538894772529602]\n",
      "Test performance client <shfl.private.federated_operation.FederatedDataNode object at 0x13d9de690>: [4.943353719489519, 1.8246454000473022]\n",
      "Test performance client <shfl.private.federated_operation.FederatedDataNode object at 0x13d9de7d0>: [4.883218332778576, 1.8159539699554443]\n",
      "Test performance client <shfl.private.federated_operation.FederatedDataNode object at 0x13d9de910>: [5.926103606704594, 2.102795124053955]\n",
      "Test performance client <shfl.private.federated_operation.FederatedDataNode object at 0x13d9dea50>: [5.300993760426839, 1.9367866516113281]\n",
      "Test performance client <shfl.private.federated_operation.FederatedDataNode object at 0x13d9deb90>: [4.21886038965033, 1.5518096685409546]\n",
      "Test performance client <shfl.private.federated_operation.FederatedDataNode object at 0x13d9decd0>: [4.189591461373854, 1.535025954246521]\n",
      "Test performance client <shfl.private.federated_operation.FederatedDataNode object at 0x13d9dee10>: [4.623599083848702, 1.5374374389648438]\n",
      "Test performance client <shfl.private.federated_operation.FederatedDataNode object at 0x13d9def50>: [4.448289117147756, 1.6846935749053955]\n",
      "Global model test performance : [4.232840907666111, 1.56881844997406]\n",
      "\n",
      "\n",
      "\n",
      "Accuracy round 1\n",
      "Test performance client <shfl.private.federated_operation.FederatedDataNode object at 0x13d9d6410>: [5.429573670838231, 1.5737693309783936]\n",
      "Test performance client <shfl.private.federated_operation.FederatedDataNode object at 0x13d9d6d50>: [4.1545783031818475, 1.6123883724212646]\n",
      "Test performance client <shfl.private.federated_operation.FederatedDataNode object at 0x13d9d6dd0>: [5.726625494254652, 2.0533385276794434]\n",
      "Test performance client <shfl.private.federated_operation.FederatedDataNode object at 0x13d9d6ad0>: [4.5660707044971085, 1.5012034177780151]\n",
      "Test performance client <shfl.private.federated_operation.FederatedDataNode object at 0x13d9d6850>: [5.328921175742334, 1.564619541168213]\n",
      "Test performance client <shfl.private.federated_operation.FederatedDataNode object at 0x13d9d6e90>: [4.548287504403166, 1.4971295595169067]\n",
      "Test performance client <shfl.private.federated_operation.FederatedDataNode object at 0x13d9d6f10>: [4.790143844693206, 1.8069220781326294]\n",
      "Test performance client <shfl.private.federated_operation.FederatedDataNode object at 0x13d9de090>: [5.6836285960766695, 2.048715591430664]\n",
      "Test performance client <shfl.private.federated_operation.FederatedDataNode object at 0x13d9de1d0>: [4.746558997058129, 1.5140818357467651]\n",
      "Test performance client <shfl.private.federated_operation.FederatedDataNode object at 0x13d9de350>: [5.224142377690751, 1.91444993019104]\n",
      "Test performance client <shfl.private.federated_operation.FederatedDataNode object at 0x13d9de410>: [5.923612212025842, 1.6210893392562866]\n",
      "Test performance client <shfl.private.federated_operation.FederatedDataNode object at 0x13d9de550>: [4.483850379322851, 1.714110016822815]\n",
      "Test performance client <shfl.private.federated_operation.FederatedDataNode object at 0x13d9de690>: [4.188991701880167, 1.6207504272460938]\n",
      "Test performance client <shfl.private.federated_operation.FederatedDataNode object at 0x13d9de7d0>: [5.065242856047874, 1.884689450263977]\n",
      "Test performance client <shfl.private.federated_operation.FederatedDataNode object at 0x13d9de910>: [5.256388194801271, 1.9397996664047241]\n",
      "Test performance client <shfl.private.federated_operation.FederatedDataNode object at 0x13d9dea50>: [4.5600129282751745, 1.7381001710891724]\n",
      "Test performance client <shfl.private.federated_operation.FederatedDataNode object at 0x13d9deb90>: [4.189499568569568, 1.4716506004333496]\n",
      "Test performance client <shfl.private.federated_operation.FederatedDataNode object at 0x13d9decd0>: [4.286289536675741, 1.478980302810669]\n",
      "Test performance client <shfl.private.federated_operation.FederatedDataNode object at 0x13d9dee10>: [4.027058399924936, 1.471259355545044]\n",
      "Test performance client <shfl.private.federated_operation.FederatedDataNode object at 0x13d9def50>: [3.9018463848173157, 1.4754761457443237]\n",
      "Global model test performance : [3.940671445787415, 1.5106621980667114]\n",
      "\n",
      "\n",
      "\n",
      "Accuracy round 2\n",
      "Test performance client <shfl.private.federated_operation.FederatedDataNode object at 0x13d9d6410>: [6.092298284057499, 1.627364993095398]\n",
      "Test performance client <shfl.private.federated_operation.FederatedDataNode object at 0x13d9d6d50>: [3.856752342031908, 1.5367120504379272]\n",
      "Test performance client <shfl.private.federated_operation.FederatedDataNode object at 0x13d9d6dd0>: [4.881180482317311, 1.8400213718414307]\n",
      "Test performance client <shfl.private.federated_operation.FederatedDataNode object at 0x13d9d6ad0>: [5.207613471866578, 1.5384488105773926]\n",
      "Test performance client <shfl.private.federated_operation.FederatedDataNode object at 0x13d9d6850>: [5.218909400378087, 1.5393985509872437]\n",
      "Test performance client <shfl.private.federated_operation.FederatedDataNode object at 0x13d9d6e90>: [4.003412897272628, 1.4248138666152954]\n",
      "Test performance client <shfl.private.federated_operation.FederatedDataNode object at 0x13d9d6f10>: [4.06278041906135, 1.6032482385635376]\n",
      "Test performance client <shfl.private.federated_operation.FederatedDataNode object at 0x13d9de090>: [5.2534719400627665, 1.9494433403015137]\n",
      "Test performance client <shfl.private.federated_operation.FederatedDataNode object at 0x13d9de1d0>: [4.9019195793211, 1.5071090459823608]\n",
      "Test performance client <shfl.private.federated_operation.FederatedDataNode object at 0x13d9de350>: [4.363466815430988, 1.6853066682815552]\n",
      "Test performance client <shfl.private.federated_operation.FederatedDataNode object at 0x13d9de410>: [5.228817091431728, 1.5401445627212524]\n",
      "Test performance client <shfl.private.federated_operation.FederatedDataNode object at 0x13d9de550>: [3.6301590342854344, 1.4445422887802124]\n",
      "Test performance client <shfl.private.federated_operation.FederatedDataNode object at 0x13d9de690>: [3.7960730689440587, 1.5134227275848389]\n",
      "Test performance client <shfl.private.federated_operation.FederatedDataNode object at 0x13d9de7d0>: [4.574200534081275, 1.7576537132263184]\n",
      "Test performance client <shfl.private.federated_operation.FederatedDataNode object at 0x13d9de910>: [4.333354114562042, 1.686981201171875]\n",
      "Test performance client <shfl.private.federated_operation.FederatedDataNode object at 0x13d9dea50>: [3.991094197413718, 1.5785815715789795]\n",
      "Test performance client <shfl.private.federated_operation.FederatedDataNode object at 0x13d9deb90>: [4.27354805783708, 1.4435148239135742]\n",
      "Test performance client <shfl.private.federated_operation.FederatedDataNode object at 0x13d9decd0>: [3.9834884802500405, 1.4230742454528809]\n",
      "Test performance client <shfl.private.federated_operation.FederatedDataNode object at 0x13d9dee10>: [4.59232067877008, 1.4753198623657227]\n",
      "Test performance client <shfl.private.federated_operation.FederatedDataNode object at 0x13d9def50>: [3.6635092450666797, 1.4082592725753784]\n",
      "Global model test performance : [3.649514586426491, 1.4211302995681763]\n",
      "\n",
      "\n",
      "\n"
     ]
    }
   ],
   "source": [
    "test_label = np.reshape(test_label, (test_label.shape[0], 1))\n",
    "federated_government.run_rounds(3, test_data, test_label)"
   ]
  },
  {
   "cell_type": "code",
   "execution_count": null,
   "metadata": {},
   "outputs": [],
   "source": []
  }
 ],
 "metadata": {
  "kernelspec": {
   "display_name": "Python 3",
   "language": "python",
   "name": "python3"
  },
  "language_info": {
   "codemirror_mode": {
    "name": "ipython",
    "version": 3
   },
   "file_extension": ".py",
   "mimetype": "text/x-python",
   "name": "python",
   "nbconvert_exporter": "python",
   "pygments_lexer": "ipython3",
   "version": "3.7.3"
  }
 },
 "nbformat": 4,
 "nbformat_minor": 4
}
