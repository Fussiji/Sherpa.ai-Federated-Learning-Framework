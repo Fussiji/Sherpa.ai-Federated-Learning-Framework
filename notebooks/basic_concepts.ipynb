{
 "cells": [
  {
   "cell_type": "markdown",
   "metadata": {},
   "source": [
    "# Federated learning: Simple experiment\n",
    "\n",
    "In this notebook we provide a simple example of how to make an experiment of a federated environment with the help of this framework. We are going to use a popular dataset to start the experimentation in a federated environment. The framework provides some functions to load the [Emnist](https://www.nist.gov/itl/products-and-services/emnist-dataset) Digits dataset."
   ]
  },
  {
   "cell_type": "code",
   "execution_count": 1,
   "metadata": {
    "pycharm": {
     "is_executing": false
    }
   },
   "outputs": [
    {
     "name": "stderr",
     "output_type": "stream",
     "text": [
      "Using TensorFlow backend.\n"
     ]
    }
   ],
   "source": [
    "import matplotlib.pyplot as plt\n",
    "import shfl\n",
    "\n",
    "database = shfl.data_base.Emnist()\n",
    "train_data, train_labels, val_data, val_labels, test_data, test_labels = database.load_data()"
   ]
  },
  {
   "cell_type": "markdown",
   "metadata": {},
   "source": [
    "Let's inspect some properties of the loaded data."
   ]
  },
  {
   "cell_type": "code",
   "execution_count": 2,
   "metadata": {
    "pycharm": {
     "is_executing": false
    }
   },
   "outputs": [
    {
     "name": "stdout",
     "output_type": "stream",
     "text": [
      "200000\n",
      "40000\n",
      "40000\n",
      "<class 'numpy.ndarray'>\n"
     ]
    },
    {
     "data": {
      "text/plain": [
       "(28, 28)"
      ]
     },
     "execution_count": 2,
     "metadata": {},
     "output_type": "execute_result"
    }
   ],
   "source": [
    "print(len(train_data))\n",
    "print(len(val_data))\n",
    "print(len(test_data))\n",
    "print(type(train_data[0]))\n",
    "train_data[0].shape"
   ]
  },
  {
   "cell_type": "markdown",
   "metadata": {},
   "source": [
    "So, as we have seen, our dataset is composed by a set of matrixes of 28 by 28. Before starting with the federated scenario, we can take a look to a sample in the training data."
   ]
  },
  {
   "cell_type": "code",
   "execution_count": 3,
   "metadata": {
    "pycharm": {
     "is_executing": false
    }
   },
   "outputs": [
    {
     "data": {
      "text/plain": [
       "<matplotlib.image.AxesImage at 0x108459810>"
      ]
     },
     "execution_count": 3,
     "metadata": {},
     "output_type": "execute_result"
    },
    {
     "data": {
      "image/png": "[encoded data removed]",
      "text/plain": [
       "<Figure size 432x288 with 1 Axes>"
      ]
     },
     "metadata": {
      "needs_background": "light"
     },
     "output_type": "display_data"
    }
   ],
   "source": [
    "plt.imshow(train_data[0])"
   ]
  },
  {
   "cell_type": "markdown",
   "metadata": {},
   "source": [
    "We are going to simulate a federated learning scenario with a set of client nodes containing private data, and a central server that will be responsible to coordinate the different clients. But, first of all, we have to simulate the data contained in every client. In order to do that, we are going to use the previous dataset loaded. The assumption in this example will be the data is distributed as a set of independent and identically distributed random variables, having every node more o less the same amount of data. There are a set of different posibilities in order to distribute the data. The distribution of the data is one of the factor that could impact more to a federated algorithm. Therefore, the framework contains the implementation of some of the most common distribution that allow you experiment different situations easily. In this [link]() you can dig into the options that the framework provides at the moment."
   ]
  },
  {
   "cell_type": "code",
   "execution_count": 4,
   "metadata": {
    "pycharm": {
     "is_executing": false
    }
   },
   "outputs": [],
   "source": [
    "iid_distribution = shfl.data_distribution.IidDataDistribution(database)\n",
    "federated_data, test_data, test_labels = iid_distribution.get_federated_data(num_nodes=20, percent=10)"
   ]
  },
  {
   "cell_type": "markdown",
   "metadata": {},
   "source": [
    "That's it. We have created federated data from the Emnist dataset with 20 nodes and using only 10 percent of the available data. This data is a set of data nodes containing private data. This private data needs a identifier that we have provided in the creation of the federated data, in this case \"emnist\". Let's learn a little about the federated data."
   ]
  },
  {
   "cell_type": "code",
   "execution_count": 5,
   "metadata": {
    "pycharm": {
     "is_executing": false
    }
   },
   "outputs": [
    {
     "name": "stdout",
     "output_type": "stream",
     "text": [
      "<class 'shfl.private.federated_operation.FederatedData'>\n",
      "20\n",
      "Node private data, you can see the data for debug purposes but the data remains in the node\n",
      "<class 'dict'>\n",
      "{'5340695632': <shfl.private.data.LabeledData object at 0x141e4f4d0>}\n"
     ]
    }
   ],
   "source": [
    "print(type(federated_data))\n",
    "print(federated_data.num_nodes())\n",
    "federated_data[0].private_data"
   ]
  },
  {
   "cell_type": "markdown",
   "metadata": {},
   "source": [
    "As we can see, private data in a node is not accesible directly but the framework provides mechanisms to use this data in a machine learning model. A federated learning algorithm is defined by a local model to learn from data in every node and a way to aggregate the different model parameters in a central node. In this example we will use a deep learning model using keras to build it. The framework provides a class to adapt a Keras model to the framework, your job is only create a function that will act as model builder."
   ]
  },
  {
   "cell_type": "code",
   "execution_count": 6,
   "metadata": {
    "pycharm": {
     "is_executing": false
    }
   },
   "outputs": [],
   "source": [
    "import keras\n",
    "\n",
    "def model_builder():\n",
    "    model = keras.models.Sequential()\n",
    "    model.add(keras.layers.Conv2D(32, kernel_size=(3, 3), padding='same', activation='relu', strides=1, input_shape=(28, 28, 1)))\n",
    "    model.add(keras.layers.MaxPooling2D(pool_size=2, strides=2, padding='valid'))\n",
    "    model.add(keras.layers.Dropout(0.4))\n",
    "    model.add(keras.layers.Conv2D(32, kernel_size=(3, 3), padding='same', activation='relu', strides=1))\n",
    "    model.add(keras.layers.MaxPooling2D(pool_size=2, strides=2, padding='valid'))\n",
    "    model.add(keras.layers.Dropout(0.3))\n",
    "    model.add(keras.layers.Flatten())\n",
    "    model.add(keras.layers.Dense(128, activation='relu'))\n",
    "    model.add(keras.layers.Dropout(0.1))\n",
    "    model.add(keras.layers.Dense(64, activation='relu'))\n",
    "    model.add(keras.layers.Dense(10, activation='softmax'))\n",
    "\n",
    "    model.compile(optimizer=\"rmsprop\", loss=\"categorical_crossentropy\", metrics=[\"accuracy\"])\n",
    "    \n",
    "    return shfl.model.DeepLearningModel(model)"
   ]
  },
  {
   "cell_type": "markdown",
   "metadata": {},
   "source": [
    "Now, we a model to deploy over nodes a set of nodes with data. The only piece missing is the aggregation operator. Nevertheless the framework provides some aggregation operators that we can use inmediatly. In the following piece of code we define the federated algorithm."
   ]
  },
  {
   "cell_type": "code",
   "execution_count": 7,
   "metadata": {
    "pycharm": {
     "is_executing": false
    }
   },
   "outputs": [],
   "source": [
    "aggregator = shfl.federated_aggregator.AvgFedAggregator()\n",
    "federated_government = shfl.learning_approach.FederatedGovernment(model_builder, federated_data, aggregator)"
   ]
  },
  {
   "cell_type": "markdown",
   "metadata": {},
   "source": [
    "If you want to see all the aggregation operators you can follow the following [link](). Before executing the algorithm we want to make a data transformation. The good practise to do that is to define a federated operation that will be apply over every node. We want to reshape the data, so we define the following FederatedTransformation."
   ]
  },
  {
   "cell_type": "code",
   "execution_count": 8,
   "metadata": {
    "pycharm": {
     "is_executing": false
    }
   },
   "outputs": [],
   "source": [
    "import numpy as np\n",
    "\n",
    "class Reshape(shfl.private.FederatedTransformation):\n",
    "    \n",
    "    def apply(self, labeled_data):\n",
    "        labeled_data.data = np.reshape(labeled_data.data, (labeled_data.data.shape[0], labeled_data.data.shape[1], labeled_data.data.shape[2],1))\n",
    "        \n",
    "shfl.private.federated_operation.apply_federated_transformation(federated_data, Reshape())"
   ]
  },
  {
   "cell_type": "markdown",
   "metadata": {},
   "source": [
    "In addition, we want to normalize the data. We define a federated transformation using mean and standard deviation (std) parameters. We use mean and std of the test set in this example. "
   ]
  },
  {
   "cell_type": "code",
   "execution_count": 9,
   "metadata": {
    "pycharm": {
     "is_executing": false,
     "name": "#%%\n"
    }
   },
   "outputs": [],
   "source": [
    "import numpy as np\n",
    "\n",
    "class Normalize(shfl.private.FederatedTransformation):\n",
    "    \n",
    "    def __init__(self, mean, std):\n",
    "        self.__mean = mean\n",
    "        self.__std = std\n",
    "    \n",
    "    def apply(self, labeled_data):\n",
    "        labeled_data.data = (labeled_data.data - self.__mean)/self.__std\n",
    "        \n",
    "        \n",
    "mean = np.mean(test_data.data)\n",
    "std = np.std(test_data.data)\n",
    "shfl.private.federated_operation.apply_federated_transformation(federated_data, Normalize(mean, std))"
   ]
  },
  {
   "cell_type": "markdown",
   "metadata": {},
   "source": [
    "We are now ready to execute our federated learning algorithm."
   ]
  },
  {
   "cell_type": "code",
   "execution_count": 10,
   "metadata": {
    "pycharm": {
     "is_executing": true
    }
   },
   "outputs": [
    {
     "name": "stdout",
     "output_type": "stream",
     "text": [
      "Accuracy round 0\n",
      "Test performance client <shfl.private.federated_operation.FederatedDataNode object at 0x13e5669d0>: [52.21043309707642, 0.6232500076293945]\n",
      "Test performance client <shfl.private.federated_operation.FederatedDataNode object at 0x141e4f1d0>: [24.745240955257415, 0.7442749738693237]\n",
      "Test performance client <shfl.private.federated_operation.FederatedDataNode object at 0x141e4f290>: [16.45547649072604, 0.7886250019073486]\n",
      "Test performance client <shfl.private.federated_operation.FederatedDataNode object at 0x141e467d0>: [20.88384804792404, 0.7591750025749207]\n",
      "Test performance client <shfl.private.federated_operation.FederatedDataNode object at 0x141e46c90>: [22.373584190368653, 0.7336249947547913]\n",
      "Test performance client <shfl.private.federated_operation.FederatedDataNode object at 0x141e46ed0>: [42.802711918640135, 0.6186500191688538]\n",
      "Test performance client <shfl.private.federated_operation.FederatedDataNode object at 0x141e46390>: [25.78412742290497, 0.730525016784668]\n",
      "Test performance client <shfl.private.federated_operation.FederatedDataNode object at 0x141e46110>: [24.916018514823914, 0.7190999984741211]\n",
      "Test performance client <shfl.private.federated_operation.FederatedDataNode object at 0x141e46b90>: [68.03989865264893, 0.5272499918937683]\n",
      "Test performance client <shfl.private.federated_operation.FederatedDataNode object at 0x141e46750>: [41.78575363616943, 0.6631500124931335]\n",
      "Test performance client <shfl.private.federated_operation.FederatedDataNode object at 0x141e46710>: [28.991393615531923, 0.6967250108718872]\n",
      "Test performance client <shfl.private.federated_operation.FederatedDataNode object at 0x14c8f7490>: [20.33101287911534, 0.7745000123977661]\n",
      "Test performance client <shfl.private.federated_operation.FederatedDataNode object at 0x14c8e4790>: [30.38829393901825, 0.7231500148773193]\n",
      "Test performance client <shfl.private.federated_operation.FederatedDataNode object at 0x14c8e4d50>: [25.83215591363907, 0.7337999939918518]\n",
      "Test performance client <shfl.private.federated_operation.FederatedDataNode object at 0x14c903810>: [20.128806986552476, 0.7627249956130981]\n",
      "Test performance client <shfl.private.federated_operation.FederatedDataNode object at 0x14c903210>: [34.8247344581604, 0.6427749991416931]\n",
      "Test performance client <shfl.private.federated_operation.FederatedDataNode object at 0x14c903050>: [37.817540079116824, 0.6258749961853027]\n",
      "Test performance client <shfl.private.federated_operation.FederatedDataNode object at 0x14c903d90>: [25.9934631526947, 0.7445499897003174]\n",
      "Test performance client <shfl.private.federated_operation.FederatedDataNode object at 0x14c903b10>: [15.741848839259148, 0.789775013923645]\n",
      "Test performance client <shfl.private.federated_operation.FederatedDataNode object at 0x14c9039d0>: [24.208812446594237, 0.7618749737739563]\n",
      "Global model test performance : [15.240663217639923, 0.7553499937057495]\n",
      "\n",
      "\n",
      "\n",
      "Accuracy round 1\n",
      "Test performance client <shfl.private.federated_operation.FederatedDataNode object at 0x13e5669d0>: [22.501106615304312, 0.8122749924659729]\n",
      "Test performance client <shfl.private.federated_operation.FederatedDataNode object at 0x141e4f1d0>: [19.33878623237034, 0.8359000086784363]\n",
      "Test performance client <shfl.private.federated_operation.FederatedDataNode object at 0x141e4f290>: [24.145039187407495, 0.7919999957084656]\n",
      "Test performance client <shfl.private.federated_operation.FederatedDataNode object at 0x141e467d0>: [17.116933384246238, 0.8422999978065491]\n",
      "Test performance client <shfl.private.federated_operation.FederatedDataNode object at 0x141e46c90>: [30.02364484090805, 0.7569249868392944]\n",
      "Test performance client <shfl.private.federated_operation.FederatedDataNode object at 0x141e46ed0>: [29.695106392765044, 0.7754999995231628]\n",
      "Test performance client <shfl.private.federated_operation.FederatedDataNode object at 0x141e46390>: [28.432085069084167, 0.7858499884605408]\n",
      "Test performance client <shfl.private.federated_operation.FederatedDataNode object at 0x141e46110>: [19.906967005637952, 0.821524977684021]\n",
      "Test performance client <shfl.private.federated_operation.FederatedDataNode object at 0x141e46b90>: [27.751069139423223, 0.7893999814987183]\n",
      "Test performance client <shfl.private.federated_operation.FederatedDataNode object at 0x141e46750>: [35.21620636129379, 0.7490749955177307]\n",
      "Test performance client <shfl.private.federated_operation.FederatedDataNode object at 0x141e46710>: [36.981512293243405, 0.7282000184059143]\n",
      "Test performance client <shfl.private.federated_operation.FederatedDataNode object at 0x14c8f7490>: [24.82905597205162, 0.7826250195503235]\n",
      "Test performance client <shfl.private.federated_operation.FederatedDataNode object at 0x14c8e4790>: [31.674038966801763, 0.7832499742507935]\n",
      "Test performance client <shfl.private.federated_operation.FederatedDataNode object at 0x14c8e4d50>: [30.13605118522644, 0.7476999759674072]\n",
      "Test performance client <shfl.private.federated_operation.FederatedDataNode object at 0x14c903810>: [18.158777647465467, 0.8347499966621399]\n",
      "Test performance client <shfl.private.federated_operation.FederatedDataNode object at 0x14c903210>: [29.003326078605653, 0.7558500170707703]\n",
      "Test performance client <shfl.private.federated_operation.FederatedDataNode object at 0x14c903050>: [28.379899930238725, 0.7842749953269958]\n",
      "Test performance client <shfl.private.federated_operation.FederatedDataNode object at 0x14c903d90>: [20.65698986531198, 0.8110499978065491]\n",
      "Test performance client <shfl.private.federated_operation.FederatedDataNode object at 0x14c903b10>: [21.26128192042628, 0.7966750264167786]\n",
      "Test performance client <shfl.private.federated_operation.FederatedDataNode object at 0x14c9039d0>: [22.221857258987427, 0.8062000274658203]\n",
      "Global model test performance : [15.559954146115768, 0.8540250062942505]\n",
      "\n",
      "\n",
      "\n",
      "Accuracy round 2\n",
      "Test performance client <shfl.private.federated_operation.FederatedDataNode object at 0x13e5669d0>: [36.37824463615417, 0.7572000026702881]\n",
      "Test performance client <shfl.private.federated_operation.FederatedDataNode object at 0x141e4f1d0>: [18.091329624533227, 0.8674749732017517]\n",
      "Test performance client <shfl.private.federated_operation.FederatedDataNode object at 0x141e4f290>: [27.907129841423036, 0.7905499935150146]\n",
      "Test performance client <shfl.private.federated_operation.FederatedDataNode object at 0x141e467d0>: [20.32674209084332, 0.8426499962806702]\n",
      "Test performance client <shfl.private.federated_operation.FederatedDataNode object at 0x141e46c90>: [21.94280019773245, 0.8257499933242798]\n",
      "Test performance client <shfl.private.federated_operation.FederatedDataNode object at 0x141e46ed0>: [37.87239640769958, 0.7611749768257141]\n",
      "Test performance client <shfl.private.federated_operation.FederatedDataNode object at 0x141e46390>: [25.87201377172824, 0.8120999932289124]\n",
      "Test performance client <shfl.private.federated_operation.FederatedDataNode object at 0x141e46110>: [21.356275775995513, 0.8360499739646912]\n",
      "Test performance client <shfl.private.federated_operation.FederatedDataNode object at 0x141e46b90>: [22.315685119196107, 0.8301249742507935]\n",
      "Test performance client <shfl.private.federated_operation.FederatedDataNode object at 0x141e46750>: [28.272485028415172, 0.8218250274658203]\n",
      "Test performance client <shfl.private.federated_operation.FederatedDataNode object at 0x141e46710>: [51.53847449159622, 0.6909499764442444]\n",
      "Test performance client <shfl.private.federated_operation.FederatedDataNode object at 0x14c8f7490>: [22.73070002309382, 0.8214250206947327]\n",
      "Test performance client <shfl.private.federated_operation.FederatedDataNode object at 0x14c8e4790>: [27.168884361112116, 0.8137999773025513]\n",
      "Test performance client <shfl.private.federated_operation.FederatedDataNode object at 0x14c8e4d50>: [57.04352709960938, 0.6754500269889832]\n",
      "Test performance client <shfl.private.federated_operation.FederatedDataNode object at 0x14c903810>: [21.276785674287378, 0.8414499759674072]\n",
      "Test performance client <shfl.private.federated_operation.FederatedDataNode object at 0x14c903210>: [25.51220585534582, 0.8199750185012817]\n",
      "Test performance client <shfl.private.federated_operation.FederatedDataNode object at 0x14c903050>: [31.943156879520416, 0.7803999781608582]\n"
     ]
    },
    {
     "name": "stdout",
     "output_type": "stream",
     "text": [
      "Test performance client <shfl.private.federated_operation.FederatedDataNode object at 0x14c903d90>: [19.150163730162017, 0.8422999978065491]\n",
      "Test performance client <shfl.private.federated_operation.FederatedDataNode object at 0x14c903b10>: [19.462489407837495, 0.8431000113487244]\n",
      "Test performance client <shfl.private.federated_operation.FederatedDataNode object at 0x14c9039d0>: [16.150832064486575, 0.8688499927520752]\n",
      "Global model test performance : [17.71843821891821, 0.8610749840736389]\n",
      "\n",
      "\n",
      "\n"
     ]
    }
   ],
   "source": [
    "test_data = np.reshape(test_data, (test_data.shape[0], test_data.shape[1], test_data.shape[2],1))\n",
    "federated_government.run_rounds(3, test_data, test_labels)"
   ]
  },
  {
   "cell_type": "code",
   "execution_count": null,
   "metadata": {},
   "outputs": [],
   "source": []
  }
 ],
 "metadata": {
  "kernelspec": {
   "display_name": "Python 3",
   "language": "python",
   "name": "python3"
  },
  "language_info": {
   "codemirror_mode": {
    "name": "ipython",
    "version": 3
   },
   "file_extension": ".py",
   "mimetype": "text/x-python",
   "name": "python",
   "nbconvert_exporter": "python",
   "pygments_lexer": "ipython3",
   "version": "3.7.4"
  },
  "pycharm": {
   "stem_cell": {
    "cell_type": "raw",
    "metadata": {
     "collapsed": false
    },
    "source": []
   }
  }
 },
 "nbformat": 4,
 "nbformat_minor": 2
}
