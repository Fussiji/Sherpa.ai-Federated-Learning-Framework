{
 "cells": [
  {
   "cell_type": "markdown",
   "metadata": {},
   "source": [
    "# Federated learning: Simple experiment\n",
    "\n",
    "In this notebook we provide a simple example of how to make an experiment of a federated environment with the help of this framework. We are going to use a popular dataset to start the experimentation in a federated environment. The framework provides some functions to load the [Emnist](https://www.nist.gov/itl/products-and-services/emnist-dataset) Digits dataset."
   ]
  },
  {
   "cell_type": "code",
   "execution_count": 1,
   "metadata": {
    "pycharm": {
     "is_executing": false
    }
   },
   "outputs": [
    {
     "name": "stderr",
     "output_type": "stream",
     "text": [
      "Using TensorFlow backend.\n"
     ]
    }
   ],
   "source": [
    "import matplotlib.pyplot as plt\n",
    "import shfl\n",
    "\n",
    "database = shfl.data_base.Emnist()\n",
    "train_data, train_labels, val_data, val_labels, test_data, test_labels = database.load_data()"
   ]
  },
  {
   "cell_type": "markdown",
   "metadata": {},
   "source": [
    "Let's inspect some properties of the loaded data."
   ]
  },
  {
   "cell_type": "code",
   "execution_count": 2,
   "metadata": {
    "pycharm": {
     "is_executing": false
    }
   },
   "outputs": [
    {
     "name": "stdout",
     "output_type": "stream",
     "text": [
      "200000\n",
      "40000\n",
      "40000\n",
      "<class 'numpy.ndarray'>\n"
     ]
    },
    {
     "data": {
      "text/plain": [
       "(28, 28)"
      ]
     },
     "execution_count": 2,
     "metadata": {},
     "output_type": "execute_result"
    }
   ],
   "source": [
    "print(len(train_data))\n",
    "print(len(val_data))\n",
    "print(len(test_data))\n",
    "print(type(train_data[0]))\n",
    "train_data[0].shape"
   ]
  },
  {
   "cell_type": "markdown",
   "metadata": {},
   "source": [
    "So, as we have seen, our dataset is composed by a set of matrices of 28 by 28. Before starting with the federated scenario, we can take a look to a sample in the training data."
   ]
  },
  {
   "cell_type": "code",
   "execution_count": 3,
   "metadata": {
    "pycharm": {
     "is_executing": false
    }
   },
   "outputs": [
    {
     "data": {
      "text/plain": [
       "<matplotlib.image.AxesImage at 0x7f217b4985f8>"
      ]
     },
     "execution_count": 3,
     "metadata": {},
     "output_type": "execute_result"
    },
    {
     "data": {
      "image/png": "[encoded data removed]",
      "text/plain": [
       "<Figure size 432x288 with 1 Axes>"
      ]
     },
     "metadata": {
      "needs_background": "light"
     },
     "output_type": "display_data"
    }
   ],
   "source": [
    "plt.imshow(train_data[0])"
   ]
  },
  {
   "cell_type": "markdown",
   "metadata": {},
   "source": [
    "We are going to simulate a federated learning scenario with a set of client nodes containing private data, and a central server that will be responsible to coordinate the different clients. \n",
    "But, first of all, we have to simulate the data contained in every client. \n",
    "In order to do that, we are going to use the previous dataset loaded. \n",
    "The assumption in this example will be the data is distributed as a set of independent and identically distributed random variables, having every node more o less the same amount of data. \n",
    "There are a set of different possibilities in order to distribute the data. \n",
    "The distribution of the data is one of the factors that could impact more to a federated algorithm. \n",
    "Therefore, the framework contains the implementation of some of the most common distributions that allow you to experiment different situations easily. \n",
    "In this [link](https://github.com/sherpaai/Sherpa.FL/tree/master/shfl/data_distribution) you can dig into the options that the framework provides at the moment."
   ]
  },
  {
   "cell_type": "code",
   "execution_count": 4,
   "metadata": {
    "pycharm": {
     "is_executing": false
    }
   },
   "outputs": [],
   "source": [
    "iid_distribution = shfl.data_distribution.IidDataDistribution(database)\n",
    "federated_data, test_data, test_labels = iid_distribution.get_federated_data(num_nodes=20, percent=10)"
   ]
  },
  {
   "cell_type": "markdown",
   "metadata": {},
   "source": [
    "That's it! We have created federated data from the Emnist dataset using 20 nodes and 10 percent of the available data. This data is a set of data nodes containing private data.  Let's learn a little more about the federated data."
   ]
  },
  {
   "cell_type": "code",
   "execution_count": 5,
   "metadata": {
    "pycharm": {
     "is_executing": false
    }
   },
   "outputs": [
    {
     "name": "stdout",
     "output_type": "stream",
     "text": [
      "<class 'shfl.private.federated_operation.FederatedData'>\n",
      "20\n",
      "Node private data, you can see the data for debug purposes but the data remains in the node\n",
      "<class 'dict'>\n",
      "{'139781773902512': <shfl.private.data.LabeledData object at 0x7f217aface80>}\n"
     ]
    }
   ],
   "source": [
    "print(type(federated_data))\n",
    "print(federated_data.num_nodes())\n",
    "federated_data[0].private_data"
   ]
  },
  {
   "cell_type": "markdown",
   "metadata": {},
   "source": [
    "As we can see, private data in a node is not accessible directly but the framework provides mechanisms to use this data in a machine learning model. \n",
    "A federated learning algorithm is defined by a machine learning model locally deployed in each node that learns from the respective node’s private data and an aggregating mechanism to aggregate the different model parameters uploaded by the client nodes to a central node. \n",
    "In this example we will use a deep learning model using keras to build it. The framework provides a class to allow using a Keras model into a federated learning scenario, your job is only to create a function acting as model builder."
   ]
  },
  {
   "cell_type": "code",
   "execution_count": 6,
   "metadata": {
    "pycharm": {
     "is_executing": false
    }
   },
   "outputs": [],
   "source": [
    "import keras\n",
    "\n",
    "def model_builder():\n",
    "    model = keras.models.Sequential()\n",
    "    model.add(keras.layers.Conv2D(32, kernel_size=(3, 3), padding='same', activation='relu', strides=1, input_shape=(28, 28, 1)))\n",
    "    model.add(keras.layers.MaxPooling2D(pool_size=2, strides=2, padding='valid'))\n",
    "    model.add(keras.layers.Dropout(0.4))\n",
    "    model.add(keras.layers.Conv2D(32, kernel_size=(3, 3), padding='same', activation='relu', strides=1))\n",
    "    model.add(keras.layers.MaxPooling2D(pool_size=2, strides=2, padding='valid'))\n",
    "    model.add(keras.layers.Dropout(0.3))\n",
    "    model.add(keras.layers.Flatten())\n",
    "    model.add(keras.layers.Dense(128, activation='relu'))\n",
    "    model.add(keras.layers.Dropout(0.1))\n",
    "    model.add(keras.layers.Dense(64, activation='relu'))\n",
    "    model.add(keras.layers.Dense(10, activation='softmax'))\n",
    "\n",
    "    model.compile(optimizer=\"rmsprop\", loss=\"categorical_crossentropy\", metrics=[\"accuracy\"])\n",
    "    \n",
    "    return shfl.model.DeepLearningModel(model)"
   ]
  },
  {
   "cell_type": "markdown",
   "metadata": {},
   "source": [
    "Now, the only piece missing is the aggregation operator. \n",
    "Nevertheless, the framework provides some aggregation operators that we can use. \n",
    "In the following piece of code we define the federated aggregation mechanism (see the notebook [Federated learning: Aggregation operators](./basic_concepts_aggregation_operations.ipynb) for more details about aggregation operators, and this [link](https://github.com/sherpaai/Sherpa.FL/tree/master/shfl/federated_aggregator) for their implementation).\n",
    "Moreover, the class `FederatedGovernment` manages the deployment of the model over the federated data, and is in charge of aggregating the parameters into a central node."
   ]
  },
  {
   "cell_type": "code",
   "execution_count": 7,
   "metadata": {
    "pycharm": {
     "is_executing": false
    }
   },
   "outputs": [],
   "source": [
    "aggregator = shfl.federated_aggregator.AvgFedAggregator()\n",
    "federated_government = shfl.learning_approach.FederatedGovernment(model_builder, federated_data, aggregator)"
   ]
  },
  {
   "cell_type": "markdown",
   "metadata": {},
   "source": [
    "Before running the algorithm, we want to apply a transformation to the data. \n",
    "will ensure that the transformation is applied to the federated data in all the client nodes. \n",
    "We want to reshape the data, so we define the following FederatedTransformation."
   ]
  },
  {
   "cell_type": "code",
   "execution_count": 8,
   "metadata": {
    "pycharm": {
     "is_executing": false
    }
   },
   "outputs": [],
   "source": [
    "import numpy as np\n",
    "\n",
    "class Reshape(shfl.private.FederatedTransformation):\n",
    "    \n",
    "    def apply(self, labeled_data):\n",
    "        labeled_data.data = np.reshape(labeled_data.data, (labeled_data.data.shape[0], labeled_data.data.shape[1], labeled_data.data.shape[2],1))\n",
    "        \n",
    "shfl.private.federated_operation.apply_federated_transformation(federated_data, Reshape())"
   ]
  },
  {
   "cell_type": "markdown",
   "metadata": {},
   "source": [
    "In addition, we want to normalize the data. \n",
    "We define a federated transformation using mean and standard deviation (std) estimates from the training set in this example. "
   ]
  },
  {
   "cell_type": "code",
   "execution_count": 9,
   "metadata": {
    "pycharm": {
     "is_executing": false,
     "name": "#%%\n"
    }
   },
   "outputs": [],
   "source": [
    "import numpy as np\n",
    "\n",
    "class Normalize(shfl.private.FederatedTransformation):\n",
    "    \n",
    "    def __init__(self, mean, std):\n",
    "        self.__mean = mean\n",
    "        self.__std = std\n",
    "    \n",
    "    def apply(self, labeled_data):\n",
    "        labeled_data.data = (labeled_data.data - self.__mean)/self.__std\n",
    "        \n",
    "        \n",
    "mean = np.mean(train_data.data)\n",
    "std = np.std(train_data.data)\n",
    "shfl.private.federated_operation.apply_federated_transformation(federated_data, Normalize(mean, std))"
   ]
  },
  {
   "cell_type": "markdown",
   "metadata": {},
   "source": [
    "We are now ready to execute our federated learning algorithm."
   ]
  },
  {
   "cell_type": "code",
   "execution_count": 10,
   "metadata": {
    "pycharm": {
     "is_executing": true
    }
   },
   "outputs": [
    {
     "name": "stdout",
     "output_type": "stream",
     "text": [
      "Accuracy round 0\n",
      "Test performance client <shfl.private.federated_operation.FederatedDataNode object at 0x7f217afacc50>: [32.8746866815567, 0.7186750173568726]\n",
      "Test performance client <shfl.private.federated_operation.FederatedDataNode object at 0x7f217afac6a0>: [17.86681240588454, 0.7874249815940857]\n",
      "Test performance client <shfl.private.federated_operation.FederatedDataNode object at 0x7f217afac630>: [24.30687596976757, 0.7563250064849854]\n",
      "Test performance client <shfl.private.federated_operation.FederatedDataNode object at 0x7f217afacda0>: [15.984130497395986, 0.8105999827384949]\n",
      "Test performance client <shfl.private.federated_operation.FederatedDataNode object at 0x7f217afacef0>: [34.0610340265274, 0.6554499864578247]\n",
      "Test performance client <shfl.private.federated_operation.FederatedDataNode object at 0x7f217afac4e0>: [28.35934476118088, 0.7466250061988831]\n",
      "Test performance client <shfl.private.federated_operation.FederatedDataNode object at 0x7f217afacd30>: [56.36653903579712, 0.5782250165939331]\n",
      "Test performance client <shfl.private.federated_operation.FederatedDataNode object at 0x7f217afac278>: [36.902539829282325, 0.6934999823570251]\n",
      "Test performance client <shfl.private.federated_operation.FederatedDataNode object at 0x7f217b47bcc0>: [37.60388048400879, 0.6642249822616577]\n",
      "Test performance client <shfl.private.federated_operation.FederatedDataNode object at 0x7f217b47bc18>: [25.99415795105696, 0.7457749843597412]\n",
      "Test performance client <shfl.private.federated_operation.FederatedDataNode object at 0x7f217b47bb00>: [20.082846834644673, 0.8039249777793884]\n",
      "Test performance client <shfl.private.federated_operation.FederatedDataNode object at 0x7f217b47b898>: [18.669065699783527, 0.7797499895095825]\n",
      "Test performance client <shfl.private.federated_operation.FederatedDataNode object at 0x7f217b47ba20>: [43.54773790359497, 0.5992500185966492]\n",
      "Test performance client <shfl.private.federated_operation.FederatedDataNode object at 0x7f217b47bac8>: [41.425866051483155, 0.6489250063896179]\n",
      "Test performance client <shfl.private.federated_operation.FederatedDataNode object at 0x7f217b474320>: [24.158203303909303, 0.7444750070571899]\n",
      "Test performance client <shfl.private.federated_operation.FederatedDataNode object at 0x7f217b4747b8>: [27.310521214985847, 0.7504500150680542]\n",
      "Test performance client <shfl.private.federated_operation.FederatedDataNode object at 0x7f217b474898>: [18.703135759067536, 0.7605500221252441]\n",
      "Test performance client <shfl.private.federated_operation.FederatedDataNode object at 0x7f217b4b9cf8>: [25.134532176798583, 0.7335749864578247]\n",
      "Test performance client <shfl.private.federated_operation.FederatedDataNode object at 0x7f217b4b9c88>: [23.47458107776642, 0.7699499726295471]\n",
      "Test performance client <shfl.private.federated_operation.FederatedDataNode object at 0x7f217b4b90f0>: [37.18094961528778, 0.6811500191688538]\n",
      "Global model test performance : [11.745962631004998, 0.7893750071525574]\n",
      "\n",
      "\n",
      "\n",
      "Accuracy round 1\n",
      "Test performance client <shfl.private.federated_operation.FederatedDataNode object at 0x7f217afacc50>: [24.330383013537528, 0.8303250074386597]\n",
      "Test performance client <shfl.private.federated_operation.FederatedDataNode object at 0x7f217afac6a0>: [20.83888452290857, 0.833899974822998]\n",
      "Test performance client <shfl.private.federated_operation.FederatedDataNode object at 0x7f217afac630>: [19.490246704359322, 0.8452249765396118]\n",
      "Test performance client <shfl.private.federated_operation.FederatedDataNode object at 0x7f217afacda0>: [14.871491891621467, 0.8690750002861023]\n",
      "Test performance client <shfl.private.federated_operation.FederatedDataNode object at 0x7f217afacef0>: [18.40051168670878, 0.850350022315979]\n",
      "Test performance client <shfl.private.federated_operation.FederatedDataNode object at 0x7f217afac4e0>: [18.30233390805015, 0.8583499789237976]\n",
      "Test performance client <shfl.private.federated_operation.FederatedDataNode object at 0x7f217afacd30>: [26.946657378216088, 0.8129000067710876]\n",
      "Test performance client <shfl.private.federated_operation.FederatedDataNode object at 0x7f217afac278>: [21.25297364858687, 0.8370500206947327]\n",
      "Test performance client <shfl.private.federated_operation.FederatedDataNode object at 0x7f217b47bcc0>: [17.302919973758, 0.8695999979972839]\n",
      "Test performance client <shfl.private.federated_operation.FederatedDataNode object at 0x7f217b47bc18>: [17.551769337243854, 0.8471999764442444]\n",
      "Test performance client <shfl.private.federated_operation.FederatedDataNode object at 0x7f217b47bb00>: [19.502546151181683, 0.8421000242233276]\n",
      "Test performance client <shfl.private.federated_operation.FederatedDataNode object at 0x7f217b47b898>: [20.658398289588465, 0.8246999979019165]\n",
      "Test performance client <shfl.private.federated_operation.FederatedDataNode object at 0x7f217b47ba20>: [64.86104920654297, 0.6011000275611877]\n",
      "Test performance client <shfl.private.federated_operation.FederatedDataNode object at 0x7f217b47bac8>: [33.620624821710585, 0.7933250069618225]\n",
      "Test performance client <shfl.private.federated_operation.FederatedDataNode object at 0x7f217b474320>: [25.54660419845581, 0.8171250224113464]\n",
      "Test performance client <shfl.private.federated_operation.FederatedDataNode object at 0x7f217b4747b8>: [16.41461019699003, 0.8647750020027161]\n",
      "Test performance client <shfl.private.federated_operation.FederatedDataNode object at 0x7f217b474898>: [15.520042753220652, 0.8493000268936157]\n",
      "Test performance client <shfl.private.federated_operation.FederatedDataNode object at 0x7f217b4b9cf8>: [14.11132399108857, 0.8694499731063843]\n",
      "Test performance client <shfl.private.federated_operation.FederatedDataNode object at 0x7f217b4b9c88>: [19.10929881708175, 0.8473749756813049]\n",
      "Test performance client <shfl.private.federated_operation.FederatedDataNode object at 0x7f217b4b90f0>: [24.386592199096082, 0.8319249749183655]\n",
      "Global model test performance : [12.530379210653253, 0.8871750235557556]\n",
      "\n",
      "\n",
      "\n",
      "Accuracy round 2\n",
      "Test performance client <shfl.private.federated_operation.FederatedDataNode object at 0x7f217afacc50>: [29.84607738393475, 0.8434000015258789]\n",
      "Test performance client <shfl.private.federated_operation.FederatedDataNode object at 0x7f217afac6a0>: [21.036512500211806, 0.836650013923645]\n",
      "Test performance client <shfl.private.federated_operation.FederatedDataNode object at 0x7f217afac630>: [24.45756401658058, 0.8403249979019165]\n",
      "Test performance client <shfl.private.federated_operation.FederatedDataNode object at 0x7f217afacda0>: [14.304117912821033, 0.8936750292778015]\n",
      "Test performance client <shfl.private.federated_operation.FederatedDataNode object at 0x7f217afacef0>: [16.636583573239598, 0.863224983215332]\n",
      "Test performance client <shfl.private.federated_operation.FederatedDataNode object at 0x7f217afac4e0>: [18.91231367523538, 0.8722249865531921]\n",
      "Test performance client <shfl.private.federated_operation.FederatedDataNode object at 0x7f217afacd30>: [15.629882102067402, 0.8873249888420105]\n",
      "Test performance client <shfl.private.federated_operation.FederatedDataNode object at 0x7f217afac278>: [19.443184612507366, 0.8612499833106995]\n",
      "Test performance client <shfl.private.federated_operation.FederatedDataNode object at 0x7f217b47bcc0>: [13.078764818059414, 0.895550012588501]\n",
      "Test performance client <shfl.private.federated_operation.FederatedDataNode object at 0x7f217b47bc18>: [19.437754698143653, 0.8657500147819519]\n",
      "Test performance client <shfl.private.federated_operation.FederatedDataNode object at 0x7f217b47bb00>: [24.804254635596276, 0.8358500003814697]\n",
      "Test performance client <shfl.private.federated_operation.FederatedDataNode object at 0x7f217b47b898>: [21.97784828500705, 0.8481749892234802]\n",
      "Test performance client <shfl.private.federated_operation.FederatedDataNode object at 0x7f217b47ba20>: [25.27002926500641, 0.8277750015258789]\n",
      "Test performance client <shfl.private.federated_operation.FederatedDataNode object at 0x7f217b47bac8>: [20.152825692235854, 0.8626750111579895]\n",
      "Test performance client <shfl.private.federated_operation.FederatedDataNode object at 0x7f217b474320>: [21.594675750846147, 0.8511999845504761]\n",
      "Test performance client <shfl.private.federated_operation.FederatedDataNode object at 0x7f217b4747b8>: [18.07935730279684, 0.8634999990463257]\n",
      "Test performance client <shfl.private.federated_operation.FederatedDataNode object at 0x7f217b474898>: [14.630101450624212, 0.8786500096321106]\n",
      "Test performance client <shfl.private.federated_operation.FederatedDataNode object at 0x7f217b4b9cf8>: [10.832096430040114, 0.9042750000953674]\n",
      "Test performance client <shfl.private.federated_operation.FederatedDataNode object at 0x7f217b4b9c88>: [13.003865506688745, 0.8979750275611877]\n",
      "Test performance client <shfl.private.federated_operation.FederatedDataNode object at 0x7f217b4b90f0>: [22.694690925007407, 0.8570500016212463]\n",
      "Global model test performance : [12.105199870055417, 0.9060750007629395]\n",
      "\n",
      "\n",
      "\n"
     ]
    }
   ],
   "source": [
    "test_data = np.reshape(test_data, (test_data.shape[0], test_data.shape[1], test_data.shape[2],1))\n",
    "federated_government.run_rounds(3, test_data, test_labels)"
   ]
  },
  {
   "cell_type": "code",
   "execution_count": null,
   "metadata": {},
   "outputs": [],
   "source": []
  }
 ],
 "metadata": {
  "kernelspec": {
   "display_name": "Sherpa_venvPy3",
   "language": "python",
   "name": "sherpa_venvpy3"
  },
  "language_info": {
   "codemirror_mode": {
    "name": "ipython",
    "version": 3
   },
   "file_extension": ".py",
   "mimetype": "text/x-python",
   "name": "python",
   "nbconvert_exporter": "python",
   "pygments_lexer": "ipython3",
   "version": "3.7.3"
  },
  "pycharm": {
   "stem_cell": {
    "cell_type": "raw",
    "metadata": {
     "collapsed": false
    },
    "source": []
   }
  }
 },
 "nbformat": 4,
 "nbformat_minor": 4
}
