{
 "cells": [
  {
   "cell_type": "markdown",
   "metadata": {},
   "source": [
    "# Federated learning: Simple experiment\n",
    "\n",
    "In this notebook we provide a simple example of how to make an experiment of a federated environment with the help of this framework. We are going to use a popular dataset to start the experimentation in a federated environment. The framework provides some functions to load the [Emnist](https://www.nist.gov/itl/products-and-services/emnist-dataset) Digits dataset."
   ]
  },
  {
   "cell_type": "code",
   "execution_count": 1,
   "metadata": {},
   "outputs": [
    {
     "name": "stderr",
     "output_type": "stream",
     "text": [
      "Using TensorFlow backend.\n"
     ]
    }
   ],
   "source": [
    "import shfl\n",
    "\n",
    "database = shfl.data_base.Emnist()\n",
    "train_data, train_labels, val_data, val_labels, test_data, test_labels = database.load_data()"
   ]
  },
  {
   "cell_type": "markdown",
   "metadata": {},
   "source": [
    "Let's inspect some properties of the loaded data."
   ]
  },
  {
   "cell_type": "code",
   "execution_count": 2,
   "metadata": {},
   "outputs": [
    {
     "name": "stdout",
     "output_type": "stream",
     "text": [
      "199999\n",
      "40000\n",
      "40000\n",
      "<class 'numpy.ndarray'>\n"
     ]
    },
    {
     "data": {
      "text/plain": [
       "(28, 28)"
      ]
     },
     "execution_count": 2,
     "metadata": {},
     "output_type": "execute_result"
    }
   ],
   "source": [
    "print(len(train_data))\n",
    "print(len(val_data))\n",
    "print(len(test_data))\n",
    "print(type(train_data[0]))\n",
    "train_data[0].shape"
   ]
  },
  {
   "cell_type": "markdown",
   "metadata": {},
   "source": [
    "So, as we have seen, our dataset is composed by a set of matrixes of 28 by 28. Before starting with the federated scenario, we can take a look to a sample in the training data."
   ]
  },
  {
   "cell_type": "code",
   "execution_count": 4,
   "metadata": {},
   "outputs": [
    {
     "data": {
      "text/plain": [
       "<matplotlib.image.AxesImage at 0x14e330ed0>"
      ]
     },
     "execution_count": 4,
     "metadata": {},
     "output_type": "execute_result"
    },
    {
     "data": {
      "image/png": "[encoded data removed]",
      "text/plain": [
       "<Figure size 432x288 with 1 Axes>"
      ]
     },
     "metadata": {
      "needs_background": "light"
     },
     "output_type": "display_data"
    }
   ],
   "source": [
    "import matplotlib.pyplot as plt\n",
    "\n",
    "plt.imshow(train_data[0])"
   ]
  },
  {
   "cell_type": "markdown",
   "metadata": {},
   "source": [
    "We are going to simulate a federated learning scenario with a set of client nodes containing private data, and a central server that will be responsible to coordinate the different clients. But, first of all, we have to simulate the data contained in every client. In order to do that, we are going to use the previous dataset loaded. The assumption in this example will be the data is distributed as a set of independent and identically distributed random variables, having every node more o less the same amount of data. There are a set of different posibilities in order to distribute the data. The distribution of the data is one of the factor that could impact more to a federated algorithm. Therefore, the framework contains the implementation of some of the most common distribution that allow you experiment different situations easily. In this [link]() you can dig into the options that the framework provides at the moment."
   ]
  },
  {
   "cell_type": "code",
   "execution_count": 5,
   "metadata": {},
   "outputs": [],
   "source": [
    "iid_distribution = shfl.data_distribution.IidDataDistribution(database)\n",
    "federated_data, test_data, test_label = iid_distribution.get_federated_data(\"emnist\", 20, percent=10)"
   ]
  },
  {
   "cell_type": "markdown",
   "metadata": {},
   "source": [
    "That's it. We have created federated data from the Emnist dataset with 20 nodes and using only 10 percent of the available data. This data is a set of data nodes containing private data. This private data needs a identifier that we have provided in the creation of the federated data, in this case \"emnist\". Let's learn a little about the federated data."
   ]
  },
  {
   "cell_type": "code",
   "execution_count": 6,
   "metadata": {},
   "outputs": [
    {
     "name": "stdout",
     "output_type": "stream",
     "text": [
      "<class 'shfl.core.federated_operation.FederatedData'>\n",
      "20\n",
      "Node private data, you can see the data for debug purposes but the data remains in the node\n",
      "<class 'dict'>\n",
      "{'emnist': <shfl.core.data.LabeledData object at 0x11cecbe90>}\n"
     ]
    }
   ],
   "source": [
    "print(type(federated_data))\n",
    "print(federated_data.num_nodes())\n",
    "federated_data[0].private_data"
   ]
  },
  {
   "cell_type": "markdown",
   "metadata": {},
   "source": [
    "As we can see, private data in a node is not accesible directly but the framework provides mechanisms to use this data in a machine learning model. A federated learning algorithm is defined by a local model to learn from data in every node and a way to aggregate the different model parameters in a central node. In this example we will use a deep learning model using keras to build it. The framework provides a class to adapt a Keras model to the framework, your job is only create a function that will act as model builder."
   ]
  },
  {
   "cell_type": "code",
   "execution_count": 7,
   "metadata": {},
   "outputs": [],
   "source": [
    "import keras\n",
    "\n",
    "def model_builder():\n",
    "    model = keras.models.Sequential()\n",
    "    model.add(keras.layers.Conv2D(32, kernel_size=(3, 3), padding='same', activation='relu', strides=1, input_shape=(28, 28, 1)))\n",
    "    model.add(keras.layers.MaxPooling2D(pool_size=2, strides=2, padding='valid'))\n",
    "    model.add(keras.layers.Dropout(0.4))\n",
    "    model.add(keras.layers.Conv2D(32, kernel_size=(3, 3), padding='same', activation='relu', strides=1))\n",
    "    model.add(keras.layers.MaxPooling2D(pool_size=2, strides=2, padding='valid'))\n",
    "    model.add(keras.layers.Dropout(0.3))\n",
    "    model.add(keras.layers.Flatten())\n",
    "    model.add(keras.layers.Dense(128, activation='relu'))\n",
    "    model.add(keras.layers.Dropout(0.1))\n",
    "    model.add(keras.layers.Dense(64, activation='relu'))\n",
    "    model.add(keras.layers.Dense(10, activation='softmax'))\n",
    "\n",
    "    model.compile(optimizer=\"rmsprop\", loss=\"categorical_crossentropy\", metrics=[\"accuracy\"])\n",
    "    \n",
    "    return shfl.model.KerasDeepLearningModel(model)"
   ]
  },
  {
   "cell_type": "markdown",
   "metadata": {},
   "source": [
    "Now, we a model to deploy over nodes a set of nodes with data. The only piece missing is the aggregation operator. Nevertheless the framework provides some aggregation operators that we can use inmediatly. In the following piece of code we define the federated algorithm."
   ]
  },
  {
   "cell_type": "code",
   "execution_count": 8,
   "metadata": {},
   "outputs": [],
   "source": [
    "aggregator = shfl.federated_aggregator.AvgFedAggregator()\n",
    "federated_government = shfl.learning_approach.FederatedGovernment(model_builder, federated_data, aggregator)"
   ]
  },
  {
   "cell_type": "markdown",
   "metadata": {},
   "source": [
    "If you want to see all the aggregation operators you can follow the following [link](). Before executing the algorithm we want to make a data transformation. The good practise to do that is to define a federated operation that will be apply over every node. We want to reshape the data, so we define the following FederatedTransformation."
   ]
  },
  {
   "cell_type": "code",
   "execution_count": 11,
   "metadata": {},
   "outputs": [],
   "source": [
    "import numpy as np\n",
    "\n",
    "class Reshape(shfl.core.FederatedTransformation):\n",
    "    \n",
    "    def apply(self, labeled_data):\n",
    "        labeled_data.data = np.reshape(labeled_data.data, (labeled_data.data.shape[0], labeled_data.data.shape[1], labeled_data.data.shape[2],1))\n",
    "        \n",
    "shfl.core.federated_operation.apply_federated_transformation(federated_data, Reshape())"
   ]
  },
  {
   "cell_type": "markdown",
   "metadata": {},
   "source": [
    "We are now ready to execute our federated learning algorithm."
   ]
  },
  {
   "cell_type": "code",
   "execution_count": 12,
   "metadata": {},
   "outputs": [
    {
     "name": "stdout",
     "output_type": "stream",
     "text": [
      "Accuracy round 0\n",
      "Test Accuracy Client <shfl.core.node.DataNode object at 0x14e2ef2d0>: 0.452675\n",
      "Test Accuracy Client <shfl.core.node.DataNode object at 0x14e2ef990>: 0.532875\n",
      "Test Accuracy Client <shfl.core.node.DataNode object at 0x14e2efd50>: 0.434375\n",
      "Test Accuracy Client <shfl.core.node.DataNode object at 0x14e2efe10>: 0.5185\n",
      "Test Accuracy Client <shfl.core.node.DataNode object at 0x11cecbb10>: 0.408175\n",
      "Test Accuracy Client <shfl.core.node.DataNode object at 0x11cecb6d0>: 0.529325\n",
      "Test Accuracy Client <shfl.core.node.DataNode object at 0x11cecb750>: 0.412325\n",
      "Test Accuracy Client <shfl.core.node.DataNode object at 0x11cecb850>: 0.51435\n",
      "Test Accuracy Client <shfl.core.node.DataNode object at 0x11cecbfd0>: 0.449825\n",
      "Test Accuracy Client <shfl.core.node.DataNode object at 0x11cecbb50>: 0.53215\n",
      "Test Accuracy Client <shfl.core.node.DataNode object at 0x11cecb090>: 0.49525\n",
      "Test Accuracy Client <shfl.core.node.DataNode object at 0x11cecbcd0>: 0.476625\n",
      "Test Accuracy Client <shfl.core.node.DataNode object at 0x11cecbd10>: 0.3837\n",
      "Test Accuracy Client <shfl.core.node.DataNode object at 0x11cecb3d0>: 0.518925\n",
      "Test Accuracy Client <shfl.core.node.DataNode object at 0x11cecb490>: 0.51045\n",
      "Test Accuracy Client <shfl.core.node.DataNode object at 0x11cecb4d0>: 0.4495\n",
      "Test Accuracy Client <shfl.core.node.DataNode object at 0x11cecb5d0>: 0.54835\n",
      "Test Accuracy Client <shfl.core.node.DataNode object at 0x11cecba10>: 0.454075\n",
      "Test Accuracy Client <shfl.core.node.DataNode object at 0x11cecb1d0>: 0.504175\n",
      "Test Accuracy Client <shfl.core.node.DataNode object at 0x11cecbc10>: 0.477175\n",
      "Global model test Accuracy Client : 0.45175\n",
      "\n",
      "\n",
      "\n",
      "Accuracy round 1\n",
      "Test Accuracy Client <shfl.core.node.DataNode object at 0x14e2ef2d0>: 0.653625\n",
      "Test Accuracy Client <shfl.core.node.DataNode object at 0x14e2ef990>: 0.630125\n",
      "Test Accuracy Client <shfl.core.node.DataNode object at 0x14e2efd50>: 0.7015\n",
      "Test Accuracy Client <shfl.core.node.DataNode object at 0x14e2efe10>: 0.6629\n",
      "Test Accuracy Client <shfl.core.node.DataNode object at 0x11cecbb10>: 0.611175\n",
      "Test Accuracy Client <shfl.core.node.DataNode object at 0x11cecb6d0>: 0.670875\n",
      "Test Accuracy Client <shfl.core.node.DataNode object at 0x11cecb750>: 0.642375\n",
      "Test Accuracy Client <shfl.core.node.DataNode object at 0x11cecb850>: 0.659175\n",
      "Test Accuracy Client <shfl.core.node.DataNode object at 0x11cecbfd0>: 0.653\n",
      "Test Accuracy Client <shfl.core.node.DataNode object at 0x11cecbb50>: 0.666475\n",
      "Test Accuracy Client <shfl.core.node.DataNode object at 0x11cecb090>: 0.670425\n",
      "Test Accuracy Client <shfl.core.node.DataNode object at 0x11cecbcd0>: 0.6398\n",
      "Test Accuracy Client <shfl.core.node.DataNode object at 0x11cecbd10>: 0.694575\n",
      "Test Accuracy Client <shfl.core.node.DataNode object at 0x11cecb3d0>: 0.657225\n",
      "Test Accuracy Client <shfl.core.node.DataNode object at 0x11cecb490>: 0.608075\n",
      "Test Accuracy Client <shfl.core.node.DataNode object at 0x11cecb4d0>: 0.666025\n",
      "Test Accuracy Client <shfl.core.node.DataNode object at 0x11cecb5d0>: 0.68585\n",
      "Test Accuracy Client <shfl.core.node.DataNode object at 0x11cecba10>: 0.667125\n",
      "Test Accuracy Client <shfl.core.node.DataNode object at 0x11cecb1d0>: 0.646875\n",
      "Test Accuracy Client <shfl.core.node.DataNode object at 0x11cecbc10>: 0.652675\n",
      "Global model test Accuracy Client : 0.671775\n",
      "\n",
      "\n",
      "\n",
      "Accuracy round 2\n",
      "Test Accuracy Client <shfl.core.node.DataNode object at 0x14e2ef2d0>: 0.792975\n",
      "Test Accuracy Client <shfl.core.node.DataNode object at 0x14e2ef990>: 0.7371\n",
      "Test Accuracy Client <shfl.core.node.DataNode object at 0x14e2efd50>: 0.8063\n",
      "Test Accuracy Client <shfl.core.node.DataNode object at 0x14e2efe10>: 0.7601\n",
      "Test Accuracy Client <shfl.core.node.DataNode object at 0x11cecbb10>: 0.7846\n",
      "Test Accuracy Client <shfl.core.node.DataNode object at 0x11cecb6d0>: 0.7679\n",
      "Test Accuracy Client <shfl.core.node.DataNode object at 0x11cecb750>: 0.736625\n",
      "Test Accuracy Client <shfl.core.node.DataNode object at 0x11cecb850>: 0.8026\n",
      "Test Accuracy Client <shfl.core.node.DataNode object at 0x11cecbfd0>: 0.73275\n",
      "Test Accuracy Client <shfl.core.node.DataNode object at 0x11cecbb50>: 0.79615\n",
      "Test Accuracy Client <shfl.core.node.DataNode object at 0x11cecb090>: 0.801075\n",
      "Test Accuracy Client <shfl.core.node.DataNode object at 0x11cecbcd0>: 0.80015\n",
      "Test Accuracy Client <shfl.core.node.DataNode object at 0x11cecbd10>: 0.80115\n",
      "Test Accuracy Client <shfl.core.node.DataNode object at 0x11cecb3d0>: 0.795425\n",
      "Test Accuracy Client <shfl.core.node.DataNode object at 0x11cecb490>: 0.777425\n",
      "Test Accuracy Client <shfl.core.node.DataNode object at 0x11cecb4d0>: 0.818525\n",
      "Test Accuracy Client <shfl.core.node.DataNode object at 0x11cecb5d0>: 0.81695\n",
      "Test Accuracy Client <shfl.core.node.DataNode object at 0x11cecba10>: 0.8219\n",
      "Test Accuracy Client <shfl.core.node.DataNode object at 0x11cecb1d0>: 0.814825\n",
      "Test Accuracy Client <shfl.core.node.DataNode object at 0x11cecbc10>: 0.75555\n",
      "Global model test Accuracy Client : 0.8307\n",
      "\n",
      "\n",
      "\n"
     ]
    }
   ],
   "source": [
    "test_data = np.reshape(test_data, (test_data.shape[0], test_data.shape[1], test_data.shape[2],1))\n",
    "federated_government.run_rounds(3, test_data, test_label)"
   ]
  },
  {
   "cell_type": "code",
   "execution_count": null,
   "metadata": {},
   "outputs": [],
   "source": []
  }
 ],
 "metadata": {
  "kernelspec": {
   "display_name": "Python 3",
   "language": "python",
   "name": "python3"
  },
  "language_info": {
   "codemirror_mode": {
    "name": "ipython",
    "version": 3
   },
   "file_extension": ".py",
   "mimetype": "text/x-python",
   "name": "python",
   "nbconvert_exporter": "python",
   "pygments_lexer": "ipython3",
   "version": "3.7.4"
  }
 },
 "nbformat": 4,
 "nbformat_minor": 2
}
