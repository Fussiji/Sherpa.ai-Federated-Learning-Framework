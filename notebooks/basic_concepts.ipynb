{
 "cells": [
  {
   "cell_type": "markdown",
   "metadata": {},
   "source": [
    "# Federated learning: Simple experiment\n",
    "\n",
    "In this notebook we provide a simple example of how to make an experiment of a federated environment with the help of this framework. We are going to use a popular dataset to start the experimentation in a federated environment. The framework provides some functions to load the [Emnist](https://www.nist.gov/itl/products-and-services/emnist-dataset) Digits dataset."
   ]
  },
  {
   "cell_type": "code",
   "execution_count": 1,
   "metadata": {
    "pycharm": {
     "is_executing": false
    }
   },
   "outputs": [
    {
     "name": "stderr",
     "output_type": "stream",
     "text": [
      "Using TensorFlow backend.\n",
      "/home/rbnuria/.local/lib/python3.6/site-packages/tensorflow/python/framework/dtypes.py:516: FutureWarning: Passing (type, 1) or '1type' as a synonym of type is deprecated; in a future version of numpy, it will be understood as (type, (1,)) / '(1,)type'.\n",
      "  _np_qint8 = np.dtype([(\"qint8\", np.int8, 1)])\n",
      "/home/rbnuria/.local/lib/python3.6/site-packages/tensorflow/python/framework/dtypes.py:517: FutureWarning: Passing (type, 1) or '1type' as a synonym of type is deprecated; in a future version of numpy, it will be understood as (type, (1,)) / '(1,)type'.\n",
      "  _np_quint8 = np.dtype([(\"quint8\", np.uint8, 1)])\n",
      "/home/rbnuria/.local/lib/python3.6/site-packages/tensorflow/python/framework/dtypes.py:518: FutureWarning: Passing (type, 1) or '1type' as a synonym of type is deprecated; in a future version of numpy, it will be understood as (type, (1,)) / '(1,)type'.\n",
      "  _np_qint16 = np.dtype([(\"qint16\", np.int16, 1)])\n",
      "/home/rbnuria/.local/lib/python3.6/site-packages/tensorflow/python/framework/dtypes.py:519: FutureWarning: Passing (type, 1) or '1type' as a synonym of type is deprecated; in a future version of numpy, it will be understood as (type, (1,)) / '(1,)type'.\n",
      "  _np_quint16 = np.dtype([(\"quint16\", np.uint16, 1)])\n",
      "/home/rbnuria/.local/lib/python3.6/site-packages/tensorflow/python/framework/dtypes.py:520: FutureWarning: Passing (type, 1) or '1type' as a synonym of type is deprecated; in a future version of numpy, it will be understood as (type, (1,)) / '(1,)type'.\n",
      "  _np_qint32 = np.dtype([(\"qint32\", np.int32, 1)])\n",
      "/home/rbnuria/.local/lib/python3.6/site-packages/tensorflow/python/framework/dtypes.py:525: FutureWarning: Passing (type, 1) or '1type' as a synonym of type is deprecated; in a future version of numpy, it will be understood as (type, (1,)) / '(1,)type'.\n",
      "  np_resource = np.dtype([(\"resource\", np.ubyte, 1)])\n",
      "/home/rbnuria/.local/lib/python3.6/site-packages/tensorboard/compat/tensorflow_stub/dtypes.py:541: FutureWarning: Passing (type, 1) or '1type' as a synonym of type is deprecated; in a future version of numpy, it will be understood as (type, (1,)) / '(1,)type'.\n",
      "  _np_qint8 = np.dtype([(\"qint8\", np.int8, 1)])\n",
      "/home/rbnuria/.local/lib/python3.6/site-packages/tensorboard/compat/tensorflow_stub/dtypes.py:542: FutureWarning: Passing (type, 1) or '1type' as a synonym of type is deprecated; in a future version of numpy, it will be understood as (type, (1,)) / '(1,)type'.\n",
      "  _np_quint8 = np.dtype([(\"quint8\", np.uint8, 1)])\n",
      "/home/rbnuria/.local/lib/python3.6/site-packages/tensorboard/compat/tensorflow_stub/dtypes.py:543: FutureWarning: Passing (type, 1) or '1type' as a synonym of type is deprecated; in a future version of numpy, it will be understood as (type, (1,)) / '(1,)type'.\n",
      "  _np_qint16 = np.dtype([(\"qint16\", np.int16, 1)])\n",
      "/home/rbnuria/.local/lib/python3.6/site-packages/tensorboard/compat/tensorflow_stub/dtypes.py:544: FutureWarning: Passing (type, 1) or '1type' as a synonym of type is deprecated; in a future version of numpy, it will be understood as (type, (1,)) / '(1,)type'.\n",
      "  _np_quint16 = np.dtype([(\"quint16\", np.uint16, 1)])\n",
      "/home/rbnuria/.local/lib/python3.6/site-packages/tensorboard/compat/tensorflow_stub/dtypes.py:545: FutureWarning: Passing (type, 1) or '1type' as a synonym of type is deprecated; in a future version of numpy, it will be understood as (type, (1,)) / '(1,)type'.\n",
      "  _np_qint32 = np.dtype([(\"qint32\", np.int32, 1)])\n",
      "/home/rbnuria/.local/lib/python3.6/site-packages/tensorboard/compat/tensorflow_stub/dtypes.py:550: FutureWarning: Passing (type, 1) or '1type' as a synonym of type is deprecated; in a future version of numpy, it will be understood as (type, (1,)) / '(1,)type'.\n",
      "  np_resource = np.dtype([(\"resource\", np.ubyte, 1)])\n"
     ]
    }
   ],
   "source": [
    "import shfl\n",
    "\n",
    "database = shfl.data_base.Emnist()\n",
    "train_data, train_labels, val_data, val_labels, test_data, test_labels = database.load_data()"
   ]
  },
  {
   "cell_type": "markdown",
   "metadata": {},
   "source": [
    "Let's inspect some properties of the loaded data."
   ]
  },
  {
   "cell_type": "code",
   "execution_count": 5,
   "metadata": {
    "pycharm": {
     "is_executing": false
    }
   },
   "outputs": [
    {
     "name": "stdout",
     "output_type": "stream",
     "text": [
      "200000\n",
      "40000\n",
      "40000\n",
      "<class 'numpy.ndarray'>\n"
     ]
    },
    {
     "data": {
      "text/plain": [
       "(28, 28)"
      ]
     },
     "execution_count": 5,
     "metadata": {},
     "output_type": "execute_result"
    }
   ],
   "source": [
    "print(len(train_data))\n",
    "print(len(val_data))\n",
    "print(len(test_data))\n",
    "print(type(train_data[0]))\n",
    "train_data[0].shape"
   ]
  },
  {
   "cell_type": "markdown",
   "metadata": {},
   "source": [
    "So, as we have seen, our dataset is composed by a set of matrixes of 28 by 28. Before starting with the federated scenario, we can take a look to a sample in the training data."
   ]
  },
  {
   "cell_type": "code",
   "execution_count": 6,
   "metadata": {
    "pycharm": {
     "is_executing": false
    }
   },
   "outputs": [
    {
     "data": {
      "text/plain": [
       "<matplotlib.image.AxesImage at 0x7f3ef92c89b0>"
      ]
     },
     "execution_count": 6,
     "metadata": {},
     "output_type": "execute_result"
    },
    {
     "data": {
      "image/png": "[encoded data removed]",
      "text/plain": [
       "<Figure size 432x288 with 1 Axes>"
      ]
     },
     "metadata": {
      "needs_background": "light"
     },
     "output_type": "display_data"
    }
   ],
   "source": [
    "import matplotlib.pyplot as plt\n",
    "\n",
    "plt.imshow(train_data[0])"
   ]
  },
  {
   "cell_type": "markdown",
   "metadata": {},
   "source": [
    "We are going to simulate a federated learning scenario with a set of client nodes containing private data, and a central server that will be responsible to coordinate the different clients. But, first of all, we have to simulate the data contained in every client. In order to do that, we are going to use the previous dataset loaded. The assumption in this example will be the data is distributed as a set of independent and identically distributed random variables, having every node more o less the same amount of data. There are a set of different posibilities in order to distribute the data. The distribution of the data is one of the factor that could impact more to a federated algorithm. Therefore, the framework contains the implementation of some of the most common distribution that allow you experiment different situations easily. In this [link]() you can dig into the options that the framework provides at the moment."
   ]
  },
  {
   "cell_type": "code",
   "execution_count": 7,
   "metadata": {
    "pycharm": {
     "is_executing": false
    }
   },
   "outputs": [],
   "source": [
    "iid_distribution = shfl.data_distribution.IidDataDistribution(database)\n",
    "federated_data, test_data, test_label = iid_distribution.get_federated_data(\"emnist\", 20, percent=10)"
   ]
  },
  {
   "cell_type": "markdown",
   "metadata": {},
   "source": [
    "That's it. We have created federated data from the Emnist dataset with 20 nodes and using only 10 percent of the available data. This data is a set of data nodes containing private data. This private data needs a identifier that we have provided in the creation of the federated data, in this case \"emnist\". Let's learn a little about the federated data."
   ]
  },
  {
   "cell_type": "code",
   "execution_count": 8,
   "metadata": {
    "pycharm": {
     "is_executing": false
    }
   },
   "outputs": [
    {
     "name": "stdout",
     "output_type": "stream",
     "text": [
      "<class 'shfl.core.federated_operation.FederatedData'>\n",
      "20\n",
      "Node private data, you can see the data for debug purposes but the data remains in the node\n",
      "<class 'dict'>\n",
      "{'emnist': <shfl.core.data.LabeledData object at 0x7f3ef92759b0>}\n"
     ]
    }
   ],
   "source": [
    "print(type(federated_data))\n",
    "print(federated_data.num_nodes())\n",
    "federated_data[0].private_data"
   ]
  },
  {
   "cell_type": "markdown",
   "metadata": {},
   "source": [
    "As we can see, private data in a node is not accesible directly but the framework provides mechanisms to use this data in a machine learning model. A federated learning algorithm is defined by a local model to learn from data in every node and a way to aggregate the different model parameters in a central node. In this example we will use a deep learning model using keras to build it. The framework provides a class to adapt a Keras model to the framework, your job is only create a function that will act as model builder."
   ]
  },
  {
   "cell_type": "code",
   "execution_count": 9,
   "metadata": {
    "pycharm": {
     "is_executing": false
    }
   },
   "outputs": [],
   "source": [
    "import keras\n",
    "\n",
    "def model_builder():\n",
    "    model = keras.models.Sequential()\n",
    "    model.add(keras.layers.Conv2D(32, kernel_size=(3, 3), padding='same', activation='relu', strides=1, input_shape=(28, 28, 1)))\n",
    "    model.add(keras.layers.MaxPooling2D(pool_size=2, strides=2, padding='valid'))\n",
    "    model.add(keras.layers.Dropout(0.4))\n",
    "    model.add(keras.layers.Conv2D(32, kernel_size=(3, 3), padding='same', activation='relu', strides=1))\n",
    "    model.add(keras.layers.MaxPooling2D(pool_size=2, strides=2, padding='valid'))\n",
    "    model.add(keras.layers.Dropout(0.3))\n",
    "    model.add(keras.layers.Flatten())\n",
    "    model.add(keras.layers.Dense(128, activation='relu'))\n",
    "    model.add(keras.layers.Dropout(0.1))\n",
    "    model.add(keras.layers.Dense(64, activation='relu'))\n",
    "    model.add(keras.layers.Dense(10, activation='softmax'))\n",
    "\n",
    "    model.compile(optimizer=\"rmsprop\", loss=\"categorical_crossentropy\", metrics=[\"accuracy\"])\n",
    "    \n",
    "    return shfl.model.DeepLearningModel(model)"
   ]
  },
  {
   "cell_type": "markdown",
   "metadata": {},
   "source": [
    "Now, we a model to deploy over nodes a set of nodes with data. The only piece missing is the aggregation operator. Nevertheless the framework provides some aggregation operators that we can use inmediatly. In the following piece of code we define the federated algorithm."
   ]
  },
  {
   "cell_type": "code",
   "execution_count": 10,
   "metadata": {
    "pycharm": {
     "is_executing": false
    }
   },
   "outputs": [
    {
     "name": "stdout",
     "output_type": "stream",
     "text": [
      "WARNING:tensorflow:From /home/rbnuria/.local/lib/python3.6/site-packages/keras/backend/tensorflow_backend.py:4070: The name tf.nn.max_pool is deprecated. Please use tf.nn.max_pool2d instead.\n",
      "\n"
     ]
    }
   ],
   "source": [
    "aggregator = shfl.federated_aggregator.AvgFedAggregator()\n",
    "federated_government = shfl.learning_approach.FederatedGovernment(model_builder, federated_data, aggregator)"
   ]
  },
  {
   "cell_type": "markdown",
   "metadata": {},
   "source": [
    "If you want to see all the aggregation operators you can follow the following [link](). Before executing the algorithm we want to make a data transformation. The good practise to do that is to define a federated operation that will be apply over every node. We want to reshape the data, so we define the following FederatedTransformation."
   ]
  },
  {
   "cell_type": "code",
   "execution_count": 11,
   "metadata": {
    "pycharm": {
     "is_executing": false
    }
   },
   "outputs": [],
   "source": [
    "import numpy as np\n",
    "\n",
    "class Reshape(shfl.core.FederatedTransformation):\n",
    "    \n",
    "    def apply(self, labeled_data):\n",
    "        labeled_data.data = np.reshape(labeled_data.data, (labeled_data.data.shape[0], labeled_data.data.shape[1], labeled_data.data.shape[2],1))\n",
    "        \n",
    "shfl.core.federated_operation.apply_federated_transformation(federated_data, Reshape())"
   ]
  },
  {
   "cell_type": "markdown",
   "metadata": {},
   "source": [
    "In addition, we want to normalize the data. We define a federated transformation using mean and standard deviation (std) parameters. We use mean and std of the test set in this example. "
   ]
  },
  {
   "cell_type": "code",
   "execution_count": 18,
   "metadata": {
    "pycharm": {
     "is_executing": false,
     "name": "#%%\n"
    }
   },
   "outputs": [],
   "source": [
    "import numpy as np\n",
    "\n",
    "class Normalize(shfl.core.FederatedTransformation):\n",
    "    \n",
    "    def __init__(self, mean, std):\n",
    "        self.__mean = mean\n",
    "        self.__std = std\n",
    "    \n",
    "    def apply(self, labeled_data):\n",
    "        labeled_data.data = (labeled_data.data - self.__mean)/self.__std\n",
    "        \n",
    "        \n",
    "mean = np.mean(test_data.data)\n",
    "std = np.std(test_data.data)\n",
    "shfl.core.federated_operation.apply_federated_transformation(federated_data, Normalize(mean, std))"
   ]
  },
  {
   "cell_type": "markdown",
   "metadata": {},
   "source": [
    "We are now ready to execute our federated learning algorithm."
   ]
  },
  {
   "cell_type": "code",
   "execution_count": 19,
   "metadata": {
    "pycharm": {
     "is_executing": true
    }
   },
   "outputs": [
    {
     "name": "stdout",
     "output_type": "stream",
     "text": [
      "Accuracy round 0\n",
      "WARNING:tensorflow:From /home/rbnuria/.local/lib/python3.6/site-packages/keras/backend/tensorflow_backend.py:422: The name tf.global_variables is deprecated. Please use tf.compat.v1.global_variables instead.\n",
      "\n",
      "Test Accuracy Client <shfl.core.node.DataNode object at 0x7f3ef9275ba8>: 0.7799\n",
      "Test Accuracy Client <shfl.core.node.DataNode object at 0x7f3ef9275a90>: 0.7687\n",
      "Test Accuracy Client <shfl.core.node.DataNode object at 0x7f3ef9275630>: 0.71515\n",
      "Test Accuracy Client <shfl.core.node.DataNode object at 0x7f3ef9275d30>: 0.7066\n",
      "Test Accuracy Client <shfl.core.node.DataNode object at 0x7f3ef97bab00>: 0.667325\n",
      "Test Accuracy Client <shfl.core.node.DataNode object at 0x7f3ef932a3c8>: 0.769825\n",
      "Test Accuracy Client <shfl.core.node.DataNode object at 0x7f3ef932a1d0>: 0.751375\n",
      "Test Accuracy Client <shfl.core.node.DataNode object at 0x7f3ef932a0f0>: 0.737275\n",
      "Test Accuracy Client <shfl.core.node.DataNode object at 0x7f3ef926fb70>: 0.589625\n",
      "Test Accuracy Client <shfl.core.node.DataNode object at 0x7f3ef926f1d0>: 0.48455\n",
      "Test Accuracy Client <shfl.core.node.DataNode object at 0x7f3ef926f390>: 0.6753\n",
      "Test Accuracy Client <shfl.core.node.DataNode object at 0x7f3ef926f0b8>: 0.7392\n",
      "Test Accuracy Client <shfl.core.node.DataNode object at 0x7f3ef926ff98>: 0.691325\n",
      "Test Accuracy Client <shfl.core.node.DataNode object at 0x7f3ef926fda0>: 0.720225\n",
      "Test Accuracy Client <shfl.core.node.DataNode object at 0x7f3ef926fac8>: 0.548775\n",
      "Test Accuracy Client <shfl.core.node.DataNode object at 0x7f3ef926fbe0>: 0.605375\n",
      "Test Accuracy Client <shfl.core.node.DataNode object at 0x7f3ef926fb38>: 0.755875\n",
      "Test Accuracy Client <shfl.core.node.DataNode object at 0x7f3ef926ff28>: 0.789375\n",
      "Test Accuracy Client <shfl.core.node.DataNode object at 0x7f3ef9314ba8>: 0.6236\n",
      "Test Accuracy Client <shfl.core.node.DataNode object at 0x7f3ef9261a90>: 0.670525\n",
      "Global model test Accuracy Client : 0.731325\n",
      "\n",
      "\n",
      "\n",
      "Accuracy round 1\n",
      "Test Accuracy Client <shfl.core.node.DataNode object at 0x7f3ef9275ba8>: 0.8438\n",
      "Test Accuracy Client <shfl.core.node.DataNode object at 0x7f3ef9275a90>: 0.82865\n",
      "Test Accuracy Client <shfl.core.node.DataNode object at 0x7f3ef9275630>: 0.767275\n",
      "Test Accuracy Client <shfl.core.node.DataNode object at 0x7f3ef9275d30>: 0.7668\n",
      "Test Accuracy Client <shfl.core.node.DataNode object at 0x7f3ef97bab00>: 0.829675\n",
      "Test Accuracy Client <shfl.core.node.DataNode object at 0x7f3ef932a3c8>: 0.8257\n",
      "Test Accuracy Client <shfl.core.node.DataNode object at 0x7f3ef932a1d0>: 0.757325\n",
      "Test Accuracy Client <shfl.core.node.DataNode object at 0x7f3ef932a0f0>: 0.851\n",
      "Test Accuracy Client <shfl.core.node.DataNode object at 0x7f3ef926fb70>: 0.65765\n",
      "Test Accuracy Client <shfl.core.node.DataNode object at 0x7f3ef926f1d0>: 0.760275\n",
      "Test Accuracy Client <shfl.core.node.DataNode object at 0x7f3ef926f390>: 0.779175\n",
      "Test Accuracy Client <shfl.core.node.DataNode object at 0x7f3ef926f0b8>: 0.82045\n",
      "Test Accuracy Client <shfl.core.node.DataNode object at 0x7f3ef926ff98>: 0.7828\n",
      "Test Accuracy Client <shfl.core.node.DataNode object at 0x7f3ef926fda0>: 0.70055\n",
      "Test Accuracy Client <shfl.core.node.DataNode object at 0x7f3ef926fac8>: 0.6765\n",
      "Test Accuracy Client <shfl.core.node.DataNode object at 0x7f3ef926fbe0>: 0.67775\n",
      "Test Accuracy Client <shfl.core.node.DataNode object at 0x7f3ef926fb38>: 0.7504\n",
      "Test Accuracy Client <shfl.core.node.DataNode object at 0x7f3ef926ff28>: 0.7645\n",
      "Test Accuracy Client <shfl.core.node.DataNode object at 0x7f3ef9314ba8>: 0.7726\n",
      "Test Accuracy Client <shfl.core.node.DataNode object at 0x7f3ef9261a90>: 0.7718\n",
      "Global model test Accuracy Client : 0.850125\n",
      "\n",
      "\n",
      "\n",
      "Accuracy round 2\n",
      "Test Accuracy Client <shfl.core.node.DataNode object at 0x7f3ef9275ba8>: 0.8762\n",
      "Test Accuracy Client <shfl.core.node.DataNode object at 0x7f3ef9275a90>: 0.842975\n",
      "Test Accuracy Client <shfl.core.node.DataNode object at 0x7f3ef9275630>: 0.796575\n",
      "Test Accuracy Client <shfl.core.node.DataNode object at 0x7f3ef9275d30>: 0.78255\n",
      "Test Accuracy Client <shfl.core.node.DataNode object at 0x7f3ef97bab00>: 0.785175\n",
      "Test Accuracy Client <shfl.core.node.DataNode object at 0x7f3ef932a3c8>: 0.83685\n",
      "Test Accuracy Client <shfl.core.node.DataNode object at 0x7f3ef932a1d0>: 0.790525\n",
      "Test Accuracy Client <shfl.core.node.DataNode object at 0x7f3ef932a0f0>: 0.7973\n",
      "Test Accuracy Client <shfl.core.node.DataNode object at 0x7f3ef926fb70>: 0.759075\n",
      "Test Accuracy Client <shfl.core.node.DataNode object at 0x7f3ef926f1d0>: 0.71945\n",
      "Test Accuracy Client <shfl.core.node.DataNode object at 0x7f3ef926f390>: 0.71845\n",
      "Test Accuracy Client <shfl.core.node.DataNode object at 0x7f3ef926f0b8>: 0.873225\n",
      "Test Accuracy Client <shfl.core.node.DataNode object at 0x7f3ef926ff98>: 0.693025\n",
      "Test Accuracy Client <shfl.core.node.DataNode object at 0x7f3ef926fda0>: 0.7484\n",
      "Test Accuracy Client <shfl.core.node.DataNode object at 0x7f3ef926fac8>: 0.67675\n",
      "Test Accuracy Client <shfl.core.node.DataNode object at 0x7f3ef926fbe0>: 0.76085\n",
      "Test Accuracy Client <shfl.core.node.DataNode object at 0x7f3ef926fb38>: 0.7615\n",
      "Test Accuracy Client <shfl.core.node.DataNode object at 0x7f3ef926ff28>: 0.82475\n",
      "Test Accuracy Client <shfl.core.node.DataNode object at 0x7f3ef9314ba8>: 0.8426\n",
      "Test Accuracy Client <shfl.core.node.DataNode object at 0x7f3ef9261a90>: 0.783775\n",
      "Global model test Accuracy Client : 0.83875\n",
      "\n",
      "\n",
      "\n"
     ]
    }
   ],
   "source": [
    "test_data = np.reshape(test_data, (test_data.shape[0], test_data.shape[1], test_data.shape[2],1))\n",
    "federated_government.run_rounds(3, test_data, test_label)"
   ]
  },
  {
   "cell_type": "code",
   "execution_count": null,
   "metadata": {},
   "outputs": [],
   "source": []
  }
 ],
 "metadata": {
  "kernelspec": {
   "display_name": "Python 3",
   "language": "python",
   "name": "python3"
  },
  "language_info": {
   "codemirror_mode": {
    "name": "ipython",
    "version": 3
   },
   "file_extension": ".py",
   "mimetype": "text/x-python",
   "name": "python",
   "nbconvert_exporter": "python",
   "pygments_lexer": "ipython3",
   "version": "3.6.9"
  },
  "pycharm": {
   "stem_cell": {
    "cell_type": "raw",
    "metadata": {
     "collapsed": false
    },
    "source": []
   }
  }
 },
 "nbformat": 4,
 "nbformat_minor": 2
}
