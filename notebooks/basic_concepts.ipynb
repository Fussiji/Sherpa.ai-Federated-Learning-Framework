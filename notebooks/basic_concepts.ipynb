{
 "cells": [
  {
   "cell_type": "markdown",
   "metadata": {},
   "source": [
    "# Federated learning: Simple experiment\n",
    "\n",
    "In this notebook we provide a simple example of how to make an experiment of a federated environment with the help of this framework. We are going to use a popular dataset to start the experimentation in a federated environment. The framework provides some functions to load the [Emnist](https://www.nist.gov/itl/products-and-services/emnist-dataset) Digits dataset."
   ]
  },
  {
   "cell_type": "code",
   "execution_count": 1,
   "metadata": {},
   "outputs": [],
   "source": [
    "from shfl.data_base.emnist import Emnist\n",
    "\n",
    "database = Emnist()\n",
    "train_data, train_labels, val_data, val_labels, test_data, test_labels = database.load_data()"
   ]
  },
  {
   "cell_type": "markdown",
   "metadata": {},
   "source": [
    "Let's inspect some properties of the loaded data."
   ]
  },
  {
   "cell_type": "code",
   "execution_count": 2,
   "metadata": {},
   "outputs": [
    {
     "name": "stdout",
     "output_type": "stream",
     "text": [
      "199999\n",
      "40000\n",
      "40000\n",
      "<class 'numpy.ndarray'>\n"
     ]
    },
    {
     "data": {
      "text/plain": [
       "(28, 28)"
      ]
     },
     "execution_count": 2,
     "metadata": {},
     "output_type": "execute_result"
    }
   ],
   "source": [
    "print(len(train_data))\n",
    "print(len(val_data))\n",
    "print(len(test_data))\n",
    "print(type(train_data[0]))\n",
    "train_data[0].shape"
   ]
  },
  {
   "cell_type": "markdown",
   "metadata": {},
   "source": [
    "So, as we have seen, our dataset is composed by a set of matrixes of 28 by 28. Before starting with the federated scenario, we can take a look to a sample in the training data."
   ]
  },
  {
   "cell_type": "code",
   "execution_count": 3,
   "metadata": {},
   "outputs": [
    {
     "data": {
      "text/plain": [
       "<matplotlib.image.AxesImage at 0x1249bb410>"
      ]
     },
     "execution_count": 3,
     "metadata": {},
     "output_type": "execute_result"
    }
   ],
   "source": [
    "import matplotlib.pyplot as plt\n",
    "\n",
    "plt.imshow(train_data[0])"
   ]
  },
  {
   "cell_type": "markdown",
   "metadata": {},
   "source": [
    "We are going to simulate a federated learning scenario with a set of client nodes containing private data, and a central server that will be responsible to coordinate the different clients. But, first of all, we have to simulate the data contained in every client. In order to do that, we are going to use the previous dataset loaded. The assumption in this example will be the data is distributed as a set of independent and identically distributed random variables, having every node more o less the same amount of data. There are a set of different posibilities in order to distribute the data. The distribution of the data is one of the factor that could impact more to a federated algorithm. Therefore, the framework contains the implementation of some of the most common distribution that allow you experiment different situations easily. In this [link]() you can dig into the options that the framework provides at the moment."
   ]
  },
  {
   "cell_type": "code",
   "execution_count": 4,
   "metadata": {},
   "outputs": [],
   "source": [
    "from data_distribution.data_distribution_iid import IidDataDistribution\n",
    "from core.node import DataNode\n",
    "\n",
    "iid_distribution = IidDataDistribution(database)\n",
    "federated_data, test_data, test_label = iid_distribution.get_federated_data(\"emnist\", 20, percent=10)"
   ]
  },
  {
   "cell_type": "markdown",
   "metadata": {},
   "source": [
    "That's it. We have created federated data from the Emnist dataset with 20 nodes and using only 10 percent of the available data. This data is a set of data nodes containing private data. This private data needs a identifier that we have provided in the creation of the federated data, in this case \"emnist\". Let's learn a little about the federated data."
   ]
  },
  {
   "cell_type": "code",
   "execution_count": 5,
   "metadata": {},
   "outputs": [
    {
     "name": "stdout",
     "output_type": "stream",
     "text": [
      "<class 'shfl.core.data.FederatedData'>\n",
      "20\n",
      "Node private data, you can see the data for debug purposes but the data remains in the node\n",
      "<class 'dict'>\n",
      "{'emnist': <shfl.core.data.LabeledData object at 0x11cf47a10>}\n"
     ]
    }
   ],
   "source": [
    "print(type(federated_data))\n",
    "print(federated_data.num_nodes())\n",
    "federated_data[0].private_data"
   ]
  },
  {
   "cell_type": "markdown",
   "metadata": {},
   "source": [
    "As we can see, private data in a node is not accesible directly but the framework provides mechanisms to use this data in a machine learning model. A federated learning algorithm is defined by a local model to learn from data in every node and a way to aggregate the different model parameters in a central node. In this example we will use a deep learning model using keras to build it. The framework provides a class to adapt a Keras model to the framework, your job is only create a function that will act as model builder."
   ]
  },
  {
   "cell_type": "code",
   "execution_count": 6,
   "metadata": {},
   "outputs": [
    {
     "name": "stderr",
     "output_type": "stream",
     "text": [
      "Using TensorFlow backend.\n"
     ]
    }
   ],
   "source": [
    "from keras.models import Sequential\n",
    "from keras.layers import Dense, Conv2D, Flatten, MaxPooling2D, Dropout\n",
    "from model.deep_learning_model import KerasDeepLearningModel\n",
    "\n",
    "def model_builder():\n",
    "    model = Sequential()\n",
    "    model.add(Conv2D(32, kernel_size=(3, 3), padding='same', activation='relu', strides=1, input_shape=(28, 28, 1)))\n",
    "    model.add(MaxPooling2D(pool_size=2, strides=2, padding='valid'))\n",
    "    model.add(Dropout(0.4))\n",
    "    model.add(Conv2D(32, kernel_size=(3, 3), padding='same', activation='relu', strides=1))\n",
    "    model.add(MaxPooling2D(pool_size=2, strides=2, padding='valid'))\n",
    "    model.add(Dropout(0.3))\n",
    "    model.add(Flatten())\n",
    "    model.add(Dense(128, activation='relu'))\n",
    "    model.add(Dropout(0.1))\n",
    "    model.add(Dense(64, activation='relu'))\n",
    "    model.add(Dense(10, activation='softmax'))\n",
    "\n",
    "    model.compile(optimizer=\"rmsprop\", loss=\"categorical_crossentropy\", metrics=[\"accuracy\"])\n",
    "    \n",
    "    return KerasDeepLearningModel(model)"
   ]
  },
  {
   "cell_type": "markdown",
   "metadata": {},
   "source": [
    "Now, we a model to deploy over nodes a set of nodes with data. The only piece missing is the aggregation operator. Nevertheless the framework provides some aggregation operators that we can use inmediatly. In the following piece of code we define the federated algorithm."
   ]
  },
  {
   "cell_type": "code",
   "execution_count": 7,
   "metadata": {},
   "outputs": [],
   "source": [
    "from shfl.learning_approach.learning_approach import LearningApproach\n",
    "from shfl.learning_approach.federated_government import FederatedGovernment\n",
    "from shfl.federated_aggregator.fsvrg_aggregator import AvgFedAggregator\n",
    "\n",
    "aggregator = AvgFedAggregator()\n",
    "federated_government = FederatedGovernment(model_builder, federated_data, aggregator)"
   ]
  },
  {
   "cell_type": "markdown",
   "metadata": {},
   "source": [
    "If you want to see all the aggregation operators you can follow the following [link](). Before executing the algorithm we want to make a data transformation. The good practise to do that is to define a federated operation that will be apply over every node. We want to reshape the data, so we define the following FederatedTransformation."
   ]
  },
  {
   "cell_type": "code",
   "execution_count": 8,
   "metadata": {},
   "outputs": [],
   "source": [
    "import numpy as np\n",
    "import keras\n",
    "\n",
    "import core.federated_operation\n",
    "from core.federated_operation import FederatedTransformation\n",
    "\n",
    "class Reshape(FederatedTransformation):\n",
    "    \n",
    "    def apply(self, labeled_data):\n",
    "        labeled_data.data = np.reshape(labeled_data.data, (labeled_data.data.shape[0], labeled_data.data.shape[1], labeled_data.data.shape[2],1))\n",
    "        labeled_data.label = keras.utils.to_categorical(labeled_data.label, 10)\n",
    "        \n",
    "core.federated_operation.apply_federated_transformation(federated_data, Reshape())"
   ]
  },
  {
   "cell_type": "markdown",
   "metadata": {},
   "source": [
    "We are now ready to execute our federated learning algorithm."
   ]
  },
  {
   "cell_type": "code",
   "execution_count": 9,
   "metadata": {},
   "outputs": [
    {
     "name": "stdout",
     "output_type": "stream",
     "text": [
      "Accuracy round 0\n",
      "Test Accuracy Client <shfl.core.node.DataNode object at 0x11cf478d0>: 0.36705\n",
      "Test Accuracy Client <shfl.core.node.DataNode object at 0x11cf47a50>: 0.429725\n",
      "Test Accuracy Client <shfl.core.node.DataNode object at 0x11cf47ad0>: 0.37565\n",
      "Test Accuracy Client <shfl.core.node.DataNode object at 0x11cf47b50>: 0.43395\n",
      "Test Accuracy Client <shfl.core.node.DataNode object at 0x11cf47bd0>: 0.377575\n",
      "Test Accuracy Client <shfl.core.node.DataNode object at 0x11cf47c90>: 0.423325\n",
      "Test Accuracy Client <shfl.core.node.DataNode object at 0x11cf47d10>: 0.374775\n",
      "Test Accuracy Client <shfl.core.node.DataNode object at 0x11cf47d90>: 0.32095\n",
      "Test Accuracy Client <shfl.core.node.DataNode object at 0x11cf47e10>: 0.412275\n",
      "Test Accuracy Client <shfl.core.node.DataNode object at 0x11cf47e50>: 0.372425\n",
      "Test Accuracy Client <shfl.core.node.DataNode object at 0x11cf47ed0>: 0.3711\n",
      "Test Accuracy Client <shfl.core.node.DataNode object at 0x11cf47f50>: 0.387925\n",
      "Test Accuracy Client <shfl.core.node.DataNode object at 0x11cf47fd0>: 0.3478\n",
      "Test Accuracy Client <shfl.core.node.DataNode object at 0x11cf4c090>: 0.40835\n",
      "Test Accuracy Client <shfl.core.node.DataNode object at 0x11cf4c110>: 0.33805\n",
      "Test Accuracy Client <shfl.core.node.DataNode object at 0x11cf4c190>: 0.443875\n",
      "Test Accuracy Client <shfl.core.node.DataNode object at 0x11cf4c210>: 0.385625\n",
      "Test Accuracy Client <shfl.core.node.DataNode object at 0x11cf4c290>: 0.4123\n",
      "Test Accuracy Client <shfl.core.node.DataNode object at 0x11cf4c310>: 0.376775\n",
      "Test Accuracy Client <shfl.core.node.DataNode object at 0x11cf4c390>: 0.3789\n",
      "Global model test Accuracy Client : 0.3489\n",
      "\n",
      "\n",
      "\n",
      "Accuracy round 1\n",
      "Test Accuracy Client <shfl.core.node.DataNode object at 0x11cf478d0>: 0.517075\n",
      "Test Accuracy Client <shfl.core.node.DataNode object at 0x11cf47a50>: 0.5504\n",
      "Test Accuracy Client <shfl.core.node.DataNode object at 0x11cf47ad0>: 0.461175\n",
      "Test Accuracy Client <shfl.core.node.DataNode object at 0x11cf47b50>: 0.4762\n",
      "Test Accuracy Client <shfl.core.node.DataNode object at 0x11cf47bd0>: 0.55485\n",
      "Test Accuracy Client <shfl.core.node.DataNode object at 0x11cf47c90>: 0.447375\n",
      "Test Accuracy Client <shfl.core.node.DataNode object at 0x11cf47d10>: 0.487175\n",
      "Test Accuracy Client <shfl.core.node.DataNode object at 0x11cf47d90>: 0.450625\n",
      "Test Accuracy Client <shfl.core.node.DataNode object at 0x11cf47e10>: 0.565125\n",
      "Test Accuracy Client <shfl.core.node.DataNode object at 0x11cf47e50>: 0.465975\n",
      "Test Accuracy Client <shfl.core.node.DataNode object at 0x11cf47ed0>: 0.5432\n",
      "Test Accuracy Client <shfl.core.node.DataNode object at 0x11cf47f50>: 0.524575\n",
      "Test Accuracy Client <shfl.core.node.DataNode object at 0x11cf47fd0>: 0.4327\n",
      "Test Accuracy Client <shfl.core.node.DataNode object at 0x11cf4c090>: 0.54505\n",
      "Test Accuracy Client <shfl.core.node.DataNode object at 0x11cf4c110>: 0.51365\n",
      "Test Accuracy Client <shfl.core.node.DataNode object at 0x11cf4c190>: 0.517725\n",
      "Test Accuracy Client <shfl.core.node.DataNode object at 0x11cf4c210>: 0.52635\n",
      "Test Accuracy Client <shfl.core.node.DataNode object at 0x11cf4c290>: 0.437925\n",
      "Test Accuracy Client <shfl.core.node.DataNode object at 0x11cf4c310>: 0.459475\n",
      "Test Accuracy Client <shfl.core.node.DataNode object at 0x11cf4c390>: 0.5279\n",
      "Global model test Accuracy Client : 0.501725\n",
      "\n",
      "\n",
      "\n",
      "Accuracy round 2\n",
      "Test Accuracy Client <shfl.core.node.DataNode object at 0x11cf478d0>: 0.665825\n",
      "Test Accuracy Client <shfl.core.node.DataNode object at 0x11cf47a50>: 0.707\n",
      "Test Accuracy Client <shfl.core.node.DataNode object at 0x11cf47ad0>: 0.65555\n",
      "Test Accuracy Client <shfl.core.node.DataNode object at 0x11cf47b50>: 0.688275\n",
      "Test Accuracy Client <shfl.core.node.DataNode object at 0x11cf47bd0>: 0.73225\n",
      "Test Accuracy Client <shfl.core.node.DataNode object at 0x11cf47c90>: 0.7184\n",
      "Test Accuracy Client <shfl.core.node.DataNode object at 0x11cf47d10>: 0.64935\n",
      "Test Accuracy Client <shfl.core.node.DataNode object at 0x11cf47d90>: 0.71855\n",
      "Test Accuracy Client <shfl.core.node.DataNode object at 0x11cf47e10>: 0.6613\n",
      "Test Accuracy Client <shfl.core.node.DataNode object at 0x11cf47e50>: 0.631075\n",
      "Test Accuracy Client <shfl.core.node.DataNode object at 0x11cf47ed0>: 0.6737\n",
      "Test Accuracy Client <shfl.core.node.DataNode object at 0x11cf47f50>: 0.700925\n",
      "Test Accuracy Client <shfl.core.node.DataNode object at 0x11cf47fd0>: 0.6584\n",
      "Test Accuracy Client <shfl.core.node.DataNode object at 0x11cf4c090>: 0.714875\n",
      "Test Accuracy Client <shfl.core.node.DataNode object at 0x11cf4c110>: 0.629175\n",
      "Test Accuracy Client <shfl.core.node.DataNode object at 0x11cf4c190>: 0.6894\n",
      "Test Accuracy Client <shfl.core.node.DataNode object at 0x11cf4c210>: 0.692825\n",
      "Test Accuracy Client <shfl.core.node.DataNode object at 0x11cf4c290>: 0.661075\n",
      "Test Accuracy Client <shfl.core.node.DataNode object at 0x11cf4c310>: 0.700875\n",
      "Test Accuracy Client <shfl.core.node.DataNode object at 0x11cf4c390>: 0.68295\n",
      "Global model test Accuracy Client : 0.693875\n",
      "\n",
      "\n",
      "\n"
     ]
    }
   ],
   "source": [
    "test_data = np.reshape(test_data, (test_data.shape[0], test_data.shape[1], test_data.shape[2],1))\n",
    "federated_government.run_rounds(3, test_data, test_label)"
   ]
  }
 ],
 "metadata": {
  "kernelspec": {
   "display_name": "Python 3",
   "language": "python",
   "name": "python3"
  },
  "language_info": {
   "codemirror_mode": {
    "name": "ipython",
    "version": 3
   },
   "file_extension": ".py",
   "mimetype": "text/x-python",
   "name": "python",
   "nbconvert_exporter": "python",
   "pygments_lexer": "ipython3",
   "version": "3.7.4"
  }
 },
 "nbformat": 4,
 "nbformat_minor": 2
}
