{
 "cells": [
  {
   "cell_type": "markdown",
   "metadata": {},
   "source": [
    "# Federated learning: Simple experiment\n",
    "\n",
    "In this notebook we provide a simple example of how to make an experiment of a federated environment with the help of this framework. We are going to use a popular dataset to start the experimentation in a federated environment. The framework provides some functions to load the [Emnist](https://www.nist.gov/itl/products-and-services/emnist-dataset) Digits dataset."
   ]
  },
  {
   "cell_type": "code",
   "execution_count": 1,
   "metadata": {
    "pycharm": {
     "is_executing": false
    }
   },
   "outputs": [
    {
     "name": "stderr",
     "output_type": "stream",
     "text": [
      "Using TensorFlow backend.\n"
     ]
    }
   ],
   "source": [
    "import matplotlib.pyplot as plt\n",
    "import shfl\n",
    "\n",
    "database = shfl.data_base.Emnist()\n",
    "train_data, train_labels, val_data, val_labels, test_data, test_labels = database.load_data()"
   ]
  },
  {
   "cell_type": "markdown",
   "metadata": {},
   "source": [
    "Let's inspect some properties of the loaded data."
   ]
  },
  {
   "cell_type": "code",
   "execution_count": 2,
   "metadata": {
    "pycharm": {
     "is_executing": false
    }
   },
   "outputs": [
    {
     "name": "stdout",
     "output_type": "stream",
     "text": [
      "200000\n",
      "40000\n",
      "40000\n",
      "<class 'numpy.ndarray'>\n"
     ]
    },
    {
     "data": {
      "text/plain": [
       "(28, 28)"
      ]
     },
     "execution_count": 2,
     "metadata": {},
     "output_type": "execute_result"
    }
   ],
   "source": [
    "print(len(train_data))\n",
    "print(len(val_data))\n",
    "print(len(test_data))\n",
    "print(type(train_data[0]))\n",
    "train_data[0].shape"
   ]
  },
  {
   "cell_type": "markdown",
   "metadata": {},
   "source": [
    "So, as we have seen, our dataset is composed by a set of matrixes of 28 by 28. Before starting with the federated scenario, we can take a look to a sample in the training data."
   ]
  },
  {
   "cell_type": "code",
   "execution_count": 3,
   "metadata": {
    "pycharm": {
     "is_executing": false
    }
   },
   "outputs": [
    {
     "data": {
      "text/plain": [
       "<matplotlib.image.AxesImage at 0x10415e990>"
      ]
     },
     "execution_count": 3,
     "metadata": {},
     "output_type": "execute_result"
    },
    {
     "data": {
      "image/png": "[encoded data removed]",
      "text/plain": [
       "<Figure size 432x288 with 1 Axes>"
      ]
     },
     "metadata": {
      "needs_background": "light"
     },
     "output_type": "display_data"
    }
   ],
   "source": [
    "plt.imshow(train_data[0])"
   ]
  },
  {
   "cell_type": "markdown",
   "metadata": {},
   "source": [
    "We are going to simulate a federated learning scenario with a set of client nodes containing private data, and a central server that will be responsible to coordinate the different clients. But, first of all, we have to simulate the data contained in every client. In order to do that, we are going to use the previous dataset loaded. The assumption in this example will be the data is distributed as a set of independent and identically distributed random variables, having every node more o less the same amount of data. There are a set of different posibilities in order to distribute the data. The distribution of the data is one of the factor that could impact more to a federated algorithm. Therefore, the framework contains the implementation of some of the most common distribution that allow you experiment different situations easily. In this [link]() you can dig into the options that the framework provides at the moment."
   ]
  },
  {
   "cell_type": "code",
   "execution_count": 4,
   "metadata": {
    "pycharm": {
     "is_executing": false
    }
   },
   "outputs": [],
   "source": [
    "iid_distribution = shfl.data_distribution.IidDataDistribution(database)\n",
    "federated_data, test_data, test_labels = iid_distribution.get_federated_data(\"emnist\", 20, percent=10)"
   ]
  },
  {
   "cell_type": "markdown",
   "metadata": {},
   "source": [
    "That's it. We have created federated data from the Emnist dataset with 20 nodes and using only 10 percent of the available data. This data is a set of data nodes containing private data. This private data needs a identifier that we have provided in the creation of the federated data, in this case \"emnist\". Let's learn a little about the federated data."
   ]
  },
  {
   "cell_type": "code",
   "execution_count": 5,
   "metadata": {
    "pycharm": {
     "is_executing": false
    }
   },
   "outputs": [
    {
     "name": "stdout",
     "output_type": "stream",
     "text": [
      "<class 'shfl.private.federated_operation.FederatedData'>\n",
      "20\n",
      "Node private data, you can see the data for debug purposes but the data remains in the node\n",
      "<class 'dict'>\n",
      "{'emnist': <shfl.private.data.LabeledData object at 0x14cb7e250>}\n"
     ]
    }
   ],
   "source": [
    "print(type(federated_data))\n",
    "print(federated_data.num_nodes())\n",
    "federated_data[0].private_data"
   ]
  },
  {
   "cell_type": "markdown",
   "metadata": {},
   "source": [
    "As we can see, private data in a node is not accesible directly but the framework provides mechanisms to use this data in a machine learning model. A federated learning algorithm is defined by a local model to learn from data in every node and a way to aggregate the different model parameters in a central node. In this example we will use a deep learning model using keras to build it. The framework provides a class to adapt a Keras model to the framework, your job is only create a function that will act as model builder."
   ]
  },
  {
   "cell_type": "code",
   "execution_count": 6,
   "metadata": {
    "pycharm": {
     "is_executing": false
    }
   },
   "outputs": [],
   "source": [
    "import keras\n",
    "\n",
    "def model_builder():\n",
    "    model = keras.models.Sequential()\n",
    "    model.add(keras.layers.Conv2D(32, kernel_size=(3, 3), padding='same', activation='relu', strides=1, input_shape=(28, 28, 1)))\n",
    "    model.add(keras.layers.MaxPooling2D(pool_size=2, strides=2, padding='valid'))\n",
    "    model.add(keras.layers.Dropout(0.4))\n",
    "    model.add(keras.layers.Conv2D(32, kernel_size=(3, 3), padding='same', activation='relu', strides=1))\n",
    "    model.add(keras.layers.MaxPooling2D(pool_size=2, strides=2, padding='valid'))\n",
    "    model.add(keras.layers.Dropout(0.3))\n",
    "    model.add(keras.layers.Flatten())\n",
    "    model.add(keras.layers.Dense(128, activation='relu'))\n",
    "    model.add(keras.layers.Dropout(0.1))\n",
    "    model.add(keras.layers.Dense(64, activation='relu'))\n",
    "    model.add(keras.layers.Dense(10, activation='softmax'))\n",
    "\n",
    "    model.compile(optimizer=\"rmsprop\", loss=\"categorical_crossentropy\", metrics=[\"accuracy\"])\n",
    "    \n",
    "    return shfl.model.DeepLearningModel(model)"
   ]
  },
  {
   "cell_type": "markdown",
   "metadata": {},
   "source": [
    "Now, we a model to deploy over nodes a set of nodes with data. The only piece missing is the aggregation operator. Nevertheless the framework provides some aggregation operators that we can use inmediatly. In the following piece of code we define the federated algorithm."
   ]
  },
  {
   "cell_type": "code",
   "execution_count": 7,
   "metadata": {
    "pycharm": {
     "is_executing": false
    }
   },
   "outputs": [],
   "source": [
    "aggregator = shfl.federated_aggregator.AvgFedAggregator()\n",
    "federated_government = shfl.learning_approach.FederatedGovernment(model_builder, federated_data, aggregator)"
   ]
  },
  {
   "cell_type": "markdown",
   "metadata": {},
   "source": [
    "If you want to see all the aggregation operators you can follow the following [link](). Before executing the algorithm we want to make a data transformation. The good practise to do that is to define a federated operation that will be apply over every node. We want to reshape the data, so we define the following FederatedTransformation."
   ]
  },
  {
   "cell_type": "code",
   "execution_count": 8,
   "metadata": {
    "pycharm": {
     "is_executing": false
    }
   },
   "outputs": [],
   "source": [
    "import numpy as np\n",
    "\n",
    "class Reshape(shfl.private.FederatedTransformation):\n",
    "    \n",
    "    def apply(self, labeled_data):\n",
    "        labeled_data.data = np.reshape(labeled_data.data, (labeled_data.data.shape[0], labeled_data.data.shape[1], labeled_data.data.shape[2],1))\n",
    "        \n",
    "shfl.private.federated_operation.apply_federated_transformation(federated_data, Reshape())"
   ]
  },
  {
   "cell_type": "markdown",
   "metadata": {},
   "source": [
    "In addition, we want to normalize the data. We define a federated transformation using mean and standard deviation (std) parameters. We use mean and std of the test set in this example. "
   ]
  },
  {
   "cell_type": "code",
   "execution_count": 9,
   "metadata": {
    "pycharm": {
     "is_executing": false,
     "name": "#%%\n"
    }
   },
   "outputs": [],
   "source": [
    "import numpy as np\n",
    "\n",
    "class Normalize(shfl.private.FederatedTransformation):\n",
    "    \n",
    "    def __init__(self, mean, std):\n",
    "        self.__mean = mean\n",
    "        self.__std = std\n",
    "    \n",
    "    def apply(self, labeled_data):\n",
    "        labeled_data.data = (labeled_data.data - self.__mean)/self.__std\n",
    "        \n",
    "        \n",
    "mean = np.mean(test_data.data)\n",
    "std = np.std(test_data.data)\n",
    "shfl.private.federated_operation.apply_federated_transformation(federated_data, Normalize(mean, std))"
   ]
  },
  {
   "cell_type": "markdown",
   "metadata": {},
   "source": [
    "We are now ready to execute our federated learning algorithm."
   ]
  },
  {
   "cell_type": "code",
   "execution_count": 10,
   "metadata": {
    "pycharm": {
     "is_executing": true
    }
   },
   "outputs": [
    {
     "name": "stdout",
     "output_type": "stream",
     "text": [
      "Accuracy round 0\n",
      "Test performance client <shfl.private.node.DataNode object at 0x13e7d6650>: [24.65760655632019, 0.6796749830245972]\n",
      "Test performance client <shfl.private.node.DataNode object at 0x13e7b8c10>: [21.753281824684144, 0.7284250259399414]\n",
      "Test performance client <shfl.private.node.DataNode object at 0x14cb7e950>: [18.751036189460756, 0.7300999760627747]\n",
      "Test performance client <shfl.private.node.DataNode object at 0x14cb7efd0>: [40.17583117599487, 0.5553249716758728]\n",
      "Test performance client <shfl.private.node.DataNode object at 0x14cb7ec10>: [33.477202156448364, 0.6958000063896179]\n",
      "Test performance client <shfl.private.node.DataNode object at 0x14cb7e2d0>: [26.10960860786438, 0.6921499967575073]\n",
      "Test performance client <shfl.private.node.DataNode object at 0x14cb7e510>: [26.614277264213563, 0.6845750212669373]\n",
      "Test performance client <shfl.private.node.DataNode object at 0x14cb7e8d0>: [32.8214959980011, 0.6604250073432922]\n",
      "Test performance client <shfl.private.node.DataNode object at 0x1041bb050>: [53.622336906433105, 0.5342249870300293]\n",
      "Test performance client <shfl.private.node.DataNode object at 0x1041bb390>: [39.482174433898926, 0.5933250188827515]\n",
      "Test performance client <shfl.private.node.DataNode object at 0x14cb7ea90>: [34.92162074394226, 0.6172249913215637]\n",
      "Test performance client <shfl.private.node.DataNode object at 0x1041bbc90>: [22.042424092674256, 0.6891250014305115]\n",
      "Test performance client <shfl.private.node.DataNode object at 0x1041bb910>: [19.011671574401856, 0.7260500192642212]\n",
      "Test performance client <shfl.private.node.DataNode object at 0x1041bb850>: [22.150691837882995, 0.7163749933242798]\n",
      "Test performance client <shfl.private.node.DataNode object at 0x1041bbad0>: [19.196635382461547, 0.7300999760627747]\n",
      "Test performance client <shfl.private.node.DataNode object at 0x1041753d0>: [28.576325394439696, 0.6639750003814697]\n",
      "Test performance client <shfl.private.node.DataNode object at 0x14cb7d710>: [23.90381108560562, 0.7421749830245972]\n",
      "Test performance client <shfl.private.node.DataNode object at 0x14cb7d0d0>: [27.705103409576417, 0.6690250039100647]\n",
      "Test performance client <shfl.private.node.DataNode object at 0x14cb7d650>: [35.2187341506958, 0.6259250044822693]\n",
      "Test performance client <shfl.private.node.DataNode object at 0x14cb7d9d0>: [60.40781435699463, 0.5779749751091003]\n",
      "Global model test performance : [22.380306550216673, 0.5889999866485596]\n",
      "\n",
      "\n",
      "\n",
      "Accuracy round 1\n",
      "Test performance client <shfl.private.node.DataNode object at 0x13e7d6650>: [21.003161669695377, 0.8235250115394592]\n",
      "Test performance client <shfl.private.node.DataNode object at 0x13e7b8c10>: [19.07775965245366, 0.8296499848365784]\n",
      "Test performance client <shfl.private.node.DataNode object at 0x14cb7e950>: [25.54462182545662, 0.7810249924659729]\n",
      "Test performance client <shfl.private.node.DataNode object at 0x14cb7efd0>: [26.66387713261582, 0.784500002861023]\n",
      "Test performance client <shfl.private.node.DataNode object at 0x14cb7ec10>: [20.232080775845052, 0.8277249932289124]\n",
      "Test performance client <shfl.private.node.DataNode object at 0x14cb7e2d0>: [36.08640079059601, 0.7360749840736389]\n",
      "Test performance client <shfl.private.node.DataNode object at 0x14cb7e510>: [30.953783168411256, 0.7718250155448914]\n",
      "Test performance client <shfl.private.node.DataNode object at 0x14cb7e8d0>: [28.9087271640569, 0.7900999784469604]\n",
      "Test performance client <shfl.private.node.DataNode object at 0x1041bb050>: [72.77985594024658, 0.5709249973297119]\n",
      "Test performance client <shfl.private.node.DataNode object at 0x1041bb390>: [25.367738016980887, 0.795324981212616]\n",
      "Test performance client <shfl.private.node.DataNode object at 0x14cb7ea90>: [24.462742681785347, 0.81107497215271]\n",
      "Test performance client <shfl.private.node.DataNode object at 0x1041bbc90>: [25.076173828113077, 0.8031499981880188]\n",
      "Test performance client <shfl.private.node.DataNode object at 0x1041bb910>: [18.546365181416274, 0.8184499740600586]\n",
      "Test performance client <shfl.private.node.DataNode object at 0x1041bb850>: [21.397310056809896, 0.8071249723434448]\n",
      "Test performance client <shfl.private.node.DataNode object at 0x1041bbad0>: [23.337775609638168, 0.8184750080108643]\n",
      "Test performance client <shfl.private.node.DataNode object at 0x1041753d0>: [41.11250375823975, 0.6924750208854675]\n",
      "Test performance client <shfl.private.node.DataNode object at 0x14cb7d710>: [28.657507743430138, 0.7800499796867371]\n",
      "Test performance client <shfl.private.node.DataNode object at 0x14cb7d0d0>: [26.90105897245407, 0.793624997138977]\n",
      "Test performance client <shfl.private.node.DataNode object at 0x14cb7d650>: [31.4333752869606, 0.7452750205993652]\n",
      "Test performance client <shfl.private.node.DataNode object at 0x14cb7d9d0>: [32.71005337865353, 0.7523249983787537]\n",
      "Global model test performance : [17.168688095590472, 0.8424249887466431]\n",
      "\n",
      "\n",
      "\n",
      "Accuracy round 2\n",
      "Test performance client <shfl.private.node.DataNode object at 0x13e7d6650>: [24.947901523956652, 0.82464998960495]\n",
      "Test performance client <shfl.private.node.DataNode object at 0x13e7b8c10>: [16.411591082623396, 0.8631500005722046]\n",
      "Test performance client <shfl.private.node.DataNode object at 0x14cb7e950>: [29.76691458849907, 0.8036500215530396]\n",
      "Test performance client <shfl.private.node.DataNode object at 0x14cb7efd0>: [29.299163247609137, 0.8037750124931335]\n",
      "Test performance client <shfl.private.node.DataNode object at 0x14cb7ec10>: [20.361291952005026, 0.8471500277519226]\n",
      "Test performance client <shfl.private.node.DataNode object at 0x14cb7e2d0>: [35.46860203318596, 0.7821249961853027]\n",
      "Test performance client <shfl.private.node.DataNode object at 0x14cb7e510>: [45.09607502861023, 0.7256749868392944]\n",
      "Test performance client <shfl.private.node.DataNode object at 0x14cb7e8d0>: [27.032490975570678, 0.8116250038146973]\n",
      "Test performance client <shfl.private.node.DataNode object at 0x1041bb050>: [78.6147984375, 0.6101999878883362]\n",
      "Test performance client <shfl.private.node.DataNode object at 0x1041bb390>: [21.347119712394477, 0.836899995803833]\n",
      "Test performance client <shfl.private.node.DataNode object at 0x14cb7ea90>: [19.219457737886977, 0.858299970626831]\n",
      "Test performance client <shfl.private.node.DataNode object at 0x1041bbc90>: [25.78635301394537, 0.8172249794006348]\n",
      "Test performance client <shfl.private.node.DataNode object at 0x1041bb910>: [17.576773570027413, 0.8511750102043152]\n",
      "Test performance client <shfl.private.node.DataNode object at 0x1041bb850>: [32.4344875724554, 0.7703250050544739]\n",
      "Test performance client <shfl.private.node.DataNode object at 0x1041bbad0>: [26.943672507775318, 0.8152750134468079]\n",
      "Test performance client <shfl.private.node.DataNode object at 0x1041753d0>: [55.95794834136963, 0.6454499959945679]\n",
      "Test performance client <shfl.private.node.DataNode object at 0x14cb7d710>: [34.777402060437204, 0.7810500264167786]\n",
      "Test performance client <shfl.private.node.DataNode object at 0x14cb7d0d0>: [21.027014828760905, 0.8465499877929688]\n",
      "Test performance client <shfl.private.node.DataNode object at 0x14cb7d650>: [20.679235262537002, 0.8383749723434448]\n",
      "Test performance client <shfl.private.node.DataNode object at 0x14cb7d9d0>: [25.178851172876357, 0.8115500211715698]\n",
      "Global model test performance : [18.785950840904324, 0.8584250211715698]\n",
      "\n",
      "\n",
      "\n"
     ]
    }
   ],
   "source": [
    "test_data = np.reshape(test_data, (test_data.shape[0], test_data.shape[1], test_data.shape[2],1))\n",
    "federated_government.run_rounds(3, test_data, test_labels)"
   ]
  },
  {
   "cell_type": "code",
   "execution_count": null,
   "metadata": {},
   "outputs": [],
   "source": []
  }
 ],
 "metadata": {
  "kernelspec": {
   "display_name": "Python 3",
   "language": "python",
   "name": "python3"
  },
  "language_info": {
   "codemirror_mode": {
    "name": "ipython",
    "version": 3
   },
   "file_extension": ".py",
   "mimetype": "text/x-python",
   "name": "python",
   "nbconvert_exporter": "python",
   "pygments_lexer": "ipython3",
   "version": "3.7.4"
  },
  "pycharm": {
   "stem_cell": {
    "cell_type": "raw",
    "metadata": {
     "collapsed": false
    },
    "source": []
   }
  }
 },
 "nbformat": 4,
 "nbformat_minor": 2
}
