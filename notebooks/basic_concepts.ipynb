{
 "cells": [
  {
   "cell_type": "markdown",
   "metadata": {},
   "source": [
    "# Federated learning: Simple experiment\n",
    "\n",
    "In this notebook we provide a simple example of how to make an experiment of a federated environment with the help of this framework. We are going to use a popular dataset to start the experimentation in a federated environment. The framework provides some functions to load the [Emnist](https://www.nist.gov/itl/products-and-services/emnist-dataset) Digits dataset."
   ]
  },
  {
   "cell_type": "code",
   "execution_count": 1,
   "metadata": {
    "pycharm": {
     "is_executing": false
    }
   },
   "outputs": [
    {
     "name": "stderr",
     "output_type": "stream",
     "text": [
      "Using TensorFlow backend.\n"
     ]
    }
   ],
   "source": [
    "import matplotlib.pyplot as plt\n",
    "import shfl\n",
    "\n",
    "database = shfl.data_base.Emnist()\n",
    "train_data, train_labels, val_data, val_labels, test_data, test_labels = database.load_data()"
   ]
  },
  {
   "cell_type": "markdown",
   "metadata": {},
   "source": [
    "Let's inspect some properties of the loaded data."
   ]
  },
  {
   "cell_type": "code",
   "execution_count": 2,
   "metadata": {
    "pycharm": {
     "is_executing": false
    }
   },
   "outputs": [
    {
     "name": "stdout",
     "output_type": "stream",
     "text": [
      "200000\n",
      "40000\n",
      "40000\n",
      "<class 'numpy.ndarray'>\n"
     ]
    },
    {
     "data": {
      "text/plain": [
       "(28, 28)"
      ]
     },
     "execution_count": 2,
     "metadata": {},
     "output_type": "execute_result"
    }
   ],
   "source": [
    "print(len(train_data))\n",
    "print(len(val_data))\n",
    "print(len(test_data))\n",
    "print(type(train_data[0]))\n",
    "train_data[0].shape"
   ]
  },
  {
   "cell_type": "markdown",
   "metadata": {},
   "source": [
    "So, as we have seen, our dataset is composed by a set of matrixes of 28 by 28. Before starting with the federated scenario, we can take a look to a sample in the training data."
   ]
  },
  {
   "cell_type": "code",
   "execution_count": 3,
   "metadata": {
    "pycharm": {
     "is_executing": false
    }
   },
   "outputs": [
    {
     "data": {
      "text/plain": [
       "<matplotlib.image.AxesImage at 0x10892e490>"
      ]
     },
     "execution_count": 3,
     "metadata": {},
     "output_type": "execute_result"
    },
    {
     "data": {
      "image/png": "[encoded data removed]",
      "text/plain": [
       "<Figure size 432x288 with 1 Axes>"
      ]
     },
     "metadata": {
      "needs_background": "light"
     },
     "output_type": "display_data"
    }
   ],
   "source": [
    "plt.imshow(train_data[0])"
   ]
  },
  {
   "cell_type": "markdown",
   "metadata": {},
   "source": [
    "We are going to simulate a federated learning scenario with a set of client nodes containing private data, and a central server that will be responsible to coordinate the different clients. But, first of all, we have to simulate the data contained in every client. In order to do that, we are going to use the previous dataset loaded. The assumption in this example will be the data is distributed as a set of independent and identically distributed random variables, having every node more o less the same amount of data. There are a set of different posibilities in order to distribute the data. The distribution of the data is one of the factors that could impact more to a federated algorithm. Therefore, the framework contains the implementation of some of the most common distributions that allow you to experiment different situations easily. In [Federated Sampling](./federated_sampling.ipynb) you can dig into the options that the framework provides at the moment."
   ]
  },
  {
   "cell_type": "code",
   "execution_count": 4,
   "metadata": {
    "pycharm": {
     "is_executing": false
    }
   },
   "outputs": [],
   "source": [
    "iid_distribution = shfl.data_distribution.IidDataDistribution(database)\n",
    "federated_data, test_data, test_labels = iid_distribution.get_federated_data(num_nodes=20, percent=10)"
   ]
  },
  {
   "cell_type": "markdown",
   "metadata": {},
   "source": [
    "That's it! We have created federated data from the Emnist dataset using 20 nodes and 10 percent of the available data. This data is distributed to a set of data nodes in the form of private data. Let's learn a little moer about the federated data."
   ]
  },
  {
   "cell_type": "code",
   "execution_count": 5,
   "metadata": {
    "pycharm": {
     "is_executing": false
    }
   },
   "outputs": [
    {
     "name": "stdout",
     "output_type": "stream",
     "text": [
      "<class 'shfl.private.federated_operation.FederatedData'>\n",
      "20\n",
      "Node private data, you can see the data for debug purposes but the data remains in the node\n",
      "<class 'dict'>\n",
      "{'4439700368': <shfl.private.data.LabeledData object at 0x1a3c8d8510>}\n"
     ]
    }
   ],
   "source": [
    "print(type(federated_data))\n",
    "print(federated_data.num_nodes())\n",
    "federated_data[0].private_data"
   ]
  },
  {
   "cell_type": "markdown",
   "metadata": {},
   "source": [
    "As we can see, private data in a node is not accesible directly but the framework provides mechanisms to use this data in a machine learning model. A federated learning algorithm is defined by a machine learning model locally deployed in each node that learns from the respective node’s private data and an aggregating mechanism to aggregate the different model parameters uploaded by the client nodes to a central node. In this example we will use a deep learning model using keras to build it. The framework provides classes to allow using Tensorflow (see [Basic Concepts Tensorflow](./basic_concepts_tensorflow.ipynb)) and Keras model into a federated learning scenario, your job is only to create a function acting as model builder. Moreover, the framework provides classes to allow using pretrained Tensorflow and Keras models (see [Basic Concepts Pretrained Models](./basic_concepts_pretrained_model.ipynb)). In this example build a Keras learning model.  "
   ]
  },
  {
   "cell_type": "code",
   "execution_count": 6,
   "metadata": {
    "pycharm": {
     "is_executing": false
    }
   },
   "outputs": [],
   "source": [
    "import keras\n",
    "\n",
    "def model_builder():\n",
    "    model = keras.models.Sequential()\n",
    "    model.add(keras.layers.Conv2D(32, kernel_size=(3, 3), padding='same', activation='relu', strides=1, input_shape=(28, 28, 1)))\n",
    "    model.add(keras.layers.MaxPooling2D(pool_size=2, strides=2, padding='valid'))\n",
    "    model.add(keras.layers.Dropout(0.4))\n",
    "    model.add(keras.layers.Conv2D(32, kernel_size=(3, 3), padding='same', activation='relu', strides=1))\n",
    "    model.add(keras.layers.MaxPooling2D(pool_size=2, strides=2, padding='valid'))\n",
    "    model.add(keras.layers.Dropout(0.3))\n",
    "    model.add(keras.layers.Flatten())\n",
    "    model.add(keras.layers.Dense(128, activation='relu'))\n",
    "    model.add(keras.layers.Dropout(0.1))\n",
    "    model.add(keras.layers.Dense(64, activation='relu'))\n",
    "    model.add(keras.layers.Dense(10, activation='softmax'))\n",
    "\n",
    "    model.compile(optimizer=\"rmsprop\", loss=\"categorical_crossentropy\", metrics=[\"accuracy\"])\n",
    "    \n",
    "    return shfl.model.DeepLearningModel(model)"
   ]
  },
  {
   "cell_type": "markdown",
   "metadata": {},
   "source": [
    "Now, the only piece missing is the aggregation operator. Nevertheless, the framework provides some aggregation operators that we can use. In the following piece of code we define the federated aggregation mechanism. Moreover, we define de federated goverment based on the keras learning model, the federated data and the aggregation mechanism."
   ]
  },
  {
   "cell_type": "code",
   "execution_count": 7,
   "metadata": {
    "pycharm": {
     "is_executing": false
    }
   },
   "outputs": [],
   "source": [
    "aggregator = shfl.federated_aggregator.AvgFedAggregator()\n",
    "federated_government = shfl.learning_approach.FederatedGovernment(model_builder, federated_data, aggregator)"
   ]
  },
  {
   "cell_type": "markdown",
   "metadata": {},
   "source": [
    "If you want to see all the aggregation operators you can follow the following notebook [Federated Aggregation Operators](./basic_concepts_aggregation_operators.ipynb). Before running the algorithm, we want to apply a transformation to the data. The good practise to do that is to define a federated operation that will ensure that the transformation is applied to the federated data in all the client nodes. We want to reshape the data, so we define the following FederatedTransformation."
   ]
  },
  {
   "cell_type": "code",
   "execution_count": 8,
   "metadata": {
    "pycharm": {
     "is_executing": false
    }
   },
   "outputs": [],
   "source": [
    "import numpy as np\n",
    "\n",
    "class Reshape(shfl.private.FederatedTransformation):\n",
    "    \n",
    "    def apply(self, labeled_data):\n",
    "        labeled_data.data = np.reshape(labeled_data.data, (labeled_data.data.shape[0], labeled_data.data.shape[1], labeled_data.data.shape[2],1))\n",
    "        \n",
    "shfl.private.federated_operation.apply_federated_transformation(federated_data, Reshape())"
   ]
  },
  {
   "cell_type": "markdown",
   "metadata": {},
   "source": [
    "In addition, we want to normalize the data. We define a federated transformation using mean and standard deviation (std) parameters. We use mean and std estimated from the training set in this example. Although the ideal parameters would be an aggregation of the mean and std of each client's training datasets, we use the mean and std of the global dataset as a simple approximation."
   ]
  },
  {
   "cell_type": "code",
   "execution_count": 9,
   "metadata": {
    "pycharm": {
     "is_executing": false,
     "name": "#%%\n"
    }
   },
   "outputs": [],
   "source": [
    "import numpy as np\n",
    "\n",
    "class Normalize(shfl.private.FederatedTransformation):\n",
    "    \n",
    "    def __init__(self, mean, std):\n",
    "        self.__mean = mean\n",
    "        self.__std = std\n",
    "    \n",
    "    def apply(self, labeled_data):\n",
    "        labeled_data.data = (labeled_data.data - self.__mean)/self.__std\n",
    "        \n",
    "        \n",
    "mean = np.mean(train_data.data)\n",
    "std = np.std(train_data.data)\n",
    "shfl.private.federated_operation.apply_federated_transformation(federated_data, Normalize(mean, std))"
   ]
  },
  {
   "cell_type": "markdown",
   "metadata": {},
   "source": [
    "We are now ready to execute our federated learning algorithm."
   ]
  },
  {
   "cell_type": "code",
   "execution_count": 10,
   "metadata": {
    "pycharm": {
     "is_executing": true
    }
   },
   "outputs": [
    {
     "name": "stdout",
     "output_type": "stream",
     "text": [
      "Accuracy round 0\n",
      "Test performance client <shfl.private.federated_operation.FederatedDataNode object at 0x108a07450>: [5.077433430576325, 0.6587250232696533]\n",
      "Test performance client <shfl.private.federated_operation.FederatedDataNode object at 0x108a076d0>: [5.262293487739563, 0.6512500047683716]\n",
      "Test performance client <shfl.private.federated_operation.FederatedDataNode object at 0x1a3c8d89d0>: [3.2779586961507796, 0.7764999866485596]\n",
      "Test performance client <shfl.private.federated_operation.FederatedDataNode object at 0x1a3c8d8bd0>: [3.474347322077333, 0.7687749862670898]\n",
      "Test performance client <shfl.private.federated_operation.FederatedDataNode object at 0x1a3c8d8810>: [5.000425180244446, 0.6638749837875366]\n",
      "Test performance client <shfl.private.federated_operation.FederatedDataNode object at 0x1a2e6f79d0>: [9.298060945510864, 0.4023750126361847]\n",
      "Test performance client <shfl.private.federated_operation.FederatedDataNode object at 0x1a2e6f7a90>: [5.828118846130371, 0.6118249893188477]\n",
      "Test performance client <shfl.private.federated_operation.FederatedDataNode object at 0x1a2e6f7f90>: [5.160583041477203, 0.6581500172615051]\n",
      "Test performance client <shfl.private.federated_operation.FederatedDataNode object at 0x108a16610>: [3.9574230370640753, 0.735450029373169]\n",
      "Test performance client <shfl.private.federated_operation.FederatedDataNode object at 0x108a16150>: [3.9552025720596315, 0.7336500287055969]\n",
      "Test performance client <shfl.private.federated_operation.FederatedDataNode object at 0x108a16050>: [5.650889541053772, 0.628974974155426]\n",
      "Test performance client <shfl.private.federated_operation.FederatedDataNode object at 0x108a164d0>: [3.248947648048401, 0.7770749926567078]\n",
      "Test performance client <shfl.private.federated_operation.FederatedDataNode object at 0x108a16250>: [3.9270135251998903, 0.7333750128746033]\n",
      "Test performance client <shfl.private.federated_operation.FederatedDataNode object at 0x108a34050>: [6.554738522529602, 0.572950005531311]\n",
      "Test performance client <shfl.private.federated_operation.FederatedDataNode object at 0x108a34950>: [3.460431680583954, 0.7635999917984009]\n",
      "Test performance client <shfl.private.federated_operation.FederatedDataNode object at 0x108a34250>: [3.2488184147834778, 0.780174970626831]\n",
      "Test performance client <shfl.private.federated_operation.FederatedDataNode object at 0x108a34690>: [4.411821950054168, 0.7013999819755554]\n",
      "Test performance client <shfl.private.federated_operation.FederatedDataNode object at 0x108a34c50>: [3.70216401720047, 0.7506499886512756]\n",
      "Test performance client <shfl.private.federated_operation.FederatedDataNode object at 0x108a34410>: [5.641894721603394, 0.6243749856948853]\n",
      "Test performance client <shfl.private.federated_operation.FederatedDataNode object at 0x108a34dd0>: [3.953864816761017, 0.7343500256538391]\n",
      "Global model test performance : [4.768484850692749, 0.67044997215271]\n",
      "\n",
      "\n",
      "\n",
      "Accuracy round 1\n",
      "Test performance client <shfl.private.federated_operation.FederatedDataNode object at 0x108a07450>: [3.9299313175201416, 0.7440750002861023]\n",
      "Test performance client <shfl.private.federated_operation.FederatedDataNode object at 0x108a076d0>: [4.529567116832733, 0.7050999999046326]\n",
      "Test performance client <shfl.private.federated_operation.FederatedDataNode object at 0x1a3c8d89d0>: [3.458770969724655, 0.7739250063896179]\n",
      "Test performance client <shfl.private.federated_operation.FederatedDataNode object at 0x1a3c8d8bd0>: [2.7423973603998792, 0.8183749914169312]\n",
      "Test performance client <shfl.private.federated_operation.FederatedDataNode object at 0x1a3c8d8810>: [2.7312775337606667, 0.8186749815940857]\n",
      "Test performance client <shfl.private.federated_operation.FederatedDataNode object at 0x1a2e6f79d0>: [6.104859873199463, 0.6053249835968018]\n",
      "Test performance client <shfl.private.federated_operation.FederatedDataNode object at 0x1a2e6f7a90>: [4.110345314645767, 0.7322250008583069]\n",
      "Test performance client <shfl.private.federated_operation.FederatedDataNode object at 0x1a2e6f7f90>: [3.616701973104477, 0.7632499933242798]\n",
      "Test performance client <shfl.private.federated_operation.FederatedDataNode object at 0x108a16610>: [3.851181278657913, 0.7487750053405762]\n",
      "Test performance client <shfl.private.federated_operation.FederatedDataNode object at 0x108a16150>: [3.5917053527593614, 0.765250027179718]\n",
      "Test performance client <shfl.private.federated_operation.FederatedDataNode object at 0x108a16050>: [2.930567828699993, 0.8083750009536743]\n",
      "Test performance client <shfl.private.federated_operation.FederatedDataNode object at 0x108a164d0>: [2.068070508523494, 0.8624749779701233]\n",
      "Test performance client <shfl.private.federated_operation.FederatedDataNode object at 0x108a16250>: [3.759323005580902, 0.7537500262260437]\n",
      "Test performance client <shfl.private.federated_operation.FederatedDataNode object at 0x108a34050>: [3.6080305491924287, 0.765500009059906]\n",
      "Test performance client <shfl.private.federated_operation.FederatedDataNode object at 0x108a34950>: [2.7737224678051766, 0.8166499733924866]\n",
      "Test performance client <shfl.private.federated_operation.FederatedDataNode object at 0x108a34250>: [2.1557597937554265, 0.8574000000953674]\n",
      "Test performance client <shfl.private.federated_operation.FederatedDataNode object at 0x108a34690>: [2.7325326334506275, 0.8202000260353088]\n",
      "Test performance client <shfl.private.federated_operation.FederatedDataNode object at 0x108a34c50>: [3.6224539605140684, 0.7624750137329102]\n",
      "Test performance client <shfl.private.federated_operation.FederatedDataNode object at 0x108a34410>: [3.263618750243634, 0.784500002861023]\n",
      "Test performance client <shfl.private.federated_operation.FederatedDataNode object at 0x108a34dd0>: [3.982453374481201, 0.7402750253677368]\n",
      "Global model test performance : [2.532579373633886, 0.8322499990463257]\n",
      "\n",
      "\n",
      "\n",
      "Accuracy round 2\n",
      "Test performance client <shfl.private.federated_operation.FederatedDataNode object at 0x108a07450>: [2.795251806640625, 0.8184999823570251]\n",
      "Test performance client <shfl.private.federated_operation.FederatedDataNode object at 0x108a076d0>: [3.514317189502716, 0.7701749801635742]\n",
      "Test performance client <shfl.private.federated_operation.FederatedDataNode object at 0x1a3c8d89d0>: [2.266760490665189, 0.8519250154495239]\n",
      "Test performance client <shfl.private.federated_operation.FederatedDataNode object at 0x1a3c8d8bd0>: [3.050786614337285, 0.8003000020980835]\n",
      "Test performance client <shfl.private.federated_operation.FederatedDataNode object at 0x1a3c8d8810>: [2.023195861422317, 0.8666999936103821]\n",
      "Test performance client <shfl.private.federated_operation.FederatedDataNode object at 0x1a2e6f79d0>: [3.5081572982907296, 0.7722749710083008]\n",
      "Test performance client <shfl.private.federated_operation.FederatedDataNode object at 0x1a2e6f7a90>: [2.452709645876572, 0.8392999768257141]\n",
      "Test performance client <shfl.private.federated_operation.FederatedDataNode object at 0x1a2e6f7f90>: [2.7873792332088576, 0.8161749839782715]\n",
      "Test performance client <shfl.private.federated_operation.FederatedDataNode object at 0x108a16610>: [3.0897640364170074, 0.7978749871253967]\n",
      "Test performance client <shfl.private.federated_operation.FederatedDataNode object at 0x108a16150>: [2.364393216440175, 0.8436999917030334]\n",
      "Test performance client <shfl.private.federated_operation.FederatedDataNode object at 0x108a16050>: [2.096354170556602, 0.8629249930381775]\n",
      "Test performance client <shfl.private.federated_operation.FederatedDataNode object at 0x108a164d0>: [1.8368141119780506, 0.8796250224113464]\n",
      "Test performance client <shfl.private.federated_operation.FederatedDataNode object at 0x108a16250>: [2.7786525159183073, 0.8187500238418579]\n",
      "Test performance client <shfl.private.federated_operation.FederatedDataNode object at 0x108a34050>: [3.3815192645549774, 0.7805749773979187]\n",
      "Test performance client <shfl.private.federated_operation.FederatedDataNode object at 0x108a34950>: [2.3560229795206338, 0.8447999954223633]\n",
      "Test performance client <shfl.private.federated_operation.FederatedDataNode object at 0x108a34250>: [1.8060259212173067, 0.8809999823570251]\n",
      "Test performance client <shfl.private.federated_operation.FederatedDataNode object at 0x108a34690>: [3.378646305847168, 0.7809749841690063]\n"
     ]
    },
    {
     "name": "stdout",
     "output_type": "stream",
     "text": [
      "Test performance client <shfl.private.federated_operation.FederatedDataNode object at 0x108a34c50>: [1.7625603400769418, 0.883774995803833]\n",
      "Test performance client <shfl.private.federated_operation.FederatedDataNode object at 0x108a34410>: [3.4651143152713777, 0.7750750184059143]\n",
      "Test performance client <shfl.private.federated_operation.FederatedDataNode object at 0x108a34dd0>: [3.413070926904678, 0.7792500257492065]\n",
      "Global model test performance : [2.178485351853541, 0.8565750122070312]\n",
      "\n",
      "\n",
      "\n"
     ]
    }
   ],
   "source": [
    "test_data = np.reshape(test_data, (test_data.shape[0], test_data.shape[1], test_data.shape[2],1))\n",
    "federated_government.run_rounds(3, test_data, test_labels)"
   ]
  }
 ],
 "metadata": {
  "kernelspec": {
   "display_name": "Python 3",
   "language": "python",
   "name": "python3"
  },
  "language_info": {
   "codemirror_mode": {
    "name": "ipython",
    "version": 3
   },
   "file_extension": ".py",
   "mimetype": "text/x-python",
   "name": "python",
   "nbconvert_exporter": "python",
   "pygments_lexer": "ipython3",
   "version": "3.7.6"
  },
  "pycharm": {
   "stem_cell": {
    "cell_type": "raw",
    "metadata": {
     "collapsed": false
    },
    "source": []
   }
  }
 },
 "nbformat": 4,
 "nbformat_minor": 2
}
