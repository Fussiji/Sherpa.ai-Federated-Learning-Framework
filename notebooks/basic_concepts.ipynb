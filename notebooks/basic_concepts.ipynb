{
 "cells": [
  {
   "cell_type": "markdown",
   "metadata": {},
   "source": [
    "# Federated learning: Simple experiment\n",
    "\n",
    "In this notebook we provide a simple example of how to make an experiment of a federated environment with the help of this framework. We are going to use a popular dataset to start the experimentation in a federated environment. The framework provides some functions to load the [Emnist](https://www.nist.gov/itl/products-and-services/emnist-dataset) Digits dataset."
   ]
  },
  {
   "cell_type": "code",
   "execution_count": 1,
   "metadata": {},
   "outputs": [],
   "source": [
    "from shfl.data_base.emnist import Emnist\n",
    "\n",
    "database = Emnist()\n",
    "train_data, train_labels, val_data, val_labels, test_data, test_labels = database.load_data()"
   ]
  },
  {
   "cell_type": "markdown",
   "metadata": {},
   "source": [
    "Let's inspect some properties of the loaded data."
   ]
  },
  {
   "cell_type": "code",
   "execution_count": 2,
   "metadata": {},
   "outputs": [
    {
     "name": "stdout",
     "output_type": "stream",
     "text": [
      "199999\n",
      "40000\n",
      "40000\n",
      "<class 'numpy.ndarray'>\n"
     ]
    },
    {
     "data": {
      "text/plain": [
       "(28, 28)"
      ]
     },
     "execution_count": 2,
     "metadata": {},
     "output_type": "execute_result"
    }
   ],
   "source": [
    "print(len(train_data))\n",
    "print(len(val_data))\n",
    "print(len(test_data))\n",
    "print(type(train_data[0]))\n",
    "train_data[0].shape"
   ]
  },
  {
   "cell_type": "markdown",
   "metadata": {},
   "source": [
    "So, as we have seen, our dataset is composed by a set of matrixes of 28 by 28. Before starting with the federated scenario, we can take a look to a sample in the training data."
   ]
  },
  {
   "cell_type": "code",
   "execution_count": 4,
   "metadata": {},
   "outputs": [
    {
     "data": {
      "text/plain": [
       "<matplotlib.image.AxesImage at 0x121820bd0>"
      ]
     },
     "execution_count": 4,
     "metadata": {},
     "output_type": "execute_result"
    },
    {
     "data": {
      "image/png": "[encoded data removed]",
      "text/plain": [
       "<Figure size 432x288 with 1 Axes>"
      ]
     },
     "metadata": {
      "needs_background": "light"
     },
     "output_type": "display_data"
    }
   ],
   "source": [
    "import matplotlib.pyplot as plt\n",
    "\n",
    "plt.imshow(train_data[0])"
   ]
  },
  {
   "cell_type": "markdown",
   "metadata": {},
   "source": [
    "We are going to simulate a federated learning scenario with a set of client nodes containing private data, and a central server that will be responsible to coordinate the different clients. But, first of all, we have to simulate the data contained in every client. In order to do that, we are going to use the previous dataset loaded. The assumption in this example will be the data is distributed as a set of independent and identically distributed random variables, having every node more o less the same amount of data. There are a set of different posibilities in order to distribute the data. The distribution of the data is one of the factor that could impact more to a federated algorithm. Therefore, the framework contains the implementation of some of the most common distribution that allow you experiment different situations easily. In this [link]() you can dig into the options that the framework provides at the moment."
   ]
  },
  {
   "cell_type": "code",
   "execution_count": 6,
   "metadata": {},
   "outputs": [],
   "source": [
    "from shfl.data_distribution.data_distribution_iid import IidDataDistribution\n",
    "from shfl.core.node import DataNode\n",
    "\n",
    "iid_distribution = IidDataDistribution(database)\n",
    "federated_data, test_data, test_label = iid_distribution.get_federated_data(\"emnist\", 20, percent=10)"
   ]
  },
  {
   "cell_type": "markdown",
   "metadata": {},
   "source": [
    "That's it. We have created federated data from the Emnist dataset with 20 nodes and using only 10 percent of the available data. This data is a set of data nodes containing private data. This private data needs a identifier that we have provided in the creation of the federated data, in this case \"emnist\". Let's learn a little about the federated data."
   ]
  },
  {
   "cell_type": "code",
   "execution_count": 7,
   "metadata": {},
   "outputs": [
    {
     "name": "stdout",
     "output_type": "stream",
     "text": [
      "<class 'shfl.core.data.FederatedData'>\n",
      "20\n",
      "Node private data, you can see the data for debug purposes but the data remains in the node\n",
      "<class 'dict'>\n",
      "{'emnist': <shfl.core.data.LabeledData object at 0x12162f5d0>}\n"
     ]
    }
   ],
   "source": [
    "print(type(federated_data))\n",
    "print(federated_data.num_nodes())\n",
    "federated_data[0].private_data"
   ]
  },
  {
   "cell_type": "markdown",
   "metadata": {},
   "source": [
    "As we can see, private data in a node is not accesible directly but the framework provides mechanisms to use this data in a machine learning model. A federated learning algorithm is defined by a local model to learn from data in every node and a way to aggregate the different model parameters in a central node. In this example we will use a deep learning model using keras to build it. The framework provides a class to adapt a Keras model to the framework, your job is only create a function that will act as model builder."
   ]
  },
  {
   "cell_type": "code",
   "execution_count": 9,
   "metadata": {},
   "outputs": [],
   "source": [
    "from keras.models import Sequential\n",
    "from keras.layers import Dense, Conv2D, Flatten, MaxPooling2D, Dropout\n",
    "from shfl.model.deep_learning_model import KerasDeepLearningModel\n",
    "\n",
    "def model_builder():\n",
    "    model = Sequential()\n",
    "    model.add(Conv2D(32, kernel_size=(3, 3), padding='same', activation='relu', strides=1, input_shape=(28, 28, 1)))\n",
    "    model.add(MaxPooling2D(pool_size=2, strides=2, padding='valid'))\n",
    "    model.add(Dropout(0.4))\n",
    "    model.add(Conv2D(32, kernel_size=(3, 3), padding='same', activation='relu', strides=1))\n",
    "    model.add(MaxPooling2D(pool_size=2, strides=2, padding='valid'))\n",
    "    model.add(Dropout(0.3))\n",
    "    model.add(Flatten())\n",
    "    model.add(Dense(128, activation='relu'))\n",
    "    model.add(Dropout(0.1))\n",
    "    model.add(Dense(64, activation='relu'))\n",
    "    model.add(Dense(10, activation='softmax'))\n",
    "\n",
    "    model.compile(optimizer=\"rmsprop\", loss=\"categorical_crossentropy\", metrics=[\"accuracy\"])\n",
    "    \n",
    "    return KerasDeepLearningModel(model)"
   ]
  },
  {
   "cell_type": "markdown",
   "metadata": {},
   "source": [
    "Now, we a model to deploy over nodes a set of nodes with data. The only piece missing is the aggregation operator. Nevertheless the framework provides some aggregation operators that we can use inmediatly. In the following piece of code we define the federated algorithm."
   ]
  },
  {
   "cell_type": "code",
   "execution_count": 10,
   "metadata": {},
   "outputs": [],
   "source": [
    "from shfl.learning_approach.learning_approach import LearningApproach\n",
    "from shfl.learning_approach.federated_government import FederatedGovernment\n",
    "from shfl.federated_aggregator.fsvrg_aggregator import AvgFedAggregator\n",
    "\n",
    "aggregator = AvgFedAggregator()\n",
    "federated_government = FederatedGovernment(model_builder, federated_data, aggregator)"
   ]
  },
  {
   "cell_type": "markdown",
   "metadata": {},
   "source": [
    "If you want to see all the aggregation operators you can follow the following [link](). Before executing the algorithm we want to make a data transformation. The good practise to do that is to define a federated operation that will be apply over every node. We want to reshape the data, so we define the following FederatedTransformation."
   ]
  },
  {
   "cell_type": "code",
   "execution_count": 13,
   "metadata": {},
   "outputs": [],
   "source": [
    "import numpy as np\n",
    "import keras\n",
    "\n",
    "import shfl.core.federated_operation\n",
    "from shfl.core.federated_operation import FederatedTransformation\n",
    "\n",
    "class Reshape(FederatedTransformation):\n",
    "    \n",
    "    def apply(self, labeled_data):\n",
    "        labeled_data.data = np.reshape(labeled_data.data, (labeled_data.data.shape[0], labeled_data.data.shape[1], labeled_data.data.shape[2],1))\n",
    "        labeled_data.label = keras.utils.to_categorical(labeled_data.label, 10)\n",
    "        \n",
    "shfl.core.federated_operation.apply_federated_transformation(federated_data, Reshape())"
   ]
  },
  {
   "cell_type": "markdown",
   "metadata": {},
   "source": [
    "We are now ready to execute our federated learning algorithm."
   ]
  },
  {
   "cell_type": "code",
   "execution_count": 14,
   "metadata": {},
   "outputs": [
    {
     "name": "stdout",
     "output_type": "stream",
     "text": [
      "Accuracy round 0\n",
      "Test Accuracy Client <shfl.core.node.DataNode object at 0x12162f7d0>: 0.36105\n",
      "Test Accuracy Client <shfl.core.node.DataNode object at 0x12162f950>: 0.3454\n",
      "Test Accuracy Client <shfl.core.node.DataNode object at 0x12162fd10>: 0.360075\n",
      "Test Accuracy Client <shfl.core.node.DataNode object at 0x12167f610>: 0.46015\n",
      "Test Accuracy Client <shfl.core.node.DataNode object at 0x12167fe50>: 0.435575\n",
      "Test Accuracy Client <shfl.core.node.DataNode object at 0x12167ff50>: 0.421575\n",
      "Test Accuracy Client <shfl.core.node.DataNode object at 0x12167ffd0>: 0.410925\n",
      "Test Accuracy Client <shfl.core.node.DataNode object at 0x121682090>: 0.38065\n",
      "Test Accuracy Client <shfl.core.node.DataNode object at 0x121682110>: 0.39785\n",
      "Test Accuracy Client <shfl.core.node.DataNode object at 0x121682150>: 0.3938\n",
      "Test Accuracy Client <shfl.core.node.DataNode object at 0x1216821d0>: 0.352025\n",
      "Test Accuracy Client <shfl.core.node.DataNode object at 0x121682250>: 0.39835\n",
      "Test Accuracy Client <shfl.core.node.DataNode object at 0x1216822d0>: 0.37105\n",
      "Test Accuracy Client <shfl.core.node.DataNode object at 0x121682350>: 0.3981\n",
      "Test Accuracy Client <shfl.core.node.DataNode object at 0x1216823d0>: 0.392575\n",
      "Test Accuracy Client <shfl.core.node.DataNode object at 0x121682450>: 0.425025\n",
      "Test Accuracy Client <shfl.core.node.DataNode object at 0x1216824d0>: 0.40405\n",
      "Test Accuracy Client <shfl.core.node.DataNode object at 0x121682550>: 0.36945\n",
      "Test Accuracy Client <shfl.core.node.DataNode object at 0x1216825d0>: 0.3934\n",
      "Test Accuracy Client <shfl.core.node.DataNode object at 0x121682650>: 0.47635\n",
      "Global model test Accuracy Client : 0.316475\n",
      "\n",
      "\n",
      "\n",
      "Accuracy round 1\n",
      "Test Accuracy Client <shfl.core.node.DataNode object at 0x12162f7d0>: 0.58185\n",
      "Test Accuracy Client <shfl.core.node.DataNode object at 0x12162f950>: 0.55975\n",
      "Test Accuracy Client <shfl.core.node.DataNode object at 0x12162fd10>: 0.5738\n",
      "Test Accuracy Client <shfl.core.node.DataNode object at 0x12167f610>: 0.570825\n",
      "Test Accuracy Client <shfl.core.node.DataNode object at 0x12167fe50>: 0.59515\n",
      "Test Accuracy Client <shfl.core.node.DataNode object at 0x12167ff50>: 0.547675\n",
      "Test Accuracy Client <shfl.core.node.DataNode object at 0x12167ffd0>: 0.590425\n",
      "Test Accuracy Client <shfl.core.node.DataNode object at 0x121682090>: 0.4929\n",
      "Test Accuracy Client <shfl.core.node.DataNode object at 0x121682110>: 0.62075\n",
      "Test Accuracy Client <shfl.core.node.DataNode object at 0x121682150>: 0.55285\n",
      "Test Accuracy Client <shfl.core.node.DataNode object at 0x1216821d0>: 0.5397\n",
      "Test Accuracy Client <shfl.core.node.DataNode object at 0x121682250>: 0.586575\n",
      "Test Accuracy Client <shfl.core.node.DataNode object at 0x1216822d0>: 0.525075\n",
      "Test Accuracy Client <shfl.core.node.DataNode object at 0x121682350>: 0.55545\n",
      "Test Accuracy Client <shfl.core.node.DataNode object at 0x1216823d0>: 0.548925\n",
      "Test Accuracy Client <shfl.core.node.DataNode object at 0x121682450>: 0.567725\n",
      "Test Accuracy Client <shfl.core.node.DataNode object at 0x1216824d0>: 0.564075\n",
      "Test Accuracy Client <shfl.core.node.DataNode object at 0x121682550>: 0.544825\n",
      "Test Accuracy Client <shfl.core.node.DataNode object at 0x1216825d0>: 0.585675\n",
      "Test Accuracy Client <shfl.core.node.DataNode object at 0x121682650>: 0.613775\n",
      "Global model test Accuracy Client : 0.578875\n",
      "\n",
      "\n",
      "\n",
      "Accuracy round 2\n",
      "Test Accuracy Client <shfl.core.node.DataNode object at 0x12162f7d0>: 0.744575\n",
      "Test Accuracy Client <shfl.core.node.DataNode object at 0x12162f950>: 0.6728\n",
      "Test Accuracy Client <shfl.core.node.DataNode object at 0x12162fd10>: 0.70365\n",
      "Test Accuracy Client <shfl.core.node.DataNode object at 0x12167f610>: 0.7186\n",
      "Test Accuracy Client <shfl.core.node.DataNode object at 0x12167fe50>: 0.698725\n",
      "Test Accuracy Client <shfl.core.node.DataNode object at 0x12167ff50>: 0.75265\n",
      "Test Accuracy Client <shfl.core.node.DataNode object at 0x12167ffd0>: 0.71455\n",
      "Test Accuracy Client <shfl.core.node.DataNode object at 0x121682090>: 0.69935\n",
      "Test Accuracy Client <shfl.core.node.DataNode object at 0x121682110>: 0.76305\n",
      "Test Accuracy Client <shfl.core.node.DataNode object at 0x121682150>: 0.739075\n",
      "Test Accuracy Client <shfl.core.node.DataNode object at 0x1216821d0>: 0.701025\n",
      "Test Accuracy Client <shfl.core.node.DataNode object at 0x121682250>: 0.7133\n",
      "Test Accuracy Client <shfl.core.node.DataNode object at 0x1216822d0>: 0.68895\n",
      "Test Accuracy Client <shfl.core.node.DataNode object at 0x121682350>: 0.695525\n",
      "Test Accuracy Client <shfl.core.node.DataNode object at 0x1216823d0>: 0.7096\n",
      "Test Accuracy Client <shfl.core.node.DataNode object at 0x121682450>: 0.737125\n",
      "Test Accuracy Client <shfl.core.node.DataNode object at 0x1216824d0>: 0.71625\n",
      "Test Accuracy Client <shfl.core.node.DataNode object at 0x121682550>: 0.698175\n",
      "Test Accuracy Client <shfl.core.node.DataNode object at 0x1216825d0>: 0.73345\n",
      "Test Accuracy Client <shfl.core.node.DataNode object at 0x121682650>: 0.713125\n",
      "Global model test Accuracy Client : 0.7603\n",
      "\n",
      "\n",
      "\n"
     ]
    }
   ],
   "source": [
    "test_data = np.reshape(test_data, (test_data.shape[0], test_data.shape[1], test_data.shape[2],1))\n",
    "federated_government.run_rounds(3, test_data, test_label)"
   ]
  },
  {
   "cell_type": "code",
   "execution_count": null,
   "metadata": {},
   "outputs": [],
   "source": []
  }
 ],
 "metadata": {
  "kernelspec": {
   "display_name": "Python 3",
   "language": "python",
   "name": "python3"
  },
  "language_info": {
   "codemirror_mode": {
    "name": "ipython",
    "version": 3
   },
   "file_extension": ".py",
   "mimetype": "text/x-python",
   "name": "python",
   "nbconvert_exporter": "python",
   "pygments_lexer": "ipython3",
   "version": "3.7.4"
  }
 },
 "nbformat": 4,
 "nbformat_minor": 2
}
