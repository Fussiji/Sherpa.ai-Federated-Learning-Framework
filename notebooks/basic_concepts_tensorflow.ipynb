{
 "cells": [
  {
   "cell_type": "markdown",
   "metadata": {},
   "source": [
    "# Federated learning: Simple experiment\n",
    "\n",
    "In this notebook we provide a simple example of how to make an experiment of a federated environment with the help of this framework. We are going to use a popular dataset to start the experimentation in a federated environment. The framework provides some functions to load the [Emnist](https://www.nist.gov/itl/products-and-services/emnist-dataset) Digits dataset."
   ]
  },
  {
   "cell_type": "code",
   "execution_count": 1,
   "metadata": {},
   "outputs": [
    {
     "name": "stderr",
     "output_type": "stream",
     "text": [
      "Using TensorFlow backend.\n"
     ]
    }
   ],
   "source": [
    "import shfl\n",
    "\n",
    "database = shfl.data_base.Emnist()\n",
    "train_data, train_labels, val_data, val_labels, test_data, test_labels = database.load_data()"
   ]
  },
  {
   "cell_type": "markdown",
   "metadata": {},
   "source": [
    "Let's inspect some properties of the loaded data."
   ]
  },
  {
   "cell_type": "code",
   "execution_count": 2,
   "metadata": {},
   "outputs": [
    {
     "name": "stdout",
     "output_type": "stream",
     "text": [
      "200000\n",
      "40000\n",
      "40000\n",
      "<class 'numpy.ndarray'>\n"
     ]
    },
    {
     "data": {
      "text/plain": [
       "(28, 28)"
      ]
     },
     "execution_count": 2,
     "metadata": {},
     "output_type": "execute_result"
    }
   ],
   "source": [
    "print(len(train_data))\n",
    "print(len(val_data))\n",
    "print(len(test_data))\n",
    "print(type(train_data[0]))\n",
    "train_data[0].shape"
   ]
  },
  {
   "cell_type": "markdown",
   "metadata": {},
   "source": [
    "So, as we have seen, our dataset is composed by a set of matrixes of 28 by 28. Before starting with the federated scenario, we can take a look to a sample in the training data."
   ]
  },
  {
   "cell_type": "code",
   "execution_count": 3,
   "metadata": {},
   "outputs": [
    {
     "data": {
      "text/plain": [
       "<matplotlib.image.AxesImage at 0x14047a6d0>"
      ]
     },
     "execution_count": 3,
     "metadata": {},
     "output_type": "execute_result"
    }
   ],
   "source": [
    "import matplotlib.pyplot as plt\n",
    "\n",
    "plt.imshow(train_data[0])"
   ]
  },
  {
   "cell_type": "markdown",
   "metadata": {},
   "source": [
    "We are going to simulate a federated learning scenario with a set of client nodes containing private data, and a central server that will be responsible to coordinate the different clients. But, first of all, we have to simulate the data contained in every client. In order to do that, we are going to use the previous dataset loaded. The assumption in this example will be the data is distributed as a set of independent and identically distributed random variables, having every node more o less the same amount of data. There are a set of different posibilities in order to distribute the data. The distribution of the data is one of the factor that could impact more to a federated algorithm. Therefore, the framework contains the implementation of some of the most common distribution that allow you experiment different situations easily. In this [link]() you can dig into the options that the framework provides at the moment."
   ]
  },
  {
   "cell_type": "code",
   "execution_count": 4,
   "metadata": {},
   "outputs": [],
   "source": [
    "iid_distribution = shfl.data_distribution.IidDataDistribution(database)\n",
    "federated_data, test_data, test_label = iid_distribution.get_federated_data(num_nodes=20, percent=10)"
   ]
  },
  {
   "cell_type": "markdown",
   "metadata": {},
   "source": [
    "That's it. We have created federated data from the Emnist dataset with 20 nodes and using only 10 percent of the available data. This data is a set of data nodes containing private data. This private data needs a identifier that we have provided in the creation of the federated data, in this case \"emnist\". Let's learn a little about the federated data."
   ]
  },
  {
   "cell_type": "code",
   "execution_count": 5,
   "metadata": {},
   "outputs": [
    {
     "name": "stdout",
     "output_type": "stream",
     "text": [
      "<class 'shfl.private.federated_operation.FederatedData'>\n",
      "20\n",
      "Node private data, you can see the data for debug purposes but the data remains in the node\n",
      "<class 'dict'>\n",
      "{'5365380304': <shfl.private.data.LabeledData object at 0x1407939d0>}\n"
     ]
    }
   ],
   "source": [
    "print(type(federated_data))\n",
    "print(federated_data.num_nodes())\n",
    "federated_data[0].private_data"
   ]
  },
  {
   "cell_type": "markdown",
   "metadata": {},
   "source": [
    "As we can see, private data in a node is not accesible directly but the framework provides mechanisms to use this data in a machine learning model. A federated learning algorithm is defined by a local model to learn from data in every node and a way to aggregate the different model parameters in a central node. In this example we will use a deep learning model using keras to build it. The framework provides a class to adapt a Keras model to the framework, your job is only create a function that will act as model builder."
   ]
  },
  {
   "cell_type": "code",
   "execution_count": 6,
   "metadata": {},
   "outputs": [],
   "source": [
    "import tensorflow as tf\n",
    "#If you want execute in GPU, you must uncomment this two lines.\n",
    "# physical_devices = tf.config.experimental.list_physical_devices('GPU')\n",
    "# tf.config.experimental.set_memory_growth(physical_devices[0], True)\n",
    "\n",
    "class CustomDense(tf.keras.layers.Layer):\n",
    "    \"\"\"\n",
    "    Implementation of Linear layer\n",
    "\n",
    "    Attributes\n",
    "    ----------\n",
    "    units : int\n",
    "        number of units for the output\n",
    "    w : matrix\n",
    "        Weights from the layer\n",
    "    b : array\n",
    "        Bias from the layer\n",
    "    \"\"\"\n",
    "\n",
    "    def __init__(self, units=32):\n",
    "        super(CustomDense, self).__init__()\n",
    "        self._units = units\n",
    "\n",
    "    def build(self, input_shape):\n",
    "        \"\"\"\n",
    "        Method for build the params\n",
    "\n",
    "        Parameters\n",
    "        ----------\n",
    "        input_shape: list\n",
    "            size of inputs\n",
    "        \"\"\"\n",
    "        self._w = self.add_weight(shape=(input_shape[-1], self._units),\n",
    "                                  initializer='random_normal',\n",
    "                                  trainable=True)\n",
    "\n",
    "        self._b = self.add_weight(shape=(self._units,),\n",
    "                                  initializer='random_normal',\n",
    "                                  trainable=True)\n",
    "\n",
    "    def call(self, inputs):\n",
    "        \"\"\"\n",
    "        Apply linear layer\n",
    "\n",
    "        Parameters\n",
    "        ----------\n",
    "        inputs: matrix\n",
    "            Input data\n",
    "\n",
    "        Return\n",
    "        ------\n",
    "        result : matrix\n",
    "            the result of linear transformation of the data\n",
    "        \"\"\"\n",
    "        return tf.nn.bias_add(tf.matmul(inputs, self._w), self._b)\n",
    "\n",
    "\n",
    "def model_builder():\n",
    "    inputs = tf.keras.Input(shape=(28, 28, 1))\n",
    "    x = tf.keras.layers.Conv2D(32, kernel_size=(3, 3), padding='same', activation='relu', strides=1)(inputs)\n",
    "    x = tf.keras.layers.MaxPooling2D(pool_size=2, strides=2, padding='valid')(x)\n",
    "    x = tf.keras.layers.Dropout(0.4)(x)\n",
    "    x = tf.keras.layers.Conv2D(32, kernel_size=(3, 3), padding='same', activation='relu', strides=1)(x)\n",
    "    x = tf.keras.layers.MaxPooling2D(pool_size=2, strides=2, padding='valid')(x)\n",
    "    x = tf.keras.layers.Flatten()(x)\n",
    "    x = CustomDense(128)(x)\n",
    "    x = tf.nn.relu(x)\n",
    "    x = tf.keras.layers.Dropout(0.1)(x)\n",
    "    x = CustomDense(64)(x)\n",
    "    x = tf.nn.relu(x)\n",
    "    x = CustomDense(10)(x)\n",
    "    outputs = tf.nn.softmax(x)\n",
    "    \n",
    "    model = tf.keras.Model(inputs=inputs, outputs=outputs)\n",
    "\n",
    "    model.compile(optimizer=\"rmsprop\", loss=\"categorical_crossentropy\", metrics=[\"accuracy\"])\n",
    "    \n",
    "    return shfl.model.DeepLearningModel(model)"
   ]
  },
  {
   "cell_type": "markdown",
   "metadata": {},
   "source": [
    "Now, we a model to deploy over nodes a set of nodes with data. The only piece missing is the aggregation operator. Nevertheless the framework provides some aggregation operators that we can use inmediatly. In the following piece of code we define the federated algorithm."
   ]
  },
  {
   "cell_type": "code",
   "execution_count": 7,
   "metadata": {},
   "outputs": [],
   "source": [
    "aggregator = shfl.federated_aggregator.AvgFedAggregator()\n",
    "federated_government = shfl.learning_approach.FederatedGovernment(model_builder, federated_data, aggregator)"
   ]
  },
  {
   "cell_type": "markdown",
   "metadata": {},
   "source": [
    "If you want to see all the aggregation operators you can follow the following [link](). Before executing the algorithm we want to make a data transformation. The good practise to do that is to define a federated operation that will be apply over every node. We want to reshape the data, so we define the following FederatedTransformation."
   ]
  },
  {
   "cell_type": "code",
   "execution_count": 8,
   "metadata": {},
   "outputs": [],
   "source": [
    "import numpy as np\n",
    "\n",
    "class Reshape(shfl.private.FederatedTransformation):\n",
    "    \n",
    "    def apply(self, labeled_data):\n",
    "        labeled_data.data = np.reshape(labeled_data.data, (labeled_data.data.shape[0], labeled_data.data.shape[1], labeled_data.data.shape[2],1))\n",
    "\n",
    "class CastFloat(shfl.private.FederatedTransformation):\n",
    "    \n",
    "    def apply(self, labeled_data):\n",
    "        labeled_data.data = labeled_data.data.astype(np.float32)\n",
    "        \n",
    "shfl.private.federated_operation.apply_federated_transformation(federated_data, Reshape())\n",
    "shfl.private.federated_operation.apply_federated_transformation(federated_data, CastFloat())"
   ]
  },
  {
   "cell_type": "markdown",
   "metadata": {},
   "source": [
    "We are now ready to execute our federated learning algorithm."
   ]
  },
  {
   "cell_type": "code",
   "execution_count": null,
   "metadata": {},
   "outputs": [
    {
     "name": "stdout",
     "output_type": "stream",
     "text": [
      "Accuracy round 0\n",
      "Test performance client <shfl.private.federated_operation.FederatedDataNode object at 0x13c3041d0>: [1.0242092789649964, 0.756875]\n",
      "Test performance client <shfl.private.federated_operation.FederatedDataNode object at 0x140793710>: [1.0315838547229768, 0.72905]\n",
      "Test performance client <shfl.private.federated_operation.FederatedDataNode object at 0x140793590>: [0.9230242709636688, 0.76865]\n",
      "Test performance client <shfl.private.federated_operation.FederatedDataNode object at 0x140793b10>: [0.9473623756885529, 0.732825]\n",
      "Test performance client <shfl.private.federated_operation.FederatedDataNode object at 0x140793e50>: [1.0436773769378662, 0.6943]\n",
      "Test performance client <shfl.private.federated_operation.FederatedDataNode object at 0x140793610>: [1.0017102278232575, 0.751275]\n",
      "Test performance client <shfl.private.federated_operation.FederatedDataNode object at 0x140793950>: [1.1289456703662872, 0.659275]\n",
      "Test performance client <shfl.private.federated_operation.FederatedDataNode object at 0x1407a6110>: [1.0575414234638214, 0.710275]\n",
      "Test performance client <shfl.private.federated_operation.FederatedDataNode object at 0x1407a62d0>: [1.0982883253097535, 0.684575]\n",
      "Test performance client <shfl.private.federated_operation.FederatedDataNode object at 0x1407a64d0>: [1.2178401401519776, 0.621825]\n",
      "Test performance client <shfl.private.federated_operation.FederatedDataNode object at 0x1407a6610>: [1.152757443189621, 0.632225]\n",
      "Test performance client <shfl.private.federated_operation.FederatedDataNode object at 0x1407a67d0>: [1.1558524098873137, 0.71375]\n",
      "Test performance client <shfl.private.federated_operation.FederatedDataNode object at 0x1407a6990>: [1.027539532661438, 0.725725]\n",
      "Test performance client <shfl.private.federated_operation.FederatedDataNode object at 0x1407a6b50>: [1.083028394651413, 0.69015]\n",
      "Test performance client <shfl.private.federated_operation.FederatedDataNode object at 0x1407a6d10>: [0.958556552028656, 0.708725]\n",
      "Test performance client <shfl.private.federated_operation.FederatedDataNode object at 0x1407a6ed0>: [1.039856890964508, 0.732075]\n",
      "Test performance client <shfl.private.federated_operation.FederatedDataNode object at 0x1407a80d0>: [1.1406471440315247, 0.648575]\n",
      "Test performance client <shfl.private.federated_operation.FederatedDataNode object at 0x1407a8290>: [1.0337669112682342, 0.739]\n",
      "Test performance client <shfl.private.federated_operation.FederatedDataNode object at 0x1407a8450>: [1.0389446280002594, 0.674225]\n",
      "Test performance client <shfl.private.federated_operation.FederatedDataNode object at 0x1407a8610>: [0.9435076283931733, 0.78515]\n",
      "Global model test performance : [1.3576786245346069, 0.71235]\n",
      "\n",
      "\n",
      "\n",
      "Accuracy round 1\n",
      "Test performance client <shfl.private.federated_operation.FederatedDataNode object at 0x13c3041d0>: [0.6803559416294098, 0.814575]\n",
      "Test performance client <shfl.private.federated_operation.FederatedDataNode object at 0x140793710>: [0.5974831504583359, 0.812975]\n",
      "Test performance client <shfl.private.federated_operation.FederatedDataNode object at 0x140793590>: [0.5770124184012413, 0.826575]\n",
      "Test performance client <shfl.private.federated_operation.FederatedDataNode object at 0x140793b10>: [0.6144213872194291, 0.8076]\n",
      "Test performance client <shfl.private.federated_operation.FederatedDataNode object at 0x140793e50>: [0.5669109980583191, 0.8627]\n",
      "Test performance client <shfl.private.federated_operation.FederatedDataNode object at 0x140793610>: [0.5306376527547836, 0.861025]\n",
      "Test performance client <shfl.private.federated_operation.FederatedDataNode object at 0x140793950>: [0.6630505234479904, 0.822175]\n",
      "Test performance client <shfl.private.federated_operation.FederatedDataNode object at 0x1407a6110>: [0.5015421150803566, 0.878375]\n",
      "Test performance client <shfl.private.federated_operation.FederatedDataNode object at 0x1407a62d0>: [0.5913092964172363, 0.84035]\n",
      "Test performance client <shfl.private.federated_operation.FederatedDataNode object at 0x1407a64d0>: [0.6719655542850494, 0.8213]\n",
      "Test performance client <shfl.private.federated_operation.FederatedDataNode object at 0x1407a6610>: [0.6660203584671021, 0.7838]\n",
      "Test performance client <shfl.private.federated_operation.FederatedDataNode object at 0x1407a67d0>: [0.6849799702882766, 0.784175]\n",
      "Test performance client <shfl.private.federated_operation.FederatedDataNode object at 0x1407a6990>: [0.5929895525932312, 0.8219]\n",
      "Test performance client <shfl.private.federated_operation.FederatedDataNode object at 0x1407a6b50>: [0.6051027598619461, 0.83265]\n",
      "Test performance client <shfl.private.federated_operation.FederatedDataNode object at 0x1407a6d10>: [0.603307437813282, 0.83345]\n",
      "Test performance client <shfl.private.federated_operation.FederatedDataNode object at 0x1407a6ed0>: [0.5591190741658211, 0.86285]\n",
      "Test performance client <shfl.private.federated_operation.FederatedDataNode object at 0x1407a80d0>: [0.6684623269796371, 0.7835]\n",
      "Test performance client <shfl.private.federated_operation.FederatedDataNode object at 0x1407a8290>: [0.5955318391799926, 0.8193]\n",
      "Test performance client <shfl.private.federated_operation.FederatedDataNode object at 0x1407a8450>: [0.5874164388775825, 0.82705]\n",
      "Test performance client <shfl.private.federated_operation.FederatedDataNode object at 0x1407a8610>: [0.5914566462278366, 0.85125]\n",
      "Global model test performance : [0.5351945951104164, 0.88255]\n",
      "\n",
      "\n",
      "\n",
      "Accuracy round 2\n",
      "Test performance client <shfl.private.federated_operation.FederatedDataNode object at 0x13c3041d0>: [0.41901204435825345, 0.889425]\n",
      "Test performance client <shfl.private.federated_operation.FederatedDataNode object at 0x140793710>: [0.4693863484978676, 0.872625]\n",
      "Test performance client <shfl.private.federated_operation.FederatedDataNode object at 0x140793590>: [0.4677216958165169, 0.8599]\n",
      "Test performance client <shfl.private.federated_operation.FederatedDataNode object at 0x140793b10>: [0.3721510604143143, 0.8945]\n",
      "Test performance client <shfl.private.federated_operation.FederatedDataNode object at 0x140793e50>: [0.4210657379508018, 0.88955]\n",
      "Test performance client <shfl.private.federated_operation.FederatedDataNode object at 0x140793610>: [0.40915924479961396, 0.885225]\n",
      "Test performance client <shfl.private.federated_operation.FederatedDataNode object at 0x140793950>: [0.37384547572135923, 0.897525]\n",
      "Test performance client <shfl.private.federated_operation.FederatedDataNode object at 0x1407a6110>: [0.37993441422581675, 0.901075]\n",
      "Test performance client <shfl.private.federated_operation.FederatedDataNode object at 0x1407a62d0>: [0.4156119112968445, 0.879375]\n",
      "Test performance client <shfl.private.federated_operation.FederatedDataNode object at 0x1407a64d0>: [0.4302292131304741, 0.866575]\n",
      "Test performance client <shfl.private.federated_operation.FederatedDataNode object at 0x1407a6610>: [0.4227825216829777, 0.873]\n",
      "Test performance client <shfl.private.federated_operation.FederatedDataNode object at 0x1407a67d0>: [0.5640277123093606, 0.821375]\n",
      "Test performance client <shfl.private.federated_operation.FederatedDataNode object at 0x1407a6990>: [0.401500437438488, 0.878675]\n",
      "Test performance client <shfl.private.federated_operation.FederatedDataNode object at 0x1407a6b50>: [0.37951561205387113, 0.897525]\n",
      "Test performance client <shfl.private.federated_operation.FederatedDataNode object at 0x1407a6d10>: [0.40165046803951265, 0.8921]\n",
      "Test performance client <shfl.private.federated_operation.FederatedDataNode object at 0x1407a6ed0>: [0.40295899804830554, 0.887775]\n",
      "Test performance client <shfl.private.federated_operation.FederatedDataNode object at 0x1407a80d0>: [0.4128782586693764, 0.87115]\n"
     ]
    }
   ],
   "source": [
    "test_data = np.reshape(test_data, (test_data.shape[0], test_data.shape[1], test_data.shape[2],1))\n",
    "test_data = test_data.astype(np.float32)\n",
    "federated_government.run_rounds(3, test_data, test_label)"
   ]
  },
  {
   "cell_type": "code",
   "execution_count": null,
   "metadata": {},
   "outputs": [],
   "source": []
  }
 ],
 "metadata": {
  "kernelspec": {
   "display_name": "Python 3",
   "language": "python",
   "name": "python3"
  },
  "language_info": {
   "codemirror_mode": {
    "name": "ipython",
    "version": 3
   },
   "file_extension": ".py",
   "mimetype": "text/x-python",
   "name": "python",
   "nbconvert_exporter": "python",
   "pygments_lexer": "ipython3",
   "version": "3.7.4"
  }
 },
 "nbformat": 4,
 "nbformat_minor": 2
}
