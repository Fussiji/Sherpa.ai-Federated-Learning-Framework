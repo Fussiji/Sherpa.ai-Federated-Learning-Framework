{
 "cells": [
  {
   "cell_type": "markdown",
   "metadata": {},
   "source": [
    "# Federated learning: Simple experiment using TensorFlow learning model\n",
    "\n",
    "In this notebook we provide a simple example of how to make an experiment of a federated environment with the help of this framework. We are going to use a popular dataset to start the experimentation in a federated environment. The framework provides some functions to load the [Emnist](https://www.nist.gov/itl/products-and-services/emnist-dataset) Digits dataset."
   ]
  },
  {
   "cell_type": "code",
   "execution_count": 1,
   "metadata": {},
   "outputs": [
    {
     "name": "stderr",
     "output_type": "stream",
     "text": [
      "Using TensorFlow backend.\n"
     ]
    }
   ],
   "source": [
    "import shfl\n",
    "\n",
    "database = shfl.data_base.Emnist()\n",
    "train_data, train_labels, val_data, val_labels, test_data, test_labels = database.load_data()"
   ]
  },
  {
   "cell_type": "markdown",
   "metadata": {},
   "source": [
    "Let's inspect some properties of the loaded data."
   ]
  },
  {
   "cell_type": "code",
   "execution_count": 2,
   "metadata": {},
   "outputs": [
    {
     "name": "stdout",
     "output_type": "stream",
     "text": [
      "200000\n",
      "40000\n",
      "40000\n",
      "<class 'numpy.ndarray'>\n"
     ]
    },
    {
     "data": {
      "text/plain": [
       "(28, 28)"
      ]
     },
     "execution_count": 2,
     "metadata": {},
     "output_type": "execute_result"
    }
   ],
   "source": [
    "print(len(train_data))\n",
    "print(len(val_data))\n",
    "print(len(test_data))\n",
    "print(type(train_data[0]))\n",
    "train_data[0].shape"
   ]
  },
  {
   "cell_type": "markdown",
   "metadata": {},
   "source": [
    "So, as we have seen, our dataset is composed by a set of matrixes of 28 by 28. Before starting with the federated scenario, we can take a look to a sample in the training data."
   ]
  },
  {
   "cell_type": "code",
   "execution_count": 3,
   "metadata": {},
   "outputs": [
    {
     "data": {
      "text/plain": [
       "<matplotlib.image.AxesImage at 0x7fde6d1ccef0>"
      ]
     },
     "execution_count": 3,
     "metadata": {},
     "output_type": "execute_result"
    },
    {
     "data": {
      "image/png": "[encoded data removed]",
      "text/plain": [
       "<Figure size 432x288 with 1 Axes>"
      ]
     },
     "metadata": {
      "needs_background": "light"
     },
     "output_type": "display_data"
    }
   ],
   "source": [
    "import matplotlib.pyplot as plt\n",
    "\n",
    "plt.imshow(train_data[0])"
   ]
  },
  {
   "cell_type": "markdown",
   "metadata": {},
   "source": [
    "We are going to simulate a federated learning scenario with a set of client nodes containing private data, and a central server that will be responsible to coordinate the different clients. But, first of all, we have to simulate the data contained in every client. In order to do that, we are going to use the previous dataset loaded. The assumption in this example will be the data is distributed as a set of independent and identically distributed random variables, having every node more o less the same amount of data. There are a set of different posibilities in order to distribute the data. The distribution of the data is one of the factors that could impact more to a federated algorithm. Therefore, the framework contains the implementation of some of the most common distributions that allow you to experiment different situations easily. In [Federated Sampling](./federated_sampling.ipynb) you can dig into the options that the framework provides at the moment."
   ]
  },
  {
   "cell_type": "code",
   "execution_count": 4,
   "metadata": {},
   "outputs": [],
   "source": [
    "iid_distribution = shfl.data_distribution.IidDataDistribution(database)\n",
    "federated_data, test_data, test_label = iid_distribution.get_federated_data(num_nodes=20, percent=10)"
   ]
  },
  {
   "cell_type": "markdown",
   "metadata": {},
   "source": [
    "That's it! We have created federated data from the Emnist dataset using 20 nodes and 10 percent of the available data. This data is distributed to a set of data nodes in the form of private data. Let's learn a little moer about the federated data."
   ]
  },
  {
   "cell_type": "code",
   "execution_count": 5,
   "metadata": {},
   "outputs": [
    {
     "name": "stdout",
     "output_type": "stream",
     "text": [
      "<class 'shfl.private.federated_operation.FederatedData'>\n",
      "20\n",
      "Node private data, you can see the data for debug purposes but the data remains in the node\n",
      "<class 'dict'>\n",
      "{'140593289989088': <shfl.private.data.LabeledData object at 0x7fde6d1b07f0>}\n"
     ]
    }
   ],
   "source": [
    "print(type(federated_data))\n",
    "print(federated_data.num_nodes())\n",
    "federated_data[0].private_data"
   ]
  },
  {
   "cell_type": "markdown",
   "metadata": {},
   "source": [
    "As we can see, private data in a node is not accesible directly but the framework provides mechanisms to use this data in a machine learning model. A federated learning algorithm is defined by a machine learning model locally deployed in each node that learns from the respective node’s private data and an aggregating mechanism to aggregate the different model parameters uploaded by the client nodes to a central node. In this example we will use a deep learning model using keras to build it. The framework provides classes to allow using Tensorflow and Keras (see [Basic Concepts](./basic_concepts.ipynb)) model into a federated learning scenario, your job is only to create a function acting as model builder. Moreover, the framework provides classes to allow using pretrained Tensorflow and Keras models (see [Basic Concepts Pretrained Models](./basic_concepts_pretrained_model.ipynb)). In this example build a Tensorflow learning model.  "
   ]
  },
  {
   "cell_type": "code",
   "execution_count": 6,
   "metadata": {},
   "outputs": [],
   "source": [
    "import tensorflow as tf\n",
    "#If you want execute in GPU, you must uncomment this two lines.\n",
    "# physical_devices = tf.config.experimental.list_physical_devices('GPU')\n",
    "# tf.config.experimental.set_memory_growth(physical_devices[0], True)\n",
    "\n",
    "class CustomDense(tf.keras.layers.Layer):\n",
    "    \"\"\"\n",
    "    Implementation of Linear layer\n",
    "\n",
    "    Attributes\n",
    "    ----------\n",
    "    units : int\n",
    "        number of units for the output\n",
    "    w : matrix\n",
    "        Weights from the layer\n",
    "    b : array\n",
    "        Bias from the layer\n",
    "    \"\"\"\n",
    "\n",
    "    def __init__(self, units=32):\n",
    "        super(CustomDense, self).__init__()\n",
    "        self._units = units\n",
    "\n",
    "    def build(self, input_shape):\n",
    "        \"\"\"\n",
    "        Method for build the params\n",
    "\n",
    "        Parameters\n",
    "        ----------\n",
    "        input_shape: list\n",
    "            size of inputs\n",
    "        \"\"\"\n",
    "        self._w = self.add_weight(shape=(input_shape[-1], self._units),\n",
    "                                  initializer='random_normal',\n",
    "                                  trainable=True)\n",
    "\n",
    "        self._b = self.add_weight(shape=(self._units,),\n",
    "                                  initializer='random_normal',\n",
    "                                  trainable=True)\n",
    "\n",
    "    def call(self, inputs):\n",
    "        \"\"\"\n",
    "        Apply linear layer\n",
    "\n",
    "        Parameters\n",
    "        ----------\n",
    "        inputs: matrix\n",
    "            Input data\n",
    "\n",
    "        Return\n",
    "        ------\n",
    "        result : matrix\n",
    "            the result of linear transformation of the data\n",
    "        \"\"\"\n",
    "        return tf.nn.bias_add(tf.matmul(inputs, self._w), self._b)\n",
    "\n",
    "\n",
    "def model_builder():\n",
    "    inputs = tf.keras.Input(shape=(28, 28, 1))\n",
    "    x = tf.keras.layers.Conv2D(32, kernel_size=(3, 3), padding='same', activation='relu', strides=1)(inputs)\n",
    "    x = tf.keras.layers.MaxPooling2D(pool_size=2, strides=2, padding='valid')(x)\n",
    "    x = tf.keras.layers.Dropout(0.4)(x)\n",
    "    x = tf.keras.layers.Conv2D(32, kernel_size=(3, 3), padding='same', activation='relu', strides=1)(x)\n",
    "    x = tf.keras.layers.MaxPooling2D(pool_size=2, strides=2, padding='valid')(x)\n",
    "    x = tf.keras.layers.Flatten()(x)\n",
    "    x = CustomDense(128)(x)\n",
    "    x = tf.nn.relu(x)\n",
    "    x = tf.keras.layers.Dropout(0.1)(x)\n",
    "    x = CustomDense(64)(x)\n",
    "    x = tf.nn.relu(x)\n",
    "    x = CustomDense(10)(x)\n",
    "    outputs = tf.nn.softmax(x)\n",
    "    \n",
    "    model = tf.keras.Model(inputs=inputs, outputs=outputs)\n",
    "\n",
    "    model.compile(optimizer=\"rmsprop\", loss=\"categorical_crossentropy\", metrics=[\"accuracy\"])\n",
    "    \n",
    "    return shfl.model.DeepLearningModel(model)"
   ]
  },
  {
   "cell_type": "markdown",
   "metadata": {},
   "source": [
    "Now, the only piece missing is the aggregation operator. Nevertheless, the framework provides some aggregation operators that we can use. In the following piece of code we define the federated aggregation mechanism. Moreover, we define de federated goverment based on the keras learning model, the federated data and the aggregation mechanism."
   ]
  },
  {
   "cell_type": "code",
   "execution_count": 7,
   "metadata": {},
   "outputs": [],
   "source": [
    "aggregator = shfl.federated_aggregator.AvgFedAggregator()\n",
    "federated_government = shfl.learning_approach.FederatedGovernment(model_builder, federated_data, aggregator)"
   ]
  },
  {
   "cell_type": "markdown",
   "metadata": {},
   "source": [
    "If you want to see all the aggregation operators you can follow the following notebook [Federated Aggregation Operators](./basic_concepts_aggregation_operators.ipynb). Before running the algorithm, we want to apply a transformation to the data. The good practise to do that is to define a federated operation that will ensure that the transformation is applied to the federated data in all the client nodes. We want to reshape the data, so we define the following FederatedTransformation."
   ]
  },
  {
   "cell_type": "code",
   "execution_count": 8,
   "metadata": {},
   "outputs": [],
   "source": [
    "import numpy as np\n",
    "\n",
    "class Reshape(shfl.private.FederatedTransformation):\n",
    "    \n",
    "    def apply(self, labeled_data):\n",
    "        labeled_data.data = np.reshape(labeled_data.data, (labeled_data.data.shape[0], labeled_data.data.shape[1], labeled_data.data.shape[2],1))\n",
    "\n",
    "class CastFloat(shfl.private.FederatedTransformation):\n",
    "    \n",
    "    def apply(self, labeled_data):\n",
    "        labeled_data.data = labeled_data.data.astype(np.float32)\n",
    "        \n",
    "shfl.private.federated_operation.apply_federated_transformation(federated_data, Reshape())\n",
    "shfl.private.federated_operation.apply_federated_transformation(federated_data, CastFloat())"
   ]
  },
  {
   "cell_type": "markdown",
   "metadata": {},
   "source": [
    "We are now ready to execute our federated learning algorithm."
   ]
  },
  {
   "cell_type": "code",
   "execution_count": 9,
   "metadata": {},
   "outputs": [
    {
     "name": "stdout",
     "output_type": "stream",
     "text": [
      "Accuracy round 0\n",
      "Test performance client <shfl.private.federated_operation.FederatedDataNode object at 0x7fde6d1b8a58>: [1.1984880539894105, 0.640975]\n",
      "Test performance client <shfl.private.federated_operation.FederatedDataNode object at 0x7fde6d1b86d8>: [1.2693754826545716, 0.628575]\n",
      "Test performance client <shfl.private.federated_operation.FederatedDataNode object at 0x7fde6d1b0a58>: [1.1828730251312256, 0.63765]\n",
      "Test performance client <shfl.private.federated_operation.FederatedDataNode object at 0x7fde6d1b0828>: [1.1343182158470153, 0.67545]\n",
      "Test performance client <shfl.private.federated_operation.FederatedDataNode object at 0x7fde6d1b0668>: [1.3747762780189514, 0.520425]\n",
      "Test performance client <shfl.private.federated_operation.FederatedDataNode object at 0x7fde6d1b0cc0>: [1.052249338722229, 0.713375]\n",
      "Test performance client <shfl.private.federated_operation.FederatedDataNode object at 0x7fde6d1b0a90>: [1.1979580706596376, 0.652575]\n",
      "Test performance client <shfl.private.federated_operation.FederatedDataNode object at 0x7fde6d1b0d30>: [1.1392390035152435, 0.68615]\n",
      "Test performance client <shfl.private.federated_operation.FederatedDataNode object at 0x7fde6d1b0f98>: [1.0344874202251435, 0.75655]\n",
      "Test performance client <shfl.private.federated_operation.FederatedDataNode object at 0x7fde6d1b0160>: [1.1325424976348877, 0.66275]\n",
      "Test performance client <shfl.private.federated_operation.FederatedDataNode object at 0x7fde6d198320>: [1.2181429513454438, 0.602675]\n",
      "Test performance client <shfl.private.federated_operation.FederatedDataNode object at 0x7fde6d198898>: [1.2030855094909667, 0.647375]\n",
      "Test performance client <shfl.private.federated_operation.FederatedDataNode object at 0x7fde6d1989e8>: [1.1389836890220641, 0.704575]\n",
      "Test performance client <shfl.private.federated_operation.FederatedDataNode object at 0x7fde6d198160>: [1.1801942091941833, 0.669725]\n",
      "Test performance client <shfl.private.federated_operation.FederatedDataNode object at 0x7fde6d1986d8>: [1.0992829061508178, 0.7028]\n",
      "Test performance client <shfl.private.federated_operation.FederatedDataNode object at 0x7fde6d198ba8>: [1.0576787536621093, 0.7414]\n",
      "Test performance client <shfl.private.federated_operation.FederatedDataNode object at 0x7fde6d198940>: [1.134807928609848, 0.65945]\n",
      "Test performance client <shfl.private.federated_operation.FederatedDataNode object at 0x7fde6d1982b0>: [0.9868476731777192, 0.7502]\n",
      "Test performance client <shfl.private.federated_operation.FederatedDataNode object at 0x7fde6d198748>: [1.202220954799652, 0.631625]\n",
      "Test performance client <shfl.private.federated_operation.FederatedDataNode object at 0x7fde6d1987b8>: [1.0244149159908296, 0.74585]\n",
      "Global model test performance : [1.616279515838623, 0.519825]\n",
      "\n",
      "\n",
      "\n",
      "Accuracy round 1\n",
      "Test performance client <shfl.private.federated_operation.FederatedDataNode object at 0x7fde6d1b8a58>: [0.5832229654550553, 0.8483]\n",
      "Test performance client <shfl.private.federated_operation.FederatedDataNode object at 0x7fde6d1b86d8>: [0.6621956304311752, 0.8076]\n",
      "Test performance client <shfl.private.federated_operation.FederatedDataNode object at 0x7fde6d1b0a58>: [0.5854803020477295, 0.865275]\n",
      "Test performance client <shfl.private.federated_operation.FederatedDataNode object at 0x7fde6d1b0828>: [0.5934326911807061, 0.8102]\n",
      "Test performance client <shfl.private.federated_operation.FederatedDataNode object at 0x7fde6d1b0668>: [0.6943205574274063, 0.814975]\n",
      "Test performance client <shfl.private.federated_operation.FederatedDataNode object at 0x7fde6d1b0cc0>: [0.8770864235639572, 0.692175]\n",
      "Test performance client <shfl.private.federated_operation.FederatedDataNode object at 0x7fde6d1b0a90>: [0.6274335129976273, 0.847525]\n",
      "Test performance client <shfl.private.federated_operation.FederatedDataNode object at 0x7fde6d1b0d30>: [0.6564975623607635, 0.810225]\n",
      "Test performance client <shfl.private.federated_operation.FederatedDataNode object at 0x7fde6d1b0f98>: [0.656013229393959, 0.835875]\n",
      "Test performance client <shfl.private.federated_operation.FederatedDataNode object at 0x7fde6d1b0160>: [0.8303372512578964, 0.714875]\n",
      "Test performance client <shfl.private.federated_operation.FederatedDataNode object at 0x7fde6d198320>: [0.6764595011949539, 0.787875]\n",
      "Test performance client <shfl.private.federated_operation.FederatedDataNode object at 0x7fde6d198898>: [0.6863697118520736, 0.810975]\n",
      "Test performance client <shfl.private.federated_operation.FederatedDataNode object at 0x7fde6d1989e8>: [0.7418870386600495, 0.777925]\n",
      "Test performance client <shfl.private.federated_operation.FederatedDataNode object at 0x7fde6d198160>: [0.7085327245235443, 0.79085]\n",
      "Test performance client <shfl.private.federated_operation.FederatedDataNode object at 0x7fde6d1986d8>: [0.6233055552482605, 0.819825]\n",
      "Test performance client <shfl.private.federated_operation.FederatedDataNode object at 0x7fde6d198ba8>: [0.6040125923633576, 0.832625]\n",
      "Test performance client <shfl.private.federated_operation.FederatedDataNode object at 0x7fde6d198940>: [0.600757021856308, 0.83965]\n",
      "Test performance client <shfl.private.federated_operation.FederatedDataNode object at 0x7fde6d1982b0>: [0.689450496840477, 0.8074]\n",
      "Test performance client <shfl.private.federated_operation.FederatedDataNode object at 0x7fde6d198748>: [0.808531320142746, 0.707975]\n",
      "Test performance client <shfl.private.federated_operation.FederatedDataNode object at 0x7fde6d1987b8>: [0.6055946147918702, 0.827825]\n",
      "Global model test performance : [0.6303366016626358, 0.85915]\n",
      "\n",
      "\n",
      "\n",
      "Accuracy round 2\n",
      "Test performance client <shfl.private.federated_operation.FederatedDataNode object at 0x7fde6d1b8a58>: [0.40183494279384613, 0.877325]\n",
      "Test performance client <shfl.private.federated_operation.FederatedDataNode object at 0x7fde6d1b86d8>: [0.4608956900775433, 0.8499]\n",
      "Test performance client <shfl.private.federated_operation.FederatedDataNode object at 0x7fde6d1b0a58>: [0.42147504252791407, 0.8817]\n",
      "Test performance client <shfl.private.federated_operation.FederatedDataNode object at 0x7fde6d1b0828>: [0.4852676375389099, 0.86325]\n",
      "Test performance client <shfl.private.federated_operation.FederatedDataNode object at 0x7fde6d1b0668>: [0.5577816264510155, 0.82035]\n",
      "Test performance client <shfl.private.federated_operation.FederatedDataNode object at 0x7fde6d1b0cc0>: [0.48071460416316986, 0.86485]\n",
      "Test performance client <shfl.private.federated_operation.FederatedDataNode object at 0x7fde6d1b0a90>: [0.41840745586156847, 0.886375]\n",
      "Test performance client <shfl.private.federated_operation.FederatedDataNode object at 0x7fde6d1b0d30>: [0.5468324087142944, 0.82765]\n",
      "Test performance client <shfl.private.federated_operation.FederatedDataNode object at 0x7fde6d1b0f98>: [0.49049784002304075, 0.86085]\n",
      "Test performance client <shfl.private.federated_operation.FederatedDataNode object at 0x7fde6d1b0160>: [0.4758258270740509, 0.8605]\n",
      "Test performance client <shfl.private.federated_operation.FederatedDataNode object at 0x7fde6d198320>: [0.42060359986424445, 0.88335]\n",
      "Test performance client <shfl.private.federated_operation.FederatedDataNode object at 0x7fde6d198898>: [0.4195963803768158, 0.885525]\n",
      "Test performance client <shfl.private.federated_operation.FederatedDataNode object at 0x7fde6d1989e8>: [0.5502571393251419, 0.81735]\n",
      "Test performance client <shfl.private.federated_operation.FederatedDataNode object at 0x7fde6d198160>: [0.4787008398294449, 0.8752]\n",
      "Test performance client <shfl.private.federated_operation.FederatedDataNode object at 0x7fde6d1986d8>: [0.45869196833372117, 0.86225]\n",
      "Test performance client <shfl.private.federated_operation.FederatedDataNode object at 0x7fde6d198ba8>: [0.4366471051096916, 0.87595]\n",
      "Test performance client <shfl.private.federated_operation.FederatedDataNode object at 0x7fde6d198940>: [0.5675371340513229, 0.8262]\n",
      "Test performance client <shfl.private.federated_operation.FederatedDataNode object at 0x7fde6d1982b0>: [0.41748393141031265, 0.88255]\n",
      "Test performance client <shfl.private.federated_operation.FederatedDataNode object at 0x7fde6d198748>: [0.515335472381115, 0.842]\n",
      "Test performance client <shfl.private.federated_operation.FederatedDataNode object at 0x7fde6d1987b8>: [0.4356529403686523, 0.873325]\n",
      "Global model test performance : [0.38853365551233293, 0.904575]\n",
      "\n",
      "\n",
      "\n"
     ]
    }
   ],
   "source": [
    "test_data = np.reshape(test_data, (test_data.shape[0], test_data.shape[1], test_data.shape[2],1))\n",
    "test_data = test_data.astype(np.float32)\n",
    "federated_government.run_rounds(3, test_data, test_label)"
   ]
  }
 ],
 "metadata": {
  "kernelspec": {
   "display_name": "Python (tf2gpu)",
   "language": "python",
   "name": "tf2gpu"
  },
  "language_info": {
   "codemirror_mode": {
    "name": "ipython",
    "version": 3
   },
   "file_extension": ".py",
   "mimetype": "text/x-python",
   "name": "python",
   "nbconvert_exporter": "python",
   "pygments_lexer": "ipython3",
   "version": "3.7.3"
  }
 },
 "nbformat": 4,
 "nbformat_minor": 2
}
