{
 "cells": [
  {
   "cell_type": "markdown",
   "metadata": {},
   "source": [
    "# Permanent Randomized response\n",
    "\n",
    "The basic idea of differential privacy is to make a particular query stochastic so that the underlying data is kept private. The average attack consists of performing the same query many times in order to reliably estimate the underlying data. This is, of course, not desirable so we should either limit the number of queries or design algorithms that are not vulnerable under this kind of attack.\n",
    "\n",
    "In this notebook we present a simple example of this phenomenon based on a single node that contains one binary number $n$ that encondes whether the node is guilty ($n=1$) or innocent ($n=0$). A randomized algorithm is used to query the node in order to preserve the privacy of $n$.\n",
    "\n",
    "[Check reference for this]"
   ]
  },
  {
   "cell_type": "markdown",
   "metadata": {},
   "source": [
    "### Average attack"
   ]
  },
  {
   "cell_type": "code",
   "execution_count": 1,
   "metadata": {},
   "outputs": [
    {
     "name": "stderr",
     "output_type": "stream",
     "text": [
      "Using TensorFlow backend.\n"
     ]
    }
   ],
   "source": [
    "import numpy as np\n",
    "import shfl"
   ]
  },
  {
   "cell_type": "markdown",
   "metadata": {},
   "source": [
    "We start by creating a single node that contains a binary number. In this case, we set this number to 1 (guilty). By setting f1=0.8, we make sure that 80% of the times we query the node, we get an answer of 1. On the remaining 20% of the cases we obtain an answer of 0."
   ]
  },
  {
   "cell_type": "code",
   "execution_count": 2,
   "metadata": {},
   "outputs": [],
   "source": [
    "from shfl.private.node import DataNode\n",
    "from shfl.differential_privacy.dp_mechanism import RandomizedResponseBinary\n",
    "from shfl.private.data import DataAccessDefinition\n",
    "\n",
    "n = 1 #the node is guilty\n",
    "\n",
    "node_single = DataNode()\n",
    "node_single.set_private_data(name=\"guilty\", data=np.array([n]))\n",
    "dp_mechanism = RandomizedResponseBinary(f1=0.8, f2=0.8)\n",
    "data_access_definition = DataAccessDefinition(dp_mechanism=dp_mechanism)\n",
    "node_single.configure_private_data_access(\"guilty\", data_access_definition)"
   ]
  },
  {
   "cell_type": "markdown",
   "metadata": {},
   "source": [
    "If we perform the query just once, we cannot be sure that the result matches the true data."
   ]
  },
  {
   "cell_type": "code",
   "execution_count": 3,
   "metadata": {},
   "outputs": [
    {
     "name": "stdout",
     "output_type": "stream",
     "text": [
      "The result of one query is: 1\n"
     ]
    }
   ],
   "source": [
    "result = node_single.query_private_data(private_property=\"guilty\")\n",
    "print(\"The result of one query is: \" + str(int(result)))"
   ]
  },
  {
   "cell_type": "markdown",
   "metadata": {},
   "source": [
    "If we perform the query $N$ times and take the average, we can estimate the true data with an error that goes to zero as $N$ increases."
   ]
  },
  {
   "cell_type": "code",
   "execution_count": 4,
   "metadata": {},
   "outputs": [
    {
     "name": "stdout",
     "output_type": "stream",
     "text": [
      "0.792\n"
     ]
    }
   ],
   "source": [
    "N = 500\n",
    "result_query = np.empty(N)\n",
    "for i in range(N):\n",
    "    result_query[i] = node_single.query_private_data(private_property=\"guilty\")\n",
    "print(np.mean(result_query))"
   ]
  },
  {
   "cell_type": "markdown",
   "metadata": {},
   "source": [
    "We see that the average result of the query is close to 0.8. This allows us to conclude that the raw answer is most probably 1. Otherwise, the result would've been close to 0.2."
   ]
  },
  {
   "cell_type": "markdown",
   "metadata": {},
   "source": [
    "### Permanent randomized response\n",
    "\n",
    "A possible solution to this problem is to create a node that contains two pieces of information: the true data and a **permantent randomized respose** (PRR). The latter is initialized to None and, once the node receives the first query, it creates a random binary number following the algorithm described above which is saved as the PRR. The result of the query is then a randomized response using the PRR as input. This way, even if the query is performed a large number of times, the attacker may only guess with certainty the PRR, but not the true data."
   ]
  },
  {
   "cell_type": "code",
   "execution_count": 14,
   "metadata": {},
   "outputs": [
    {
     "name": "stdout",
     "output_type": "stream",
     "text": [
      "The PRR is: 0\n"
     ]
    }
   ],
   "source": [
    "node_single_prr = DataNode()\n",
    "data_binary = np.array([1])  #the node is guilty\n",
    "node_single_prr.set_private_data(name=\"guilty\", data=np.array([n]))\n",
    "node_single_prr.configure_private_data_access(\"guilty\", data_access_definition)\n",
    "\n",
    "permanent_response = node_single_prr.query_private_data(private_property=\"guilty\")\n",
    "print(\"The PRR is: \" + str(int(permanent_response)))\n",
    "\n",
    "# we save the prr as a new piece of information\n",
    "node_single_prr.set_private_data(name=\"guilty\", data=np.append(data_binary, permanent_response))"
   ]
  },
  {
   "cell_type": "markdown",
   "metadata": {},
   "source": [
    "From now on, all the external queries are done over the permanent one. The true data remains completely hidden."
   ]
  },
  {
   "cell_type": "code",
   "execution_count": 15,
   "metadata": {},
   "outputs": [
    {
     "name": "stdout",
     "output_type": "stream",
     "text": [
      "0.19\n"
     ]
    }
   ],
   "source": [
    "result_query = np.empty(N)\n",
    "for i in range(N):\n",
    "    # we only access the result of the query done to the PRR\n",
    "    result_query[i] = node_single_prr.query_private_data(private_property=\"guilty\")[1]\n",
    "print(np.mean(result_query))"
   ]
  },
  {
   "cell_type": "markdown",
   "metadata": {},
   "source": [
    "The result is not always close to 0.8, since the permanent response might be 0. The average attack may, at best, identify the permanent random response, but not the raw data."
   ]
  }
 ],
 "metadata": {
  "kernelspec": {
   "display_name": "Python 3",
   "language": "python",
   "name": "python3"
  },
  "language_info": {
   "codemirror_mode": {
    "name": "ipython",
    "version": 3
   },
   "file_extension": ".py",
   "mimetype": "text/x-python",
   "name": "python",
   "nbconvert_exporter": "python",
   "pygments_lexer": "ipython3",
   "version": "3.7.6"
  }
 },
 "nbformat": 4,
 "nbformat_minor": 2
}
