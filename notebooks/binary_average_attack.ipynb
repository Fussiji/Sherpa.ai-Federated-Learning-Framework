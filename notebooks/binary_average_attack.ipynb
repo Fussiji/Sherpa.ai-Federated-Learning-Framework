{
 "cells": [
  {
   "cell_type": "markdown",
   "metadata": {},
   "source": [
    "# Average attack -- Randomized response\n",
    "\n",
    "The basic idea of differential privacy is to make a particular query stochastic so that the underlying data is kept private. The average attack consists of performing the same query many times in order to reliably estimate the underlying data. This is, of course, not desirable so we should either limit the number of queries or design algorithms that are not vulnerable under this kind of attack.\n",
    "\n",
    "In this notebook we present a simple example of this phenomenon based on a single node that contains a binary number  \n",
    "\n",
    "The average attack consists of asking the same query many times. Then, one can reliably reconstruct the raw response (the error goes to zero as the number queries increases). There is no need to use many nodes, one node with one binary answer is enough. We define our own the randomized response algorithm."
   ]
  },
  {
   "cell_type": "code",
   "execution_count": 2,
   "metadata": {},
   "outputs": [],
   "source": [
    "import numpy as np\n",
    "import scipy\n",
    "import shfl\n",
    "import matplotlib.pyplot as plt"
   ]
  },
  {
   "cell_type": "code",
   "execution_count": 4,
   "metadata": {},
   "outputs": [
    {
     "name": "stderr",
     "output_type": "stream",
     "text": [
      "/home/diego/anaconda3/lib/python3.7/site-packages/dask/config.py:168: YAMLLoadWarning: calling yaml.load() without Loader=... is deprecated, as the default Loader is unsafe. Please read https://msg.pyyaml.org/load for full details.\n",
      "  data = yaml.load(f.read()) or {}\n",
      "/home/diego/anaconda3/lib/python3.7/site-packages/dask/dataframe/utils.py:13: FutureWarning: pandas.util.testing is deprecated. Use the functions in the public API at pandas.testing instead.\n",
      "  import pandas.util.testing as tm\n"
     ]
    },
    {
     "ename": "NameError",
     "evalue": "name 'DataNode' is not defined",
     "output_type": "error",
     "traceback": [
      "\u001b[0;31m---------------------------------------------------------------------------\u001b[0m",
      "\u001b[0;31mNameError\u001b[0m                                 Traceback (most recent call last)",
      "\u001b[0;32m<ipython-input-4-168065e8f92a>\u001b[0m in \u001b[0;36m<module>\u001b[0;34m()\u001b[0m\n\u001b[1;32m      3\u001b[0m \u001b[0mprivate_data\u001b[0m \u001b[0;34m=\u001b[0m \u001b[0;36m1\u001b[0m \u001b[0;31m#the node is guilty\u001b[0m\u001b[0;34m\u001b[0m\u001b[0;34m\u001b[0m\u001b[0m\n\u001b[1;32m      4\u001b[0m \u001b[0;34m\u001b[0m\u001b[0m\n\u001b[0;32m----> 5\u001b[0;31m \u001b[0mnode_single\u001b[0m \u001b[0;34m=\u001b[0m \u001b[0mDataNode\u001b[0m\u001b[0;34m(\u001b[0m\u001b[0;34m)\u001b[0m\u001b[0;34m\u001b[0m\u001b[0;34m\u001b[0m\u001b[0m\n\u001b[0m\u001b[1;32m      6\u001b[0m \u001b[0;31m# data_binary = np.array([private_data])\u001b[0m\u001b[0;34m\u001b[0m\u001b[0;34m\u001b[0m\u001b[0;34m\u001b[0m\u001b[0m\n\u001b[1;32m      7\u001b[0m \u001b[0mnode_single\u001b[0m\u001b[0;34m.\u001b[0m\u001b[0mset_private_data\u001b[0m\u001b[0;34m(\u001b[0m\u001b[0mname\u001b[0m\u001b[0;34m=\u001b[0m\u001b[0;34m\"guilty\"\u001b[0m\u001b[0;34m,\u001b[0m \u001b[0mdata\u001b[0m\u001b[0;34m=\u001b[0m\u001b[0mprivate_data\u001b[0m\u001b[0;34m)\u001b[0m\u001b[0;34m\u001b[0m\u001b[0;34m\u001b[0m\u001b[0m\n",
      "\u001b[0;31mNameError\u001b[0m: name 'DataNode' is not defined"
     ]
    }
   ],
   "source": [
    "from shfl.private.node import DataNode\n",
    "from shfl.differential_privacy.dp_mechanism import RandomizedResponseBinary\n",
    "from shfl.private.node\n",
    "\n",
    "private_data = 1 #the node is guilty\n",
    "\n",
    "node_single = DataNode()\n",
    "# data_binary = np.array([private_data])  \n",
    "node_single.set_private_data(name=\"guilty\", data=private_data)\n",
    "dp_mechanism = RandomizedResponseBinary(f1=0.8, f2=0.8)\n",
    "data_access_definition = DataAccessDefinition(dp_mechanism=dp_mechanism)\n",
    "node_single.configure_private_data_access(\"guilty\", data_access_definition)"
   ]
  },
  {
   "cell_type": "code",
   "execution_count": 13,
   "metadata": {},
   "outputs": [],
   "source": []
  },
  {
   "cell_type": "markdown",
   "metadata": {},
   "source": [
    "We perform the query N times and take the average."
   ]
  },
  {
   "cell_type": "code",
   "execution_count": 14,
   "metadata": {},
   "outputs": [
    {
     "name": "stdout",
     "output_type": "stream",
     "text": [
      "0.788\n"
     ]
    }
   ],
   "source": [
    "N = 500\n",
    "result_query = np.empty(N)\n",
    "for i in range(N):\n",
    "    result_query[i] = node_single.query_private_data(private_property=\"guilty\")\n",
    "print(np.mean(result_query))"
   ]
  },
  {
   "cell_type": "markdown",
   "metadata": {},
   "source": [
    "We see that the average result of the query is close to 0.8. This allows us to conclude that the raw answer is most probably 1. Otherwise, the result would've been close to 0.2."
   ]
  },
  {
   "cell_type": "markdown",
   "metadata": {},
   "source": [
    "### Permanent randomized response\n",
    "\n",
    "A possible way out is to do two independent randomized responses, as follows."
   ]
  },
  {
   "cell_type": "code",
   "execution_count": 15,
   "metadata": {},
   "outputs": [
    {
     "name": "stdout",
     "output_type": "stream",
     "text": [
      "[1.]\n"
     ]
    }
   ],
   "source": [
    "node_single_p = DataNode()\n",
    "data_binary = np.array([1])  #the node is guilty\n",
    "node_single_p.set_private_data(name=\"guilty\", data=data_binary)\n",
    "mech_permanent = RandomizeBinaryMine(f1=0.8, f2=0.8)\n",
    "data_access_definition = DataAccessDefinition(dp_mechanism=mech_permanent)\n",
    "node_single_p.configure_private_data_access(\"guilty\", data_access_definition)\n",
    "\n",
    "perm_response = node_single_p.query_private_data(private_property=\"guilty\")\n",
    "print(perm_response)\n",
    "\n",
    "node_single_p.set_private_data(name=\"guilty\", data=np.append(data_binary, perm_response))"
   ]
  },
  {
   "cell_type": "markdown",
   "metadata": {},
   "source": [
    "We get the randomize response of the raw data once, which we call **permanent random response**. Then, we append the result to the private data of the node, which now contains two binary numbers: the raw one and the permanent one. From now on, all the external queries are done over the permanent one. The raw remains completely hidden."
   ]
  },
  {
   "cell_type": "code",
   "execution_count": 16,
   "metadata": {},
   "outputs": [
    {
     "name": "stdout",
     "output_type": "stream",
     "text": [
      "0.814\n"
     ]
    }
   ],
   "source": [
    "result_query = np.empty(N)\n",
    "for i in range(N):\n",
    "    result_query[i] = node_single_p.query_private_data(private_property=\"guilty\")[1]\n",
    "print(np.mean(result_query))"
   ]
  },
  {
   "cell_type": "markdown",
   "metadata": {},
   "source": [
    "The result is not always close to 0.8, since the permanent response might be 0. The average attack may, at best, identify the permanent random response, but not the raw data."
   ]
  },
  {
   "cell_type": "markdown",
   "metadata": {},
   "source": [
    "### Sampler"
   ]
  },
  {
   "cell_type": "code",
   "execution_count": 17,
   "metadata": {},
   "outputs": [
    {
     "name": "stdout",
     "output_type": "stream",
     "text": [
      "4.493461969410383 1.1640437004558848\n"
     ]
    }
   ],
   "source": [
    "from shfl.differential_privacy.sensitivity_sampler import SensitivitySampler\n",
    "from shfl.private import IdentityFunction\n",
    "from shfl.differential_privacy import L1SensitivityNorm\n",
    "from shfl.differential_privacy import NormalDistribution\n",
    "\n",
    "distribution = NormalDistribution(mean=0, std=1)\n",
    "samp = SensitivitySampler()\n",
    "sensitivity, mean = samp.sample_sensitivity(query=IdentityFunction(),\n",
    "                                            sensitivity_norm=L1SensitivityNorm(),\n",
    "                                            oracle=distribution, n=1, gamma=0.05)\n",
    "print(sensitivity, mean)"
   ]
  },
  {
   "cell_type": "markdown",
   "metadata": {},
   "source": [
    "# Exponential Mechanism"
   ]
  },
  {
   "cell_type": "code",
   "execution_count": 18,
   "metadata": {},
   "outputs": [],
   "source": [
    "class ExponentialMechanismAuction(DifferentialPrivacyMechanism):\n",
    "    \"\"\"\n",
    "    Implements the Exponential mechanism for a particular utility function (the one in the notebook).\n",
    "    The utility is rMax.\n",
    "    \n",
    "    # Arguments:\n",
    "        sensitivity: float representing sensitivity of the applied query\n",
    "        epsilon: float for the epsilon you want to apply\n",
    "        u: utility function. ZZZ\n",
    "    \n",
    "    \"\"\"\n",
    "    def __init__(self, epsilon, rMin, rMax):\n",
    "        self._epsilon = epsilon\n",
    "        self._rMin = rMin\n",
    "        self._rMax = rMax\n",
    "\n",
    "    def set_area(self, data):\n",
    "        x_intervals = np.sort(np.unique(np.append(data, [self._rMin, self._rMax])))\n",
    "        area = 0\n",
    "        for i in range(len(x_intervals) - 1):\n",
    "            S = self._epsilon/(2*self._rMax) * sum(np.greater(data, x_intervals[i]))\n",
    "            if S > 0:\n",
    "                area_int = 1/S * (np.exp(S * x_intervals[i + 1]) - np.exp(S * x_intervals[i]))\n",
    "            elif S == 0:\n",
    "                area_int = x_intervals[i + 1] - x_intervals[i]\n",
    "            area = area + area_int\n",
    "        self._area = area\n",
    "\n",
    "    def randomize(self, data):\n",
    "        \n",
    "        def CDF(self, r_range, data):\n",
    "            output = np.zeros(len(r_range))\n",
    "            for i in range(len(r_range)):\n",
    "                r = r_range[i]\n",
    "                x_intervals = np.sort(np.unique(np.append(data, [self._rMin, r, self._rMax])))\n",
    "                x_intervals = x_intervals[x_intervals <= r]\n",
    "                for j in range(len(x_intervals) - 1):\n",
    "                    S = self._epsilon/(2*self._rMax) * sum(np.greater(data, x_intervals[j]))\n",
    "                    if S > 0:\n",
    "                        area_int = 1/S * (np.exp(S * x_intervals[j + 1]) - np.exp(S * x_intervals[j]))\n",
    "                    elif S == 0:\n",
    "                        area_int = x_intervals[j + 1] - x_intervals[j]\n",
    "                    output[i] = output[i] + area_int\n",
    "                output[i] = output[i] / self._area\n",
    "            return output\n",
    "        \n",
    "        def CDF_inv(self, z, data):\n",
    "            x_intervals = np.sort(np.unique(np.append(data, [self._rMin])))\n",
    "            z_intervals = CDF(self, x_intervals, data)\n",
    "            z_min = max(z_intervals[z_intervals <= z])\n",
    "            x_min = max(x_intervals[z_intervals <= z])\n",
    "            S = self._epsilon/(2*self._rMax) * sum(np.greater(data, x_min))\n",
    "            if S > 0:\n",
    "                r = 1/S * np.log(S * self._area * (z-z_min) + np.exp(S*x_min))\n",
    "            else:\n",
    "                r = x_min + self._area * (z-z_min)\n",
    "            return r[0]\n",
    "        \n",
    "        z = np.random.uniform(size = 1)\n",
    "        return CDF_inv(self, z, data)"
   ]
  },
  {
   "cell_type": "code",
   "execution_count": 19,
   "metadata": {},
   "outputs": [
    {
     "name": "stdout",
     "output_type": "stream",
     "text": [
      "15.393081679841128\n",
      "0.9015545707262447\n"
     ]
    }
   ],
   "source": [
    "data = [1.00, 1.00, 1.00, 3.01]\n",
    "\n",
    "expp = ExponentialMechanismAuction(epsilon=5, rMin=0, rMax=3.5)\n",
    "expp.set_area(data=data)\n",
    "print(expp._area)\n",
    "sample = expp.randomize(data=data)\n",
    "print(sample)"
   ]
  },
  {
   "cell_type": "code",
   "execution_count": 20,
   "metadata": {},
   "outputs": [
    {
     "data": {
      "image/png": "[encoded data removed]",
      "text/plain": [
       "<Figure size 432x288 with 1 Axes>"
      ]
     },
     "metadata": {
      "needs_background": "light"
     },
     "output_type": "display_data"
    }
   ],
   "source": [
    "N = 10000\n",
    "samples = np.zeros(N)\n",
    "for i in range(N):\n",
    "    samples[i] = expp.randomize(data=data)\n",
    "plt.hist(samples, bins = int(round(np.sqrt(len(samples)))), density = True)\n",
    "plt.show()"
   ]
  },
  {
   "cell_type": "markdown",
   "metadata": {},
   "source": [
    "# Federated Linear Regression\n",
    "\n",
    "We start by generating the data. Notice that the deviation from a linear relation is proportional to the predictor $x$."
   ]
  },
  {
   "cell_type": "code",
   "execution_count": 21,
   "metadata": {},
   "outputs": [
    {
     "data": {
      "image/png": "[encoded data removed]",
      "text/plain": [
       "<Figure size 432x288 with 1 Axes>"
      ]
     },
     "metadata": {
      "needs_background": "light"
     },
     "output_type": "display_data"
    }
   ],
   "source": [
    "a, b = 2, 3\n",
    "size = 1000\n",
    "x = np.random.uniform(size=size)\n",
    "y = a + b*x + np.random.normal(0, 0.1 + 0.5*x, size)\n",
    "\n",
    "plt.scatter(x, y, alpha=0.5)\n",
    "plt.show()"
   ]
  },
  {
   "cell_type": "markdown",
   "metadata": {},
   "source": [
    "We split the data in train (0.8), test (0.1) and validation (0.1)."
   ]
  },
  {
   "cell_type": "code",
   "execution_count": 22,
   "metadata": {},
   "outputs": [],
   "source": [
    "from shfl.data_base import data_base as db\n",
    "\n",
    "class DataBaseExample(db.DataBase):\n",
    "    \n",
    "    def load_data(self, x, y, pTest, pVal):\n",
    "        x1, y1, validation_data, validation_labels = db.extract_validation_samples(x, y, dim=int(pVal*size))\n",
    "        train_data, train_labels, test_data, test_labels = db.extract_validation_samples(x1, y1, dim=int(pTest*size))\n",
    "        self._train_data = train_data\n",
    "        self._train_labels = train_labels\n",
    "        self._test_data = test_data\n",
    "        self._test_labels = test_labels\n",
    "        self._validation_data = validation_data\n",
    "        self._validation_labels = validation_labels\n",
    "\n",
    "DB = DataBaseExample()\n",
    "DB.load_data(x, y, pTest=0.1, pVal=0.1)"
   ]
  },
  {
   "cell_type": "markdown",
   "metadata": {},
   "source": [
    "Now we want to split the data into $n$ different nodes."
   ]
  },
  {
   "cell_type": "code",
   "execution_count": 23,
   "metadata": {},
   "outputs": [],
   "source": [
    "from shfl.data_distribution.data_distribution_iid import IidDataDistribution\n",
    "\n",
    "n = 90\n",
    "distData = IidDataDistribution(DB)\n",
    "federated_data, test_data, test_label = distData.get_federated_data(identifier=\"fed\", num_nodes=n)#, weights=weights)"
   ]
  },
  {
   "cell_type": "code",
   "execution_count": 24,
   "metadata": {},
   "outputs": [],
   "source": [
    "from shfl.private.federated_operation import apply_federated_transformation\n",
    "\n",
    "class Reshape(shfl.private.FederatedTransformation):\n",
    "    \n",
    "    def apply(self, labeled_data):\n",
    "        labeled_data.data = np.reshape(labeled_data.data, (-1,1))\n",
    "        labeled_data.label = np.reshape(labeled_data.label, (-1,1))\n",
    "        \n",
    "apply_federated_transformation(federated_data, Reshape())\n",
    "test_data = np.reshape(test_data, (-1,1))"
   ]
  },
  {
   "cell_type": "markdown",
   "metadata": {},
   "source": [
    "Let's explore the output. In particular, federated_data is a FederatedData object. We can check the number of nodes and the data in each of them."
   ]
  },
  {
   "cell_type": "code",
   "execution_count": 25,
   "metadata": {},
   "outputs": [
    {
     "data": {
      "text/plain": [
       "90"
      ]
     },
     "execution_count": 25,
     "metadata": {},
     "output_type": "execute_result"
    }
   ],
   "source": [
    "federated_data.num_nodes()"
   ]
  },
  {
   "cell_type": "markdown",
   "metadata": {},
   "source": [
    "The data in the first node can be accessed by performing a trivial query."
   ]
  },
  {
   "cell_type": "code",
   "execution_count": 26,
   "metadata": {},
   "outputs": [
    {
     "name": "stdout",
     "output_type": "stream",
     "text": [
      "(10, 1)\n",
      "(10, 1)\n",
      "[[0.3993984 ]\n",
      " [0.13901371]\n",
      " [0.95725048]\n",
      " [0.01748927]\n",
      " [0.5676761 ]]\n",
      "[[3.20183393]\n",
      " [2.4520085 ]\n",
      " [4.24353266]\n",
      " [1.91818529]\n",
      " [4.11907649]]\n"
     ]
    }
   ],
   "source": [
    "from shfl.private.query import IdentityFunction\n",
    "from shfl.private.data import DataAccessDefinition\n",
    "\n",
    "query_id = IdentityFunction()\n",
    "data_access_definition = DataAccessDefinition(query=query_id)\n",
    "federated_data.configure_data_access(data_access_definition)\n",
    "group_query = federated_data.query()\n",
    "first_node = group_query[0]\n",
    "print(first_node.data.shape)\n",
    "print(first_node.label.shape)\n",
    "\n",
    "print(first_node.data[0:5])\n",
    "print(first_node.label[0:5])"
   ]
  },
  {
   "cell_type": "markdown",
   "metadata": {},
   "source": [
    "Since we want to perform a federated linear regression, we define the corresponding class."
   ]
  },
  {
   "cell_type": "code",
   "execution_count": 27,
   "metadata": {},
   "outputs": [],
   "source": [
    "from shfl.model.model import TrainableModel\n",
    "from sklearn.linear_model import LinearRegression\n",
    "\n",
    "class LinearRegressionMine(TrainableModel):\n",
    "    \n",
    "    def __init__(self, regressor):\n",
    "        self._regressor = regressor\n",
    "    \n",
    "    def train(self, data, labels):\n",
    "        self._regressor.fit(data, labels)\n",
    "        \n",
    "    def predict(self, data):\n",
    "        return self._regressor.predict(data)\n",
    "        \n",
    "    def get_model_params(self):\n",
    "        return self._regressor.intercept_, self._regressor.coef_\n",
    "    \n",
    "    def set_model_params(self, params):\n",
    "        self._regressor.intercept_ = np.reshape(np.array([params[0]]), (-1,1))\n",
    "        self._regressor.coef_ = np.array([params[1]])\n",
    "        \n",
    "def model_builder():\n",
    "    model = LinearRegressionMine(LinearRegression())\n",
    "    return model"
   ]
  },
  {
   "cell_type": "markdown",
   "metadata": {},
   "source": [
    "Aggregator: weighted according to the amount of data in each node."
   ]
  },
  {
   "cell_type": "code",
   "execution_count": 28,
   "metadata": {},
   "outputs": [],
   "source": [
    "from shfl.federated_aggregator.avgfed_aggregator import AvgFedAggregator\n",
    "from shfl.federated_aggregator.weighted_avgfed_aggregator import WeightedAvgFedAggregator\n",
    "\n",
    "aggregator = AvgFedAggregator()\n",
    "# aggregator = WeightedAvgFedAggregator()"
   ]
  },
  {
   "cell_type": "markdown",
   "metadata": {},
   "source": [
    "Learning approach."
   ]
  },
  {
   "cell_type": "code",
   "execution_count": 29,
   "metadata": {},
   "outputs": [],
   "source": [
    "from shfl.learning_approach.learning_approach import LearningApproach\n",
    "from sklearn import metrics\n",
    "\n",
    "class FederatedLinearRegression(LearningApproach):\n",
    "\n",
    "    def train_all_clients(self):\n",
    "        for data_node in self._federated_data:\n",
    "            data_node.train_model(self._federated_data.identifier)\n",
    "    \n",
    "    def get_clients_rmse(self, data_test, label_test):\n",
    "        rmse_test = 0\n",
    "        for data_node in self._federated_data:\n",
    "            prediction = data_node.predict(data_test)\n",
    "            rmse_test += metrics.mean_squared_error(label_test, prediction)\n",
    "        print(\"Mean RMSE: \" + str(round(rmse_test / self._federated_data.num_nodes(), 3)))\n",
    "    \n",
    "    def aggregate_weights(self):\n",
    "        weights = []\n",
    "        for data_node in self._federated_data:\n",
    "            weights.append(data_node.query_model_params())\n",
    "        aggregated_weights = self._aggregator.aggregate_weights(weights)\n",
    "        self._model.set_model_params(aggregated_weights)\n",
    "        \n",
    "    def get_global_model_rmse(self, data_test, label_test):\n",
    "        prediction = self._model.predict(data_test)\n",
    "        data_test = data_test.flatten()\n",
    "        prediction = prediction.flatten()\n",
    "        rmse_global_model_test = metrics.mean_squared_error(label_test, prediction)\n",
    "        print(\"Global model test RMSE: \" + str(round(rmse_global_model_test, 3)))\n",
    "\n",
    "    def run_rounds(self, test_data, test_label):\n",
    "        self.train_all_clients()\n",
    "        self.get_clients_rmse(test_data, test_label)\n",
    "        self.aggregate_weights()\n",
    "        self.get_global_model_rmse(test_data, test_label)\n"
   ]
  },
  {
   "cell_type": "code",
   "execution_count": 30,
   "metadata": {},
   "outputs": [
    {
     "name": "stdout",
     "output_type": "stream",
     "text": [
      "Mean RMSE: 0.191\n",
      "Global model test RMSE: 0.152\n"
     ]
    }
   ],
   "source": [
    "fedLR = FederatedLinearRegression(model_builder, federated_data, aggregator)\n",
    "regressor = fedLR.run_rounds(test_data, test_label)"
   ]
  },
  {
   "cell_type": "markdown",
   "metadata": {},
   "source": [
    "We perform a non-federated linear regression for comparison."
   ]
  },
  {
   "cell_type": "code",
   "execution_count": 31,
   "metadata": {},
   "outputs": [
    {
     "name": "stdout",
     "output_type": "stream",
     "text": [
      "Non-federated RMSE: 0.152\n"
     ]
    }
   ],
   "source": [
    "train_data, train_labels = DB.train\n",
    "validation_data, validation_labels = DB.validation\n",
    "x_train = np.reshape(np.concatenate([train_data, validation_data]), (-1,1))\n",
    "y_train = np.concatenate([train_labels, validation_labels])\n",
    "\n",
    "nonFedLR = LinearRegression().fit(x_train, y_train)\n",
    "rmse_full = metrics.mean_squared_error(test_label, nonFedLR.predict(test_data))\n",
    "print(\"Non-federated RMSE: \" + str(round(rmse_full,3)))"
   ]
  }
 ],
 "metadata": {
  "kernelspec": {
   "display_name": "Python 3",
   "language": "python",
   "name": "python3"
  },
  "language_info": {
   "codemirror_mode": {
    "name": "ipython",
    "version": 3
   },
   "file_extension": ".py",
   "mimetype": "text/x-python",
   "name": "python",
   "nbconvert_exporter": "python",
   "pygments_lexer": "ipython3",
   "version": "3.7.6"
  }
 },
 "nbformat": 4,
 "nbformat_minor": 2
}
