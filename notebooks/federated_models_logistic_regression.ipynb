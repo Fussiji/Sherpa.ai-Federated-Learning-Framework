{
 "cells": [
  {
   "cell_type": "code",
   "execution_count": 1,
   "metadata": {},
   "outputs": [],
   "source": [
    "import shfl\n",
    "from shfl.data_base.data_base import LabeledDatabase\n",
    "from sklearn.datasets import make_classification\n",
    "import numpy as np\n",
    "\n",
    "# Create database:\n",
    "n_features = 10\n",
    "n_classes = 4\n",
    "data, labels = make_classification(\n",
    "    n_samples=500, n_features=n_features, n_informative=2, \n",
    "    n_redundant=0, n_repeated=0, n_classes=n_classes, \n",
    "    n_clusters_per_class=1, weights=None, flip_y=0.1, class_sep=0.1)\n",
    "database = LabeledDatabase(data, labels)\n",
    "\n",
    "#np.random.seed(123)     # Reproducibility \n",
    "train_data, train_labels, test_data, test_labels = database.load_data()"
   ]
  },
  {
   "cell_type": "code",
   "execution_count": 2,
   "metadata": {},
   "outputs": [
    {
     "name": "stdout",
     "output_type": "stream",
     "text": [
      "Shape of train and test data: (400, 10)(100, 10)\n",
      "Shape of train and test labels: (400,)(100,)\n",
      "[ 0.53396551 -3.48735976 -0.17765793 -0.28531268  0.34459187 -0.82653961\n",
      " -1.21174669 -1.90996085  2.72846777  0.12601776]\n"
     ]
    }
   ],
   "source": [
    "print(\"Shape of train and test data: \" + str(train_data.shape) + str(test_data.shape))\n",
    "print(\"Shape of train and test labels: \" + str(train_labels.shape) + str(test_labels.shape))\n",
    "print(train_data[0,:])"
   ]
  },
  {
   "cell_type": "code",
   "execution_count": 3,
   "metadata": {},
   "outputs": [],
   "source": [
    "import matplotlib.pyplot as plt\n",
    "\n",
    "\n",
    "def plot_2D_decision_boundary(model, data, labels, title=None):\n",
    "    # Step size of the mesh. Smaller it is, better the quality\n",
    "    h = .02 \n",
    "    # Color map\n",
    "    cmap = plt.cm.Set1\n",
    "    \n",
    "    # Plot the decision boundary. For that, we will assign a color to each\n",
    "    x_min, x_max = data[:, 0].min() - 1, data[:, 0].max() + 1\n",
    "    y_min, y_max = data[:, 1].min() - 1, data[:, 1].max() + 1\n",
    "    xx, yy = np.meshgrid(np.arange(x_min, x_max, h), np.arange(y_min, y_max, h))\n",
    "    \n",
    "    # Obtain labels for each point in mesh. Use last trained model.\n",
    "    Z = model.predict(np.c_[xx.ravel(), yy.ravel()])\n",
    "    \n",
    "    # Put the result into a color plot\n",
    "    Z = Z.reshape(xx.shape)\n",
    "    fig, ax = plt.subplots(figsize=(9,6))\n",
    "    plt.clf()\n",
    "    plt.imshow(Z, interpolation='nearest',\n",
    "               extent=(xx.min(), xx.max(), yy.min(), yy.max()),\n",
    "               cmap=cmap,\n",
    "               alpha=0.6,\n",
    "               aspect='auto', origin='lower')\n",
    "    # Plot data:\n",
    "    plt.scatter(data[:, 0], data[:, 1], c=labels, cmap=cmap, s=40, marker='o')\n",
    "    \n",
    "    plt.title(title)\n",
    "    plt.xlim(x_min, x_max)\n",
    "    plt.ylim(y_min, y_max)\n",
    "    ax.set_xlabel('x')\n",
    "    ax.set_ylabel('y')\n",
    "    plt.show()"
   ]
  },
  {
   "cell_type": "code",
   "execution_count": 4,
   "metadata": {},
   "outputs": [
    {
     "name": "stdout",
     "output_type": "stream",
     "text": [
      "(0.3252946127946128, 0.0883868410622275)\n"
     ]
    }
   ],
   "source": [
    "from shfl.model.logistic_regression_model import LogisticRegressionModel\n",
    "\n",
    "# Train model on centralized data:\n",
    "classes = [i for i in range(0,n_classes)]\n",
    "model_centralized = LogisticRegressionModel(n_features=n_features, classes=classes)\n",
    "model_centralized.train(train_data, train_labels)\n",
    "if n_features == 2:\n",
    "    plot_2D_decision_boundary(model_centralized._model, train_data, train_labels, title = \"Benchmark: Logistic regression using Centralized data\")\n",
    "print(model_centralized.evaluate(test_data, test_labels))"
   ]
  },
  {
   "cell_type": "code",
   "execution_count": 5,
   "metadata": {},
   "outputs": [],
   "source": [
    "#np.random.seed(132)     # Reproducibility\n",
    "iid_distribution = shfl.data_distribution.IidDataDistribution(database)\n",
    "federated_data, test_data, test_labels = iid_distribution.get_federated_data(num_nodes=5, percent=100)"
   ]
  },
  {
   "cell_type": "code",
   "execution_count": 6,
   "metadata": {},
   "outputs": [],
   "source": [
    "classes = [i for i in range(0,n_classes)]\n",
    "def model_builder():\n",
    "    model = LogisticRegressionModel(n_features=n_features, classes=classes, model_inputs={'warm_start':True, 'tol':0.0001, 'max_iter':100})\n",
    "    return model\n",
    "\n",
    "aggregator = shfl.federated_aggregator.FedAvgAggregator()"
   ]
  },
  {
   "cell_type": "code",
   "execution_count": 7,
   "metadata": {},
   "outputs": [
    {
     "name": "stdout",
     "output_type": "stream",
     "text": [
      "Accuracy round 0\n",
      "Test performance client <shfl.private.federated_operation.FederatedDataNode object at 0x7ff717c3d470>: (0.23249158249158247, -0.02174482577940795)\n",
      "Test performance client <shfl.private.federated_operation.FederatedDataNode object at 0x7ff717c3d438>: (0.31582491582491584, 0.09222470727535859)\n",
      "Test performance client <shfl.private.federated_operation.FederatedDataNode object at 0x7ff717c3d160>: (0.2781986531986532, 0.03549899531145351)\n",
      "Test performance client <shfl.private.federated_operation.FederatedDataNode object at 0x7ff717c3d780>: (0.2297138047138047, -0.03851715525174182)\n",
      "Test performance client <shfl.private.federated_operation.FederatedDataNode object at 0x7ff717c3d898>: (0.2699915824915825, 0.02229174814235446)\n",
      "Global model test performance : (0.29452861952861953, 0.05759162303664933)\n",
      "\n",
      "\n",
      "\n",
      "Accuracy round 1\n",
      "Test performance client <shfl.private.federated_operation.FederatedDataNode object at 0x7ff717c3d470>: (0.23249158249158247, -0.02174482577940795)\n",
      "Test performance client <shfl.private.federated_operation.FederatedDataNode object at 0x7ff717c3d438>: (0.31582491582491584, 0.09222470727535859)\n",
      "Test performance client <shfl.private.federated_operation.FederatedDataNode object at 0x7ff717c3d160>: (0.2781986531986532, 0.03549899531145351)\n",
      "Test performance client <shfl.private.federated_operation.FederatedDataNode object at 0x7ff717c3d780>: (0.2297138047138047, -0.03851715525174182)\n",
      "Test performance client <shfl.private.federated_operation.FederatedDataNode object at 0x7ff717c3d898>: (0.2699915824915825, 0.02229174814235446)\n",
      "Global model test performance : (0.29452861952861953, 0.05759162303664933)\n",
      "\n",
      "\n",
      "\n"
     ]
    }
   ],
   "source": [
    "federated_government = shfl.federated_government.FederatedGovernment(model_builder, federated_data, aggregator)\n",
    "federated_government.run_rounds(n=2, test_data=test_data, test_label=test_labels)"
   ]
  }
 ],
 "metadata": {
  "kernelspec": {
   "display_name": "Sherpa_venvPy3",
   "language": "python",
   "name": "sherpa_venvpy3"
  },
  "language_info": {
   "codemirror_mode": {
    "name": "ipython",
    "version": 3
   },
   "file_extension": ".py",
   "mimetype": "text/x-python",
   "name": "python",
   "nbconvert_exporter": "python",
   "pygments_lexer": "ipython3",
   "version": "3.7.3"
  }
 },
 "nbformat": 4,
 "nbformat_minor": 4
}
