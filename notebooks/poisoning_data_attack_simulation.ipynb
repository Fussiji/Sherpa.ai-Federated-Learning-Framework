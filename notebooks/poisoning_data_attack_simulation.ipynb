{
 "cells": [
  {
   "cell_type": "markdown",
   "metadata": {
    "collapsed": true,
    "pycharm": {
     "name": "#%% md\n"
    }
   },
   "source": [
    "# Federated learning: Simulation of data poisoning attack\n",
    "\n",
    "In this notebook provide a simulation of a simple data poisoning federated attack. We use a simple first approach \n",
    "which consists on shuffling the training labels of some number of clients which become adversarial ones.\n",
    "\n",
    "The aim of this notebook is to present the class FederatedDataAttack implemented in [federated_attack.py](https://github.com/sherpaai/Sherpa.FL/blob/master/shfl/private/federated_attack.py) whose goal is to \n",
    "implement any attack on the federated data. For more information about basic federated learning concepts refers to [Basic Concepts Notebook](https://github.com/sherpaai/Sherpa.FL/blob/master/notebooks/basic_concepts.ipynb).\n",
    "\n",
    "For the simulation we use [Emnist](https://www.nist.gov/itl/products-and-services/emnist-dataset) Digits dataset."
   ]
  },
  {
   "cell_type": "code",
   "execution_count": 1,
   "metadata": {
    "pycharm": {
     "is_executing": false,
     "name": "#%%\n"
    }
   },
   "outputs": [
    {
     "name": "stderr",
     "output_type": "stream",
     "text": [
      "Using TensorFlow backend.\n",
      "/usr/local/anaconda3/lib/python3.7/site-packages/tensorflow/python/framework/dtypes.py:526: FutureWarning: Passing (type, 1) or '1type' as a synonym of type is deprecated; in a future version of numpy, it will be understood as (type, (1,)) / '(1,)type'.\n",
      "  _np_qint8 = np.dtype([(\"qint8\", np.int8, 1)])\n",
      "/usr/local/anaconda3/lib/python3.7/site-packages/tensorflow/python/framework/dtypes.py:527: FutureWarning: Passing (type, 1) or '1type' as a synonym of type is deprecated; in a future version of numpy, it will be understood as (type, (1,)) / '(1,)type'.\n",
      "  _np_quint8 = np.dtype([(\"quint8\", np.uint8, 1)])\n",
      "/usr/local/anaconda3/lib/python3.7/site-packages/tensorflow/python/framework/dtypes.py:528: FutureWarning: Passing (type, 1) or '1type' as a synonym of type is deprecated; in a future version of numpy, it will be understood as (type, (1,)) / '(1,)type'.\n",
      "  _np_qint16 = np.dtype([(\"qint16\", np.int16, 1)])\n",
      "/usr/local/anaconda3/lib/python3.7/site-packages/tensorflow/python/framework/dtypes.py:529: FutureWarning: Passing (type, 1) or '1type' as a synonym of type is deprecated; in a future version of numpy, it will be understood as (type, (1,)) / '(1,)type'.\n",
      "  _np_quint16 = np.dtype([(\"quint16\", np.uint16, 1)])\n",
      "/usr/local/anaconda3/lib/python3.7/site-packages/tensorflow/python/framework/dtypes.py:530: FutureWarning: Passing (type, 1) or '1type' as a synonym of type is deprecated; in a future version of numpy, it will be understood as (type, (1,)) / '(1,)type'.\n",
      "  _np_qint32 = np.dtype([(\"qint32\", np.int32, 1)])\n",
      "/usr/local/anaconda3/lib/python3.7/site-packages/tensorflow/python/framework/dtypes.py:535: FutureWarning: Passing (type, 1) or '1type' as a synonym of type is deprecated; in a future version of numpy, it will be understood as (type, (1,)) / '(1,)type'.\n",
      "  np_resource = np.dtype([(\"resource\", np.ubyte, 1)])\n"
     ]
    }
   ],
   "source": [
    "import shfl\n",
    "import numpy as np\n",
    "import random\n",
    "\n",
    "database = shfl.data_base.Emnist()\n",
    "train_data, train_labels, val_data, val_labels, test_data, test_labels = database.load_data()"
   ]
  },
  {
   "cell_type": "markdown",
   "metadata": {},
   "source": [
    "After that, we distribute the data among the client nodes using a non-iid distribution over 10\\% of the data. "
   ]
  },
  {
   "cell_type": "code",
   "execution_count": null,
   "metadata": {
    "pycharm": {
     "is_executing": false,
     "name": "#%%\n"
    }
   },
   "outputs": [],
   "source": [
    "noniid_distribution = shfl.data_distribution.NonIidDataDistribution(database)\n",
    "federated_data, test_data, test_labels = noniid_distribution.get_federated_data(num_nodes=20, percent=10)"
   ]
  },
  {
   "cell_type": "markdown",
   "metadata": {},
   "source": [
    "At this point, we are ready to apply some data attack to some nodes. For this simulation, we choose to apply data \n",
    "poisoning to the 20\\% of the nodes. For that purpose, we implement the inferface FederatedTransformation with a shuffling of the training labels of federated_data and create FederatedPoisoninigDataAttack, which implements FederatedDataAttack with a data poisoning in a certain percentage of the nodes. The full code is in [link]()."
   ]
  },
  {
   "cell_type": "code",
   "execution_count": null,
   "metadata": {},
   "outputs": [],
   "source": [
    "from shfl.private.federated_operation import FederatedTransformation\n",
    "from shfl.private.federated_attack import FederatedDataAttack\n",
    "\n",
    "random.seed(123)\n",
    "\n",
    "class ShuffleNode(FederatedTransformation):\n",
    "    def apply(self, labeled_data):\n",
    "        random.shuffle(labeled_data.label)\n",
    "\n",
    "class FederatedPoisoningDataAttack(FederatedDataAttack):\n",
    "    def __init__(self, percentage):\n",
    "        super().__init__()\n",
    "        self._percentage = percentage\n",
    "        self._adversaries = []\n",
    "\n",
    "    @property\n",
    "    def adversaries(self):\n",
    "        return self._adversaries\n",
    "\n",
    "    def apply_attack(self, federated_data):\n",
    "        num_nodes = federated_data.num_nodes()\n",
    "        list_nodes = np.arange(num_nodes)\n",
    "        self._adversaries = random.sample(list(list_nodes), k=int(self._percentage / 100 * num_nodes))\n",
    "        boolean_adversaries = [1 if x in self._adversaries else 0 for x in list_nodes]\n",
    "\n",
    "        for node, boolean in zip(federated_data, boolean_adversaries):\n",
    "            if boolean:\n",
    "                node.apply_data_transformation(ShuffleNode())\n"
   ]
  },
  {
   "cell_type": "markdown",
   "metadata": {},
   "source": [
    "We create a FederatedPoisoningDataAttack object with percentage = 20\\% and apply the attack over federated\\_data."
   ]
  },
  {
   "cell_type": "code",
   "execution_count": null,
   "metadata": {
    "pycharm": {
     "is_executing": false,
     "name": "#%%\n"
    }
   },
   "outputs": [],
   "source": [
    "simple_attack = FederatedPoisoningDataAttack(percentage=20)\n",
    "simple_attack.apply_attack(federated_data = federated_data)"
   ]
  },
  {
   "cell_type": "markdown",
   "metadata": {},
   "source": [
    "We can get the adversarial nodes in order to show the attack applied."
   ]
  },
  {
   "cell_type": "code",
   "execution_count": null,
   "metadata": {
    "pycharm": {
     "is_executing": false
    }
   },
   "outputs": [],
   "source": [
    "adversarial_nodes = simple_attack.adversaries\n",
    "adversarial_nodes"
   ]
  },
  {
   "cell_type": "markdown",
   "metadata": {},
   "source": [
    "In order to show the effect of the attack, we select one adversarial client and an index position and show the data and the label associated with this image. We change data access protection (see [FederatedData](https://github.com/sherpaai/Sherpa.FL/blob/master/shfl/private/federated_operation.py))  in order to access the data. Due to the nature of the data poisoning (random shuffle) it is possible that for some specific data the label does match, but in most cases it does not."
   ]
  },
  {
   "cell_type": "code",
   "execution_count": null,
   "metadata": {},
   "outputs": [],
   "source": [
    "import matplotlib.pyplot as plt\n",
    "from shfl.private.data import UnprotectedAccess\n",
    "\n",
    "adversarial_index = 0\n",
    "data_index = 10\n",
    "\n",
    "federated_data.configure_data_access(UnprotectedAccess())\n",
    "\n",
    "plt.imshow(federated_data[adversarial_index].query().data[data_index])\n",
    "print(federated_data[adversarial_index].query().label[data_index])"
   ]
  },
  {
   "cell_type": "markdown",
   "metadata": {},
   "source": [
    "At this point, we can train a FL model among these clients (adversarial and regular ones) using a specific aggregation operator. For more information please see [Basic Concepts Notebook](https://github.com/sherpaai/Sherpa.FL/blob/master/notebooks/basic_concepts.ipynb)."
   ]
  }
 ],
 "metadata": {
  "kernelspec": {
   "display_name": "Python 3",
   "language": "python",
   "name": "python3"
  },
  "language_info": {
   "codemirror_mode": {
    "name": "ipython",
    "version": 3
   },
   "file_extension": ".py",
   "mimetype": "text/x-python",
   "name": "python",
   "nbconvert_exporter": "python",
   "pygments_lexer": "ipython3",
   "version": "3.7.4"
  },
  "pycharm": {
   "stem_cell": {
    "cell_type": "raw",
    "metadata": {
     "collapsed": false
    },
    "source": []
   }
  }
 },
 "nbformat": 4,
 "nbformat_minor": 1
}
