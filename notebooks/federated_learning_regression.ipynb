{
 "cells": [
  {
   "cell_type": "markdown",
   "metadata": {},
   "source": [
    "# Federated learning: Regression\n",
    "\n",
    "In this notebook we are going to show how you can use a federated learning environment to create a regression model. In the notebook \"Federated learning: Simple experiment\" we explained the basic concepts of the framework, so now we will go slightly faster.\n",
    "\n",
    "Firts of all we load a regression dataset that the framework already includes to allow regression experiments."
   ]
  },
  {
   "cell_type": "code",
   "execution_count": 1,
   "metadata": {},
   "outputs": [
    {
     "name": "stderr",
     "output_type": "stream",
     "text": [
      "Using TensorFlow backend.\n"
     ]
    }
   ],
   "source": [
    "import shfl\n",
    "from shfl.data_base.california_housing import CaliforniaHousing\n",
    "\n",
    "database = CaliforniaHousing()\n",
    "train_data, train_labels, val_data, val_labels, test_data, test_labels = database.load_data()"
   ]
  },
  {
   "cell_type": "markdown",
   "metadata": {},
   "source": [
    "We are going to explore the data"
   ]
  },
  {
   "cell_type": "code",
   "execution_count": 2,
   "metadata": {},
   "outputs": [
    {
     "name": "stdout",
     "output_type": "stream",
     "text": [
      "Shape of train_data: (16512, 8)\n",
      "Shape of train_labels: (16512,)\n",
      "One sample features: [ 2.00000000e+00  3.00000000e+01  2.77388256e+00  1.10692375e+00\n",
      "  3.67800000e+03  3.22348817e+00  3.40900000e+01 -1.18310000e+02]\n",
      "One sample label: 2.406\n"
     ]
    }
   ],
   "source": [
    "print(\"Shape of train_data: \" + str(train_data.shape))\n",
    "print(\"Shape of train_labels: \" + str(train_labels.shape))\n",
    "print(\"One sample features: \" + str(train_data[0]))\n",
    "print(\"One sample label: \" + str(train_labels[0]))"
   ]
  },
  {
   "cell_type": "markdown",
   "metadata": {},
   "source": [
    "Federeted data generation:"
   ]
  },
  {
   "cell_type": "code",
   "execution_count": 3,
   "metadata": {},
   "outputs": [],
   "source": [
    "import shfl\n",
    "\n",
    "iid_distribution = shfl.data_distribution.IidDataDistribution(database)\n",
    "federated_data, test_data, test_label = iid_distribution.get_federated_data(\"hotels_california\", 20, percent=10)"
   ]
  },
  {
   "cell_type": "markdown",
   "metadata": {},
   "source": [
    "Model definition:"
   ]
  },
  {
   "cell_type": "code",
   "execution_count": 4,
   "metadata": {},
   "outputs": [],
   "source": [
    "import keras\n",
    "\n",
    "def model_builder():\n",
    "    # create model\n",
    "    model = keras.models.Sequential()\n",
    "    model.add(keras.layers.Dense(8, input_dim=8, kernel_initializer='normal', activation='relu'))\n",
    "    model.add(keras.layers.Dense(1, kernel_initializer='normal'))\n",
    "    \n",
    "    # Compile model\n",
    "    model.compile(loss='mean_squared_error', optimizer='adam', metrics=[\"mae\"])\n",
    "    \n",
    "    return shfl.model.DeepLearningModel(model)"
   ]
  },
  {
   "cell_type": "markdown",
   "metadata": {},
   "source": [
    "Federated environment definition:"
   ]
  },
  {
   "cell_type": "code",
   "execution_count": 5,
   "metadata": {},
   "outputs": [],
   "source": [
    "aggregator = shfl.federated_aggregator.AvgFedAggregator()\n",
    "federated_government = shfl.learning_approach.FederatedGovernment(model_builder, federated_data, aggregator)"
   ]
  },
  {
   "cell_type": "markdown",
   "metadata": {},
   "source": [
    "Reshaping data:"
   ]
  },
  {
   "cell_type": "code",
   "execution_count": 6,
   "metadata": {},
   "outputs": [],
   "source": [
    "import numpy as np\n",
    "\n",
    "class Reshape(shfl.private.FederatedTransformation):\n",
    "    \n",
    "    def apply(self, labeled_data):\n",
    "        labeled_data.label = np.reshape(labeled_data.label, (labeled_data.label.shape[0], 1))\n",
    "        \n",
    "shfl.private.federated_operation.apply_federated_transformation(federated_data, Reshape())"
   ]
  },
  {
   "cell_type": "markdown",
   "metadata": {},
   "source": [
    "Running experiment:"
   ]
  },
  {
   "cell_type": "code",
   "execution_count": 7,
   "metadata": {},
   "outputs": [
    {
     "name": "stdout",
     "output_type": "stream",
     "text": [
      "Accuracy round 0\n",
      "Test performance client <shfl.private.node.DataNode object at 0x1485e5d90>: [3.7208566212838936, 1.5233341455459595]\n",
      "Test performance client <shfl.private.node.DataNode object at 0x10f9e4150>: [4.207773434099301, 1.6796486377716064]\n",
      "Test performance client <shfl.private.node.DataNode object at 0x149166f50>: [4.00747069092684, 1.6168088912963867]\n",
      "Test performance client <shfl.private.node.DataNode object at 0x1297fda50>: [3.7033289190410645, 1.5174965858459473]\n",
      "Test performance client <shfl.private.node.DataNode object at 0x1297fd8d0>: [4.147247159203817, 1.6607636213302612]\n",
      "Test performance client <shfl.private.node.DataNode object at 0x1297fd1d0>: [4.038172195124072, 1.6265453100204468]\n",
      "Test performance client <shfl.private.node.DataNode object at 0x1297fd250>: [3.800459671390149, 1.5497686862945557]\n",
      "Test performance client <shfl.private.node.DataNode object at 0x1297fd3d0>: [3.6900354448214983, 1.5130497217178345]\n",
      "Test performance client <shfl.private.node.DataNode object at 0x1297fd650>: [3.649191832357599, 1.4994938373565674]\n",
      "Test performance client <shfl.private.node.DataNode object at 0x1297fd610>: [3.6903590851051864, 1.5130915641784668]\n",
      "Test performance client <shfl.private.node.DataNode object at 0x1297fd290>: [3.7377826650013297, 1.5289093255996704]\n",
      "Test performance client <shfl.private.node.DataNode object at 0x1297fded0>: [3.6756937965866205, 1.5083614587783813]\n",
      "Test performance client <shfl.private.node.DataNode object at 0x129806110>: [4.1989716781202215, 1.6768969297409058]\n",
      "Test performance client <shfl.private.node.DataNode object at 0x129806290>: [4.3056393242621605, 1.7097564935684204]\n",
      "Test performance client <shfl.private.node.DataNode object at 0x129806410>: [3.783479692399964, 1.5438653230667114]\n",
      "Test performance client <shfl.private.node.DataNode object at 0x129806590>: [3.9463836241138073, 1.5974183082580566]\n",
      "Test performance client <shfl.private.node.DataNode object at 0x129806710>: [3.6434890909712445, 1.4976446628570557]\n",
      "Test performance client <shfl.private.node.DataNode object at 0x129806890>: [4.055266624273256, 1.631840467453003]\n",
      "Test performance client <shfl.private.node.DataNode object at 0x129806a10>: [3.9316312046938164, 1.592592716217041]\n",
      "Test performance client <shfl.private.node.DataNode object at 0x129806b90>: [3.6523134874743084, 1.5005908012390137]\n",
      "Global model test performance : [3.871745092924251, 1.5731011629104614]\n",
      "\n",
      "\n",
      "\n",
      "Accuracy round 1\n",
      "Test performance client <shfl.private.node.DataNode object at 0x1485e5d90>: [2.461470829424008, 1.1421529054641724]\n",
      "Test performance client <shfl.private.node.DataNode object at 0x10f9e4150>: [2.465307498163031, 1.143122673034668]\n",
      "Test performance client <shfl.private.node.DataNode object at 0x149166f50>: [2.4668691657310307, 1.1435151100158691]\n",
      "Test performance client <shfl.private.node.DataNode object at 0x1297fda50>: [2.4621860759202825, 1.142232894897461]\n",
      "Test performance client <shfl.private.node.DataNode object at 0x1297fd8d0>: [2.5027708083160163, 1.1513835191726685]\n",
      "Test performance client <shfl.private.node.DataNode object at 0x1297fd1d0>: [2.4695629666942036, 1.1439915895462036]\n",
      "Test performance client <shfl.private.node.DataNode object at 0x1297fd250>: [2.461087422777516, 1.1420598030090332]\n",
      "Test performance client <shfl.private.node.DataNode object at 0x1297fd3d0>: [2.4627324555271355, 1.1424779891967773]\n",
      "Test performance client <shfl.private.node.DataNode object at 0x1297fd650>: [2.4636779829513196, 1.1425962448120117]\n",
      "Test performance client <shfl.private.node.DataNode object at 0x1297fd610>: [2.4654839778131294, 1.1431323289871216]\n",
      "Test performance client <shfl.private.node.DataNode object at 0x1297fd290>: [2.4630517146384068, 1.1425613164901733]\n",
      "Test performance client <shfl.private.node.DataNode object at 0x1297fded0>: [2.4623085232668145, 1.1423251628875732]\n",
      "Test performance client <shfl.private.node.DataNode object at 0x129806110>: [2.527479055315949, 1.156822919845581]\n",
      "Test performance client <shfl.private.node.DataNode object at 0x129806290>: [2.4823412673417913, 1.1466591358184814]\n",
      "Test performance client <shfl.private.node.DataNode object at 0x129806410>: [2.465676008268844, 1.143052577972412]\n",
      "Test performance client <shfl.private.node.DataNode object at 0x129806590>: [2.463854728743087, 1.142671823501587]\n",
      "Test performance client <shfl.private.node.DataNode object at 0x129806710>: [2.46581929044206, 1.1430671215057373]\n",
      "Test performance client <shfl.private.node.DataNode object at 0x129806890>: [2.4690507530241974, 1.1440834999084473]\n",
      "Test performance client <shfl.private.node.DataNode object at 0x129806a10>: [2.4777040537013564, 1.1457817554473877]\n",
      "Test performance client <shfl.private.node.DataNode object at 0x129806b90>: [2.465525222379108, 1.1429890394210815]\n",
      "Global model test performance : [2.4641770078230274, 1.1428226232528687]\n",
      "\n",
      "\n",
      "\n",
      "Accuracy round 2\n",
      "Test performance client <shfl.private.node.DataNode object at 0x1485e5d90>: [2.9708116073016972, 1.2504193782806396]\n",
      "Test performance client <shfl.private.node.DataNode object at 0x10f9e4150>: [3.0779315371846043, 1.271214246749878]\n",
      "Test performance client <shfl.private.node.DataNode object at 0x149166f50>: [2.935552024102026, 1.2433899641036987]\n",
      "Test performance client <shfl.private.node.DataNode object at 0x1297fda50>: [3.243141257485678, 1.3028678894042969]\n",
      "Test performance client <shfl.private.node.DataNode object at 0x1297fd8d0>: [2.498443049053813, 1.1514710187911987]\n",
      "Test performance client <shfl.private.node.DataNode object at 0x1297fd1d0>: [2.7221398612325505, 1.1997219324111938]\n",
      "Test performance client <shfl.private.node.DataNode object at 0x1297fd250>: [2.993621266165445, 1.2548993825912476]\n",
      "Test performance client <shfl.private.node.DataNode object at 0x1297fd3d0>: [2.957844231479852, 1.247740387916565]\n",
      "Test performance client <shfl.private.node.DataNode object at 0x1297fd650>: [3.0113214818082112, 1.2583433389663696]\n",
      "Test performance client <shfl.private.node.DataNode object at 0x1297fd610>: [3.0531901703324427, 1.2663135528564453]\n",
      "Test performance client <shfl.private.node.DataNode object at 0x1297fd290>: [3.1458325349083243, 1.2843083143234253]\n",
      "Test performance client <shfl.private.node.DataNode object at 0x1297fded0>: [3.070475973824198, 1.2698602676391602]\n",
      "Test performance client <shfl.private.node.DataNode object at 0x129806110>: [2.4210245997406714, 1.1322230100631714]\n",
      "Test performance client <shfl.private.node.DataNode object at 0x129806290>: [2.6092216876126075, 1.176040768623352]\n",
      "Test performance client <shfl.private.node.DataNode object at 0x129806410>: [3.2575526791949603, 1.3055224418640137]\n",
      "Test performance client <shfl.private.node.DataNode object at 0x129806590>: [2.6679962439130445, 1.1882789134979248]\n",
      "Test performance client <shfl.private.node.DataNode object at 0x129806710>: [3.229357588198758, 1.3001972436904907]\n",
      "Test performance client <shfl.private.node.DataNode object at 0x129806890>: [2.903797003649926, 1.2368217706680298]\n",
      "Test performance client <shfl.private.node.DataNode object at 0x129806a10>: [2.6190241362697395, 1.178106427192688]\n",
      "Test performance client <shfl.private.node.DataNode object at 0x129806b90>: [3.3242835203806558, 1.3182264566421509]\n",
      "Global model test performance : [2.889869113301122, 1.2341890335083008]\n",
      "\n",
      "\n",
      "\n"
     ]
    }
   ],
   "source": [
    "test_label = np.reshape(test_label, (test_label.shape[0], 1))\n",
    "federated_government.run_rounds(3, test_data, test_label)"
   ]
  },
  {
   "cell_type": "code",
   "execution_count": null,
   "metadata": {},
   "outputs": [],
   "source": []
  }
 ],
 "metadata": {
  "kernelspec": {
   "display_name": "Python 3",
   "language": "python",
   "name": "python3"
  },
  "language_info": {
   "codemirror_mode": {
    "name": "ipython",
    "version": 3
   },
   "file_extension": ".py",
   "mimetype": "text/x-python",
   "name": "python",
   "nbconvert_exporter": "python",
   "pygments_lexer": "ipython3",
   "version": "3.7.4"
  }
 },
 "nbformat": 4,
 "nbformat_minor": 2
}
