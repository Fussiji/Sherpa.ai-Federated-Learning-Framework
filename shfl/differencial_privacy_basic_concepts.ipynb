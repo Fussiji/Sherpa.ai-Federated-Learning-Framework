{
 "cells": [
  {
   "cell_type": "code",
   "execution_count": 1,
   "metadata": {},
   "outputs": [],
   "source": [
    "%load_ext autoreload\n",
    "%autoreload 2"
   ]
  },
  {
   "cell_type": "code",
   "execution_count": 2,
   "metadata": {},
   "outputs": [
    {
     "name": "stdout",
     "output_type": "stream",
     "text": [
      "Requirement already satisfied: emnist in /Users/g.gonzalez/opt/anaconda3/envs/pysyft/lib/python3.7/site-packages (0.0)\n",
      "Requirement already satisfied: numpy in /Users/g.gonzalez/opt/anaconda3/envs/pysyft/lib/python3.7/site-packages (from emnist) (1.18.1)\n",
      "Requirement already satisfied: tqdm in /Users/g.gonzalez/opt/anaconda3/envs/pysyft/lib/python3.7/site-packages (from emnist) (4.41.1)\n",
      "Requirement already satisfied: requests in /Users/g.gonzalez/opt/anaconda3/envs/pysyft/lib/python3.7/site-packages (from emnist) (2.22.0)\n",
      "Requirement already satisfied: certifi>=2017.4.17 in /Users/g.gonzalez/opt/anaconda3/envs/pysyft/lib/python3.7/site-packages (from requests->emnist) (2019.11.28)\n",
      "Requirement already satisfied: idna<2.9,>=2.5 in /Users/g.gonzalez/opt/anaconda3/envs/pysyft/lib/python3.7/site-packages (from requests->emnist) (2.8)\n",
      "Requirement already satisfied: urllib3!=1.25.0,!=1.25.1,<1.26,>=1.21.1 in /Users/g.gonzalez/opt/anaconda3/envs/pysyft/lib/python3.7/site-packages (from requests->emnist) (1.25.8)\n",
      "Requirement already satisfied: chardet<3.1.0,>=3.0.2 in /Users/g.gonzalez/opt/anaconda3/envs/pysyft/lib/python3.7/site-packages (from requests->emnist) (3.0.4)\n",
      "Requirement already satisfied: matplotlib in /Users/g.gonzalez/opt/anaconda3/envs/pysyft/lib/python3.7/site-packages (3.1.2)\n",
      "Requirement already satisfied: cycler>=0.10 in /Users/g.gonzalez/opt/anaconda3/envs/pysyft/lib/python3.7/site-packages (from matplotlib) (0.10.0)\n",
      "Requirement already satisfied: python-dateutil>=2.1 in /Users/g.gonzalez/opt/anaconda3/envs/pysyft/lib/python3.7/site-packages (from matplotlib) (2.8.1)\n",
      "Requirement already satisfied: numpy>=1.11 in /Users/g.gonzalez/opt/anaconda3/envs/pysyft/lib/python3.7/site-packages (from matplotlib) (1.18.1)\n",
      "Requirement already satisfied: kiwisolver>=1.0.1 in /Users/g.gonzalez/opt/anaconda3/envs/pysyft/lib/python3.7/site-packages (from matplotlib) (1.1.0)\n",
      "Requirement already satisfied: pyparsing!=2.0.4,!=2.1.2,!=2.1.6,>=2.0.1 in /Users/g.gonzalez/opt/anaconda3/envs/pysyft/lib/python3.7/site-packages (from matplotlib) (2.4.6)\n",
      "Requirement already satisfied: six in /Users/g.gonzalez/opt/anaconda3/envs/pysyft/lib/python3.7/site-packages (from cycler>=0.10->matplotlib) (1.13.0)\n",
      "Requirement already satisfied: setuptools in /Users/g.gonzalez/opt/anaconda3/envs/pysyft/lib/python3.7/site-packages (from kiwisolver>=1.0.1->matplotlib) (44.0.0.post20200106)\n",
      "Requirement already satisfied: keras in /Users/g.gonzalez/opt/anaconda3/envs/pysyft/lib/python3.7/site-packages (2.3.1)\n",
      "Requirement already satisfied: keras-applications>=1.0.6 in /Users/g.gonzalez/opt/anaconda3/envs/pysyft/lib/python3.7/site-packages (from keras) (1.0.8)\n",
      "Requirement already satisfied: pyyaml in /Users/g.gonzalez/opt/anaconda3/envs/pysyft/lib/python3.7/site-packages (from keras) (5.3)\n",
      "Requirement already satisfied: six>=1.9.0 in /Users/g.gonzalez/opt/anaconda3/envs/pysyft/lib/python3.7/site-packages (from keras) (1.13.0)\n",
      "Requirement already satisfied: keras-preprocessing>=1.0.5 in /Users/g.gonzalez/opt/anaconda3/envs/pysyft/lib/python3.7/site-packages (from keras) (1.1.0)\n",
      "Requirement already satisfied: scipy>=0.14 in /Users/g.gonzalez/opt/anaconda3/envs/pysyft/lib/python3.7/site-packages (from keras) (1.4.1)\n",
      "Requirement already satisfied: numpy>=1.9.1 in /Users/g.gonzalez/opt/anaconda3/envs/pysyft/lib/python3.7/site-packages (from keras) (1.18.1)\n",
      "Requirement already satisfied: h5py in /Users/g.gonzalez/opt/anaconda3/envs/pysyft/lib/python3.7/site-packages (from keras) (2.10.0)\n",
      "Requirement already satisfied: tensorflow in /Users/g.gonzalez/opt/anaconda3/envs/pysyft/lib/python3.7/site-packages (2.1.0)\n",
      "Requirement already satisfied: opt-einsum>=2.3.2 in /Users/g.gonzalez/opt/anaconda3/envs/pysyft/lib/python3.7/site-packages (from tensorflow) (3.1.0)\n",
      "Requirement already satisfied: tensorboard<2.2.0,>=2.1.0 in /Users/g.gonzalez/opt/anaconda3/envs/pysyft/lib/python3.7/site-packages (from tensorflow) (2.1.0)\n",
      "Requirement already satisfied: wheel>=0.26; python_version >= \"3\" in /Users/g.gonzalez/opt/anaconda3/envs/pysyft/lib/python3.7/site-packages (from tensorflow) (0.33.6)\n",
      "Requirement already satisfied: termcolor>=1.1.0 in /Users/g.gonzalez/opt/anaconda3/envs/pysyft/lib/python3.7/site-packages (from tensorflow) (1.1.0)\n",
      "Requirement already satisfied: tensorflow-estimator<2.2.0,>=2.1.0rc0 in /Users/g.gonzalez/opt/anaconda3/envs/pysyft/lib/python3.7/site-packages (from tensorflow) (2.1.0)\n",
      "Requirement already satisfied: gast==0.2.2 in /Users/g.gonzalez/opt/anaconda3/envs/pysyft/lib/python3.7/site-packages (from tensorflow) (0.2.2)\n",
      "Requirement already satisfied: keras-preprocessing>=1.1.0 in /Users/g.gonzalez/opt/anaconda3/envs/pysyft/lib/python3.7/site-packages (from tensorflow) (1.1.0)\n",
      "Requirement already satisfied: grpcio>=1.8.6 in /Users/g.gonzalez/opt/anaconda3/envs/pysyft/lib/python3.7/site-packages (from tensorflow) (1.26.0)\n",
      "Requirement already satisfied: absl-py>=0.7.0 in /Users/g.gonzalez/opt/anaconda3/envs/pysyft/lib/python3.7/site-packages (from tensorflow) (0.9.0)\n",
      "Requirement already satisfied: google-pasta>=0.1.6 in /Users/g.gonzalez/opt/anaconda3/envs/pysyft/lib/python3.7/site-packages (from tensorflow) (0.1.8)\n",
      "Requirement already satisfied: protobuf>=3.8.0 in /Users/g.gonzalez/opt/anaconda3/envs/pysyft/lib/python3.7/site-packages (from tensorflow) (3.11.2)\n",
      "Requirement already satisfied: numpy<2.0,>=1.16.0 in /Users/g.gonzalez/opt/anaconda3/envs/pysyft/lib/python3.7/site-packages (from tensorflow) (1.18.1)\n",
      "Requirement already satisfied: six>=1.12.0 in /Users/g.gonzalez/opt/anaconda3/envs/pysyft/lib/python3.7/site-packages (from tensorflow) (1.13.0)\n",
      "Requirement already satisfied: keras-applications>=1.0.8 in /Users/g.gonzalez/opt/anaconda3/envs/pysyft/lib/python3.7/site-packages (from tensorflow) (1.0.8)\n",
      "Requirement already satisfied: wrapt>=1.11.1 in /Users/g.gonzalez/opt/anaconda3/envs/pysyft/lib/python3.7/site-packages (from tensorflow) (1.11.2)\n",
      "Requirement already satisfied: astor>=0.6.0 in /Users/g.gonzalez/opt/anaconda3/envs/pysyft/lib/python3.7/site-packages (from tensorflow) (0.8.1)\n",
      "Requirement already satisfied: scipy==1.4.1; python_version >= \"3\" in /Users/g.gonzalez/opt/anaconda3/envs/pysyft/lib/python3.7/site-packages (from tensorflow) (1.4.1)\n",
      "Requirement already satisfied: requests<3,>=2.21.0 in /Users/g.gonzalez/opt/anaconda3/envs/pysyft/lib/python3.7/site-packages (from tensorboard<2.2.0,>=2.1.0->tensorflow) (2.22.0)\n",
      "Requirement already satisfied: werkzeug>=0.11.15 in /Users/g.gonzalez/opt/anaconda3/envs/pysyft/lib/python3.7/site-packages (from tensorboard<2.2.0,>=2.1.0->tensorflow) (0.16.0)\n",
      "Requirement already satisfied: setuptools>=41.0.0 in /Users/g.gonzalez/opt/anaconda3/envs/pysyft/lib/python3.7/site-packages (from tensorboard<2.2.0,>=2.1.0->tensorflow) (44.0.0.post20200106)\n",
      "Requirement already satisfied: markdown>=2.6.8 in /Users/g.gonzalez/opt/anaconda3/envs/pysyft/lib/python3.7/site-packages (from tensorboard<2.2.0,>=2.1.0->tensorflow) (3.1.1)\n",
      "Requirement already satisfied: google-auth-oauthlib<0.5,>=0.4.1 in /Users/g.gonzalez/opt/anaconda3/envs/pysyft/lib/python3.7/site-packages (from tensorboard<2.2.0,>=2.1.0->tensorflow) (0.4.1)\n",
      "Requirement already satisfied: google-auth<2,>=1.6.3 in /Users/g.gonzalez/opt/anaconda3/envs/pysyft/lib/python3.7/site-packages (from tensorboard<2.2.0,>=2.1.0->tensorflow) (1.11.0)\n",
      "Requirement already satisfied: h5py in /Users/g.gonzalez/opt/anaconda3/envs/pysyft/lib/python3.7/site-packages (from keras-applications>=1.0.8->tensorflow) (2.10.0)\n",
      "Requirement already satisfied: urllib3!=1.25.0,!=1.25.1,<1.26,>=1.21.1 in /Users/g.gonzalez/opt/anaconda3/envs/pysyft/lib/python3.7/site-packages (from requests<3,>=2.21.0->tensorboard<2.2.0,>=2.1.0->tensorflow) (1.25.8)\n",
      "Requirement already satisfied: chardet<3.1.0,>=3.0.2 in /Users/g.gonzalez/opt/anaconda3/envs/pysyft/lib/python3.7/site-packages (from requests<3,>=2.21.0->tensorboard<2.2.0,>=2.1.0->tensorflow) (3.0.4)\n",
      "Requirement already satisfied: certifi>=2017.4.17 in /Users/g.gonzalez/opt/anaconda3/envs/pysyft/lib/python3.7/site-packages (from requests<3,>=2.21.0->tensorboard<2.2.0,>=2.1.0->tensorflow) (2019.11.28)\n",
      "Requirement already satisfied: idna<2.9,>=2.5 in /Users/g.gonzalez/opt/anaconda3/envs/pysyft/lib/python3.7/site-packages (from requests<3,>=2.21.0->tensorboard<2.2.0,>=2.1.0->tensorflow) (2.8)\n",
      "Requirement already satisfied: requests-oauthlib>=0.7.0 in /Users/g.gonzalez/opt/anaconda3/envs/pysyft/lib/python3.7/site-packages (from google-auth-oauthlib<0.5,>=0.4.1->tensorboard<2.2.0,>=2.1.0->tensorflow) (1.3.0)\n",
      "Requirement already satisfied: rsa<4.1,>=3.1.4 in /Users/g.gonzalez/opt/anaconda3/envs/pysyft/lib/python3.7/site-packages (from google-auth<2,>=1.6.3->tensorboard<2.2.0,>=2.1.0->tensorflow) (4.0)\n",
      "Requirement already satisfied: cachetools<5.0,>=2.0.0 in /Users/g.gonzalez/opt/anaconda3/envs/pysyft/lib/python3.7/site-packages (from google-auth<2,>=1.6.3->tensorboard<2.2.0,>=2.1.0->tensorflow) (4.0.0)\n",
      "Requirement already satisfied: pyasn1-modules>=0.2.1 in /Users/g.gonzalez/opt/anaconda3/envs/pysyft/lib/python3.7/site-packages (from google-auth<2,>=1.6.3->tensorboard<2.2.0,>=2.1.0->tensorflow) (0.2.8)\n",
      "Requirement already satisfied: oauthlib>=3.0.0 in /Users/g.gonzalez/opt/anaconda3/envs/pysyft/lib/python3.7/site-packages (from requests-oauthlib>=0.7.0->google-auth-oauthlib<0.5,>=0.4.1->tensorboard<2.2.0,>=2.1.0->tensorflow) (3.1.0)\n",
      "Requirement already satisfied: pyasn1>=0.1.3 in /Users/g.gonzalez/opt/anaconda3/envs/pysyft/lib/python3.7/site-packages (from rsa<4.1,>=3.1.4->google-auth<2,>=1.6.3->tensorboard<2.2.0,>=2.1.0->tensorflow) (0.4.8)\n"
     ]
    },
    {
     "name": "stdout",
     "output_type": "stream",
     "text": [
      "Requirement already satisfied: torch in /Users/g.gonzalez/opt/anaconda3/envs/pysyft/lib/python3.7/site-packages (1.3.0)\n",
      "Requirement already satisfied: numpy in /Users/g.gonzalez/opt/anaconda3/envs/pysyft/lib/python3.7/site-packages (from torch) (1.18.1)\n",
      "Requirement already satisfied: sklearn in /Users/g.gonzalez/opt/anaconda3/envs/pysyft/lib/python3.7/site-packages (0.0)\n",
      "Requirement already satisfied: scikit-learn in /Users/g.gonzalez/opt/anaconda3/envs/pysyft/lib/python3.7/site-packages (from sklearn) (0.22.1)\n",
      "Requirement already satisfied: numpy>=1.11.0 in /Users/g.gonzalez/opt/anaconda3/envs/pysyft/lib/python3.7/site-packages (from scikit-learn->sklearn) (1.18.1)\n",
      "Requirement already satisfied: scipy>=0.17.0 in /Users/g.gonzalez/opt/anaconda3/envs/pysyft/lib/python3.7/site-packages (from scikit-learn->sklearn) (1.4.1)\n",
      "Requirement already satisfied: joblib>=0.11 in /Users/g.gonzalez/opt/anaconda3/envs/pysyft/lib/python3.7/site-packages (from scikit-learn->sklearn) (0.14.1)\n"
     ]
    }
   ],
   "source": [
    "import sys\n",
    "!{sys.executable} -m pip install emnist\n",
    "!{sys.executable} -m pip install matplotlib\n",
    "!{sys.executable} -m pip install keras\n",
    "!{sys.executable} -m pip install tensorflow\n",
    "!{sys.executable} -m pip install torch\n",
    "!{sys.executable} -m pip install sklearn"
   ]
  },
  {
   "cell_type": "code",
   "execution_count": 3,
   "metadata": {},
   "outputs": [],
   "source": [
    "import numpy as np\n",
    "\n",
    "def get_binary_vector_with_mean(mean, size):\n",
    "    array_ones = np.ones((int(mean * size), 1))\n",
    "    array_zeros = np.zeros((size - (int(mean * size)), 1))\n",
    "    array = np.concatenate((array_ones, array_zeros), axis = 0)\n",
    "    np.random.shuffle(array)\n",
    "    return array"
   ]
  },
  {
   "cell_type": "code",
   "execution_count": 4,
   "metadata": {},
   "outputs": [
    {
     "name": "stdout",
     "output_type": "stream",
     "text": [
      "10000\n",
      "0.6\n"
     ]
    }
   ],
   "source": [
    "from shfl.core import data\n",
    "\n",
    "array = get_binary_vector_with_mean(0.6, 10000)\n",
    "print(len(array))\n",
    "print(np.mean(array))"
   ]
  },
  {
   "cell_type": "code",
   "execution_count": 5,
   "metadata": {},
   "outputs": [],
   "source": [
    "from shfl.core.query import Query\n",
    "\n",
    "class RandomizedQuery(Query):\n",
    "    def get(self, array):\n",
    "        coin_flip = np.random.rand()\n",
    "        if (coin_flip > 0.5):\n",
    "            return array\n",
    "        second_coin_flip = np.random.rand()\n",
    "        if (second_coin_flip > 0.5):\n",
    "            return np.array([[1.0]])\n",
    "        return np.array([[0.0]])"
   ]
  },
  {
   "cell_type": "code",
   "execution_count": 6,
   "metadata": {},
   "outputs": [],
   "source": [
    "import core.federated_operation\n",
    "\n",
    "def diff_privacy_mean_test(mean, data_size):\n",
    "    array = get_binary_vector_with_mean(mean, data_size)\n",
    "    federated_array = data.federate_array(\"my_federated_data\", array, data_size)\n",
    "    result = core.federated_operation.query_federated_data(federated_array, RandomizedQuery(), \"my_federated_data\")\n",
    "    prob_head = 0.5\n",
    "    p1_given_1 = prob_head + (1 - prob_head) * prob_head\n",
    "    p1_given_0 = (1 - prob_head) * prob_head\n",
    "    \n",
    "    noise_removed_result = (np.mean(result) - p1_given_0)/(p1_given_1 - p1_given_0)\n",
    "    \n",
    "    print(\"Generated binary vector with mean: \" + str(np.mean(array)))\n",
    "    print(\"Differencial query mean result: \" + str(np.mean(result)))\n",
    "    print(\"Differencial query removing noise: \" + str(noise_removed_result))\n",
    "    print (\"\\n\")"
   ]
  },
  {
   "cell_type": "code",
   "execution_count": 7,
   "metadata": {},
   "outputs": [
    {
     "name": "stdout",
     "output_type": "stream",
     "text": [
      "Generated binary vector with mean: 0.8\n",
      "Differencial query mean result: 0.9\n",
      "Differencial query removing noise: 1.3\n",
      "\n",
      "\n",
      "Generated binary vector with mean: 0.8\n",
      "Differencial query mean result: 0.6\n",
      "Differencial query removing noise: 0.7\n",
      "\n",
      "\n",
      "Generated binary vector with mean: 0.8\n",
      "Differencial query mean result: 0.661\n",
      "Differencial query removing noise: 0.8220000000000001\n",
      "\n",
      "\n",
      "Generated binary vector with mean: 0.8\n",
      "Differencial query mean result: 0.6438\n",
      "Differencial query removing noise: 0.7876000000000001\n",
      "\n",
      "\n",
      "Generated binary vector with mean: 0.8\n",
      "Differencial query mean result: 0.64984\n",
      "Differencial query removing noise: 0.79968\n",
      "\n",
      "\n",
      "Generated binary vector with mean: 0.8\n",
      "Differencial query mean result: 0.649946\n",
      "Differencial query removing noise: 0.799892\n",
      "\n",
      "\n"
     ]
    }
   ],
   "source": [
    "diff_privacy_mean_test(0.8, 10)\n",
    "diff_privacy_mean_test(0.8, 100)\n",
    "diff_privacy_mean_test(0.8, 1000)\n",
    "diff_privacy_mean_test(0.8, 10000)\n",
    "diff_privacy_mean_test(0.8, 100000)\n",
    "diff_privacy_mean_test(0.8, 1000000)"
   ]
  },
  {
   "cell_type": "code",
   "execution_count": null,
   "metadata": {},
   "outputs": [],
   "source": []
  }
 ],
 "metadata": {
  "kernelspec": {
   "display_name": "Python 3",
   "language": "python",
   "name": "python3"
  },
  "language_info": {
   "codemirror_mode": {
    "name": "ipython",
    "version": 3
   },
   "file_extension": ".py",
   "mimetype": "text/x-python",
   "name": "python",
   "nbconvert_exporter": "python",
   "pygments_lexer": "ipython3",
   "version": "3.7.6"
  }
 },
 "nbformat": 4,
 "nbformat_minor": 2
}
